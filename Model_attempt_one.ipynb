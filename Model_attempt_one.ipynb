{
 "cells": [
  {
   "cell_type": "code",
   "execution_count": 35,
   "id": "c0312718-b38d-4340-8f4d-9582896d236f",
   "metadata": {
    "scrolled": true
   },
   "outputs": [
    {
     "name": "stderr",
     "output_type": "stream",
     "text": [
      "\u001b[32m\u001b[1m   Resolving\u001b[22m\u001b[39m package versions...\n",
      "\u001b[32m\u001b[1m  No Changes\u001b[22m\u001b[39m to `~/.julia/environments/v1.10/Project.toml`\n",
      "\u001b[32m\u001b[1m  No Changes\u001b[22m\u001b[39m to `~/.julia/environments/v1.10/Manifest.toml`\n"
     ]
    }
   ],
   "source": [
    "using Pkg\n",
    "Pkg.add(\"NLsolve\")"
   ]
  },
  {
   "cell_type": "code",
   "execution_count": 36,
   "id": "f3d972f8-3667-4e69-9b63-b1044909a8e8",
   "metadata": {},
   "outputs": [],
   "source": [
    "using LinearAlgebra, NLsolve"
   ]
  },
  {
   "cell_type": "code",
   "execution_count": null,
   "id": "4ebbe287-c1b2-4c1e-a1f0-2e7a01dbed2f",
   "metadata": {},
   "outputs": [],
   "source": []
  },
  {
   "cell_type": "code",
   "execution_count": 38,
   "id": "f82dbe31-73e8-40ed-8527-7324029781d7",
   "metadata": {},
   "outputs": [
    {
     "data": {
      "text/plain": [
       "(4.2637, 0.3, 0.8203, 2.4394, -0.058, 0.04, 0.0001, 0.1063)"
      ]
     },
     "execution_count": 38,
     "metadata": {},
     "output_type": "execute_result"
    }
   ],
   "source": [
    "global params=(\n",
    "    4.2637, #A\n",
    "    0.3,    #α\n",
    "    0.8203, #β\n",
    "    2.4394, #κ\n",
    "    -0.058, #ρ\n",
    "    0.04,   #ν\n",
    "    0.0001, #θ\n",
    "    0.1063) #χ"
   ]
  },
  {
   "cell_type": "code",
   "execution_count": 39,
   "id": "18fa0c68-0e24-46d7-b8d2-5cd69afb3d8a",
   "metadata": {},
   "outputs": [
    {
     "data": {
      "text/plain": [
       "output (generic function with 1 method)"
      ]
     },
     "execution_count": 39,
     "metadata": {},
     "output_type": "execute_result"
    }
   ],
   "source": [
    "function output(K,Lf,Lr,E)\n",
    "    A=params[1]\n",
    "    α=params[2]\n",
    "    κ=params[4]\n",
    "    ρ=params[5]\n",
    "    ν=params[6]\n",
    "    χ=params[8]\n",
    "\n",
    "    capital_share=K^α\n",
    "    energy_share=(κ*Lf^ρ+Lr^ρ)^(ν/ρ)\n",
    "    other_labour=(1-Lf-Lr)^(1-α-ν)\n",
    "    damage=ℯ^(-χ*E)\n",
    "    \n",
    "    Y=A*capital_share*energy_share*other_labour*damage\n",
    "    return Y\n",
    "end"
   ]
  },
  {
   "cell_type": "code",
   "execution_count": 40,
   "id": "ad48ee94-3dc6-4170-ab95-4277b7d6c350",
   "metadata": {},
   "outputs": [],
   "source": [
    "#test\n",
    "#output(0.2461,0.03995,0.0172,0.0)"
   ]
  },
  {
   "cell_type": "code",
   "execution_count": 41,
   "id": "38139b4c-9fb4-4de1-a307-24992d2c7158",
   "metadata": {},
   "outputs": [
    {
     "data": {
      "text/plain": [
       "consumption (generic function with 1 method)"
      ]
     },
     "execution_count": 41,
     "metadata": {},
     "output_type": "execute_result"
    }
   ],
   "source": [
    "function consumption(Y)\n",
    "    α=params[2]\n",
    "    β=params[3]\n",
    "\n",
    "    C=(1-α*β)*Y\n",
    "    return C\n",
    "end"
   ]
  },
  {
   "cell_type": "code",
   "execution_count": 42,
   "id": "ecb2f472-b99b-45cf-8518-62004b5727f4",
   "metadata": {},
   "outputs": [],
   "source": [
    "#test\n",
    "#consumption(1.0)"
   ]
  },
  {
   "cell_type": "code",
   "execution_count": 43,
   "id": "92d1d227-f379-4d5d-9a4b-a89f2f047c72",
   "metadata": {},
   "outputs": [
    {
     "data": {
      "text/plain": [
       "capital_plus (generic function with 1 method)"
      ]
     },
     "execution_count": 43,
     "metadata": {},
     "output_type": "execute_result"
    }
   ],
   "source": [
    "function capital_plus(Y,C)\n",
    "    Kplus=Y-C\n",
    "    return Kplus\n",
    "end"
   ]
  },
  {
   "cell_type": "code",
   "execution_count": 44,
   "id": "bbfd7c62-0579-4491-811b-1dbe721b4550",
   "metadata": {},
   "outputs": [],
   "source": [
    "#test\n",
    "#capital_plus(1.0,0.7539)"
   ]
  },
  {
   "cell_type": "code",
   "execution_count": 45,
   "id": "df63627e-c716-4a1f-b1cf-a6dbc6d95560",
   "metadata": {},
   "outputs": [
    {
     "data": {
      "text/plain": [
       "fossil_labour (generic function with 1 method)"
      ]
     },
     "execution_count": 45,
     "metadata": {},
     "output_type": "execute_result"
    }
   ],
   "source": [
    "function fossil_labour()\n",
    "    α=params[2]\n",
    "    κ=params[4]\n",
    "    ρ=params[5]\n",
    "    ν=params[6]\n",
    "\n",
    "    Lf=ν/((1-α)*(1+κ^(1/(ρ-1))))\n",
    "    return Lf\n",
    "end"
   ]
  },
  {
   "cell_type": "code",
   "execution_count": 46,
   "id": "39d12875-849e-472e-8590-18b15e699f58",
   "metadata": {},
   "outputs": [
    {
     "data": {
      "text/plain": [
       "emissions_plus (generic function with 1 method)"
      ]
     },
     "execution_count": 46,
     "metadata": {},
     "output_type": "execute_result"
    }
   ],
   "source": [
    "function emissions_plus(E,Lf)\n",
    "\n",
    "    e_plus=E+Lf\n",
    "    return e_plus\n",
    "end"
   ]
  },
  {
   "cell_type": "code",
   "execution_count": 47,
   "id": "42f30387-f897-4621-9af8-e60d786823be",
   "metadata": {},
   "outputs": [],
   "source": [
    "#test\n",
    "#fossil_labour()"
   ]
  },
  {
   "cell_type": "code",
   "execution_count": 48,
   "id": "f9757467-75eb-49d7-8401-419b9a5cd5fc",
   "metadata": {},
   "outputs": [
    {
     "data": {
      "text/plain": [
       "renew_labour (generic function with 1 method)"
      ]
     },
     "execution_count": 48,
     "metadata": {},
     "output_type": "execute_result"
    }
   ],
   "source": [
    "function renew_labour(Lf)\n",
    "    κ=params[4]\n",
    "    ρ=params[5]\n",
    "\n",
    "    Lr=Lf*(κ^(1/(ρ-1)))\n",
    "    return Lr\n",
    "end"
   ]
  },
  {
   "cell_type": "code",
   "execution_count": 49,
   "id": "db50e4f9-9431-40c7-ae33-bf3163b68962",
   "metadata": {},
   "outputs": [],
   "source": [
    "#test\n",
    "#renew_labour(fossil_labour())"
   ]
  },
  {
   "cell_type": "code",
   "execution_count": 50,
   "id": "2dce15d3-f52c-4596-9fa9-8ac5f98808c6",
   "metadata": {},
   "outputs": [
    {
     "data": {
      "text/plain": [
       "mpl (generic function with 1 method)"
      ]
     },
     "execution_count": 50,
     "metadata": {},
     "output_type": "execute_result"
    }
   ],
   "source": [
    "function mpl(Y,Lf,Lr)\n",
    "    α=params[2]\n",
    "    ν=params[6]\n",
    "\n",
    "    MPL=(1-α-ν)*(Y/(1-Lf-Lr))\n",
    "    return MPL\n",
    "end"
   ]
  },
  {
   "cell_type": "code",
   "execution_count": 51,
   "id": "8a915c66-dc32-45bb-9fd5-bd8e7791570a",
   "metadata": {},
   "outputs": [],
   "source": [
    "#test\n",
    "#mpl(1.0,0.03995,0.0172)"
   ]
  },
  {
   "cell_type": "code",
   "execution_count": 52,
   "id": "3cc7a4b5-3265-479d-9e29-8b422094c79b",
   "metadata": {},
   "outputs": [
    {
     "data": {
      "text/plain": [
       "mpl_f (generic function with 1 method)"
      ]
     },
     "execution_count": 52,
     "metadata": {},
     "output_type": "execute_result"
    }
   ],
   "source": [
    "function mpl_f(Y,Lf,Lr)\n",
    "    κ=params[4]\n",
    "    ρ=params[5]\n",
    "    ν=params[6]\n",
    "\n",
    "    MPL_f=ν*κ*(Lf^(ρ-1))*(Y/(κ*(Lf^ρ)+(Lr^ρ)))\n",
    "    return MPL_f\n",
    "end"
   ]
  },
  {
   "cell_type": "code",
   "execution_count": 53,
   "id": "eb925e06-a7aa-4d9e-ad8e-86ba0bdea9e8",
   "metadata": {},
   "outputs": [],
   "source": [
    "#test\n",
    "#mpl_f(1.0,0.03995,0.0172)"
   ]
  },
  {
   "cell_type": "code",
   "execution_count": 54,
   "id": "1c538578-f395-4e3d-b811-3bb06dd1e284",
   "metadata": {},
   "outputs": [
    {
     "data": {
      "text/plain": [
       "mpl_r (generic function with 1 method)"
      ]
     },
     "execution_count": 54,
     "metadata": {},
     "output_type": "execute_result"
    }
   ],
   "source": [
    "function mpl_r(Y,Lf,Lr)\n",
    "    κ=params[4]\n",
    "    ρ=params[5]\n",
    "    ν=params[6]\n",
    "\n",
    "    MPL_r=ν*(Lr^(ρ-1))*(Y/(κ*(Lf^ρ)+(Lr^ρ)))\n",
    "    return MPL_r\n",
    "end"
   ]
  },
  {
   "cell_type": "code",
   "execution_count": 55,
   "id": "6e0eda2c-602a-46e2-9954-97b229771c8b",
   "metadata": {},
   "outputs": [],
   "source": [
    "#test\n",
    "#mpl_r(1.0,0.03995,0.0172)"
   ]
  },
  {
   "cell_type": "code",
   "execution_count": 22,
   "id": "680aa8de-b541-4d52-854d-8533c9c30e8f",
   "metadata": {},
   "outputs": [
    {
     "data": {
      "text/plain": [
       "tau (generic function with 1 method)"
      ]
     },
     "execution_count": 22,
     "metadata": {},
     "output_type": "execute_result"
    }
   ],
   "source": [
    "function tau(Y)\n",
    "    β=params[3]\n",
    "    χ=params[8]\n",
    "\n",
    "    τ=Y*(β*χ/(1-β))\n",
    "    return τ\n",
    "end"
   ]
  },
  {
   "cell_type": "code",
   "execution_count": 23,
   "id": "f086e7c0-280f-43f2-97bc-ef9bd15a4dc1",
   "metadata": {},
   "outputs": [],
   "source": [
    "#test\n",
    "#tau(0.9968)"
   ]
  },
  {
   "cell_type": "code",
   "execution_count": 24,
   "id": "21d4d397-f748-4895-ba58-0239da2b8c41",
   "metadata": {},
   "outputs": [
    {
     "data": {
      "text/plain": [
       "mpl_fτ (generic function with 1 method)"
      ]
     },
     "execution_count": 24,
     "metadata": {},
     "output_type": "execute_result"
    }
   ],
   "source": [
    "function mpl_fτ(Y,Lf,Lr)\n",
    "    \n",
    "    MPL_fτ=mpl_f(Y,Lf,Lr)-tau(Y)\n",
    "    return MPL_fτ\n",
    "end"
   ]
  },
  {
   "cell_type": "code",
   "execution_count": 25,
   "id": "4c36094e-6fb8-4464-9fd7-a6f8489aa9da",
   "metadata": {},
   "outputs": [],
   "source": [
    "#test\n",
    "#mpl_fτ(1.0,0.03995,0.0172)"
   ]
  },
  {
   "cell_type": "code",
   "execution_count": 26,
   "id": "2d65df56-3868-47e0-b9c0-239f91d7c556",
   "metadata": {},
   "outputs": [
    {
     "data": {
      "text/plain": [
       "mpl_eq (generic function with 1 method)"
      ]
     },
     "execution_count": 26,
     "metadata": {},
     "output_type": "execute_result"
    }
   ],
   "source": [
    "function mpl_eq(Y,Lf,Lr)\n",
    "\n",
    "    MPL_eq=(mpl(Y,Lf,Lr)-mpl_fτ(Y,Lf,Lr))^2+(mpl(Y,Lf,Lr)-mpl_r(Y,Lf,Lr))^2\n",
    "    return MPL_eq\n",
    "end"
   ]
  },
  {
   "cell_type": "code",
   "execution_count": 27,
   "id": "69cb7e71-c5fd-45c1-a1cc-aad13b762092",
   "metadata": {},
   "outputs": [],
   "source": [
    "#test\n",
    "#mpl_eq(1,0.03995,0.0172)"
   ]
  },
  {
   "cell_type": "code",
   "execution_count": 109,
   "id": "c49027ba-0c13-472a-9d3e-af24c300d22f",
   "metadata": {},
   "outputs": [
    {
     "data": {
      "text/plain": [
       "4-element Vector{Float64}:\n",
       " 1.0\n",
       " 0.0\n",
       " 0.03994676921142965\n",
       " 0.017196087931427493"
      ]
     },
     "execution_count": 109,
     "metadata": {},
     "output_type": "execute_result"
    }
   ],
   "source": [
    "global data_0=[1.0,0.0,fossil_labour(),renew_labour(fossil_labour())] #Y,E,Lf,Lr"
   ]
  },
  {
   "cell_type": "code",
   "execution_count": 96,
   "id": "43119bde-b90f-486c-9023-0fd53301c454",
   "metadata": {},
   "outputs": [
    {
     "data": {
      "text/plain": [
       "Vector{Float64}\u001b[90m (alias for \u001b[39m\u001b[90mArray{Float64, 1}\u001b[39m\u001b[90m)\u001b[39m"
      ]
     },
     "execution_count": 96,
     "metadata": {},
     "output_type": "execute_result"
    }
   ],
   "source": [
    "#typeof(data_0) #test"
   ]
  },
  {
   "cell_type": "code",
   "execution_count": 111,
   "id": "2cb56c51-736a-46b6-83f9-ec1bc8a1b2dc",
   "metadata": {},
   "outputs": [
    {
     "name": "stdout",
     "output_type": "stream",
     "text": [
      "t=1, Y=99.42%, E=0.024, Lf=0.024, Lr=0.0171\n",
      "t=2, Y=99.0%, E=0.0481, Lf=0.024, Lr=0.0171\n",
      "t=3, Y=98.62%, E=0.0721, Lf=0.024, Lr=0.0171\n",
      "t=4, Y=98.25%, E=0.0961, Lf=0.024, Lr=0.0171\n",
      "t=5, Y=97.89%, E=0.1202, Lf=0.024, Lr=0.0171\n",
      "t=6, Y=97.53%, E=0.1442, Lf=0.024, Lr=0.0171\n",
      "t=7, Y=97.18%, E=0.1682, Lf=0.024, Lr=0.0171\n",
      "t=8, Y=96.82%, E=0.1923, Lf=0.024, Lr=0.0171\n",
      "t=9, Y=96.47%, E=0.2163, Lf=0.024, Lr=0.0171\n",
      "t=10, Y=96.12%, E=0.2404, Lf=0.024, Lr=0.0171\n",
      "t=11, Y=95.77%, E=0.2644, Lf=0.024, Lr=0.0171\n",
      "t=12, Y=95.42%, E=0.2884, Lf=0.024, Lr=0.0171\n",
      "t=13, Y=95.07%, E=0.3125, Lf=0.024, Lr=0.0171\n"
     ]
    }
   ],
   "source": [
    "n=13\n",
    "var=data_0\n",
    "\n",
    "function f(x)\n",
    "\n",
    "    K=capital_plus(var[1],consumption(var[1]))\n",
    "    E=emissions_plus(var[2],var[3])\n",
    "    Y=output(K,x[1],x[2],E)\n",
    "    \n",
    "    f=mpl_eq(Y,x[1],x[2])\n",
    "    return f\n",
    "end\n",
    "\n",
    "for i in 1:n\n",
    "    sol=nlsolve(f,[var[3],var[4]])\n",
    "    s=sol.zero\n",
    "    \n",
    "    Kplus=capital_plus(var[1],consumption(var[1]))\n",
    "    Eplus=emissions_plus(var[2],s[1])\n",
    "    var[1]=output(Kplus,s[1],s[2],Eplus) #Y\n",
    "    var[2]=Eplus #E\n",
    "    var[3]=s[1] #Lf\n",
    "    var[4]=s[2] #Lr\n",
    "\n",
    "    a=round(var[1]*100,digits=2)\n",
    "    b=round(var[2],digits=4)\n",
    "    c=round(var[3],digits=4)\n",
    "    d=round(var[4],digits=4)\n",
    "    println(\"t=$i, Y=$a%, E=$b, Lf=$c, Lr=$d\")\n",
    "\n",
    "end"
   ]
  },
  {
   "cell_type": "code",
   "execution_count": null,
   "id": "75357805-b905-4425-b301-632bbfafcf11",
   "metadata": {},
   "outputs": [],
   "source": []
  }
 ],
 "metadata": {
  "kernelspec": {
   "display_name": "Julia 1.10.5",
   "language": "julia",
   "name": "julia-1.10"
  },
  "language_info": {
   "file_extension": ".jl",
   "mimetype": "application/julia",
   "name": "julia",
   "version": "1.10.5"
  }
 },
 "nbformat": 4,
 "nbformat_minor": 5
}
