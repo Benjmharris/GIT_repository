{
 "cells": [
  {
   "cell_type": "code",
   "execution_count": null,
   "id": "1e48ac1c-7007-4c67-846d-4a11bb880a8a",
   "metadata": {},
   "outputs": [],
   "source": []
  }
 ],
 "metadata": {
  "kernelspec": {
   "display_name": "Julia 1.10.5",
   "language": "julia",
   "name": "julia-1.10"
  },
  "language_info": {
   "file_extension": ".jl",
   "mimetype": "application/julia",
   "name": "julia",
   "version": "1.10.5"
  }
 },
 "nbformat": 4,
 "nbformat_minor": 5
}
