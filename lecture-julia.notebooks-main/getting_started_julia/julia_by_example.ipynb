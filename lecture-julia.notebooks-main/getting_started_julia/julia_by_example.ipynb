{
 "cells": [
  {
   "cell_type": "markdown",
   "id": "6dcc49fe",
   "metadata": {},
   "source": [
    "\n",
    "<a id='julia-by-example'></a>"
   ]
  },
  {
   "cell_type": "markdown",
   "id": "99248739",
   "metadata": {},
   "source": [
    "# Introductory Examples"
   ]
  },
  {
   "cell_type": "markdown",
   "id": "9dc69919",
   "metadata": {},
   "source": [
    "## Contents\n",
    "\n",
    "- [Introductory Examples](#Introductory-Examples)  \n",
    "  - [Overview](#Overview)  \n",
    "  - [Example: Plotting a White Noise Process](#Example:-Plotting-a-White-Noise-Process)  \n",
    "  - [Example: Variations on Fixed Points](#Example:-Variations-on-Fixed-Points)  \n",
    "  - [Exercises](#Exercises)  \n",
    "  - [Solutions](#Solutions)  "
   ]
  },
  {
   "cell_type": "markdown",
   "id": "bafa9914",
   "metadata": {},
   "source": [
    "## Overview\n",
    "\n",
    "We’re now ready to start learning the Julia language itself."
   ]
  },
  {
   "cell_type": "markdown",
   "id": "9c5a3994",
   "metadata": {},
   "source": [
    "### Level\n",
    "\n",
    "Our approach is aimed at those who already have at least some knowledge of programming — perhaps experience with Python, MATLAB, Fortran, C or similar.\n",
    "\n",
    "In particular, we assume you have some familiarity with fundamental programming concepts such as\n",
    "\n",
    "- variables  \n",
    "- arrays or vectors  \n",
    "- loops  \n",
    "- conditionals (if/else)  \n",
    "\n",
    "\n",
    "\n",
    "<a id='intro-resources'></a>"
   ]
  },
  {
   "cell_type": "markdown",
   "id": "132549a8",
   "metadata": {},
   "source": [
    "### (Optional) Resources for Introductory Programming\n",
    "\n",
    "If Julia is your first programming language, then you may want to examine other resources before proceeding through these chapters.\n",
    "\n",
    "First, you will want to ensure that you have [installed Conda](https://julia.quantecon.org/getting_started.html#install-jupyter), [Julia](https://julia.quantecon.org/getting_started.html#intro-repl) in the previous section, and are able to [launch Jupyter Lab](https://julia.quantecon.org/getting_started.html#running-jupyterlab).  Then, even without downloading these lecture notes you can start learning Julia.\n",
    "\n",
    "Some resources for users with little to no programming experience are the:\n",
    "\n",
    "1. [Introduction to Julia](https://juliaacademy.com/p/intro-to-julia) which is appropriate for those with little programming experience.  \n",
    "  - You will need to sign up for this course to access it, but it is free.  \n",
    "  - Avoid the initial lecture on the installation of Julia and nteract.  \n",
    "  - The Jupyter Notebooks for this class are available [online](https://github.com/JuliaAcademy/Introduction-to-Julia)  \n",
    "1. [Julia for Beginners](https://www.youtube.com/playlist?list=PLhQ2JMBcfAsi_3g2AFJ6B84d8c5jw5kXp) from the [julia for talented amateurs](https://www.youtube.com/c/juliafortalentedamateurs) channel.  \n",
    "  - If you watch these, ignore the environment.  It is using a different open-source editor (i.e. Atom, which is being slowly phased out) and the REPL.  However the content itself is independent of the environment. Skip any setup instructions and just use Jupyter.  \n",
    "1. [Julia Programming for Nervous Beginners](https://www.youtube.com/playlist?list=PLP8iPy9hna6Qpx0MgGyElJ5qFlaIXYf1R) youtube tutorials.  \n",
    "  - These get advanced fairly quickly, but have plenty of great content.  \n",
    "  - This may be less gentle of an introduction for new users given the tooling choices.  \n",
    "\n",
    "\n",
    "However, if you have even introductory experience with any programming language (e.g. you do not need to review what a loop, array, variable, or conditional “if” statement is), you should be able to start directly with these lectures."
   ]
  },
  {
   "cell_type": "markdown",
   "id": "13f559a7",
   "metadata": {},
   "source": [
    "### Approach\n",
    "\n",
    "In this lecture we will write and then pick apart small Julia programs.\n",
    "\n",
    "At this stage the objective is to introduce you to basic syntax and data structures.\n",
    "\n",
    "Deeper concepts—how things work—will be covered in later lectures.\n",
    "\n",
    "Since we are looking for simplicity the examples are a little contrived\n",
    "\n",
    "In this lecture, we will often start with a direct MATLAB/FORTRAN approach which often is **poor coding style** in Julia, but then move towards more **elegant code** which is tightly connected to the mathematics.\n",
    "\n",
    "We assume that you’ve worked your way through [our getting started lecture](https://julia.quantecon.org/getting_started.html) already.\n",
    "\n",
    "The definitive reference is [Julia’s own documentation](https://docs.julialang.org/).  The manual is thoughtfully written but is also quite dense.\n",
    "\n",
    "The presentation in this and our remaining lectures is more of a tutorial style based around examples."
   ]
  },
  {
   "cell_type": "markdown",
   "id": "237ba078",
   "metadata": {},
   "source": [
    "## Example: Plotting a White Noise Process\n",
    "\n",
    "To begin, let’s suppose that we want to simulate and plot the white noise\n",
    "process $ \\epsilon_0, \\epsilon_1, \\ldots, \\epsilon_T $, where each draw $ \\epsilon_t $ is independent standard normal."
   ]
  },
  {
   "cell_type": "markdown",
   "id": "1d85985d",
   "metadata": {},
   "source": [
    "### Introduction to Packages\n",
    "\n",
    "Assuming that you followed  [our getting started lecture](https://julia.quantecon.org/getting_started.html) you will have installed all packages required for your notebooks to run.\n",
    "\n",
    "More generally, there are two ways to install packages and versions (where the first method is discouraged, since Julia provides a state-of-the-art setup for reproducible environments)\n",
    "\n",
    "1. `add` the packages directly into your global installation (e.g. `Pkg.add(\"MyPackage\")` or `] add MyPackage`) without any project activated.  \n",
    "  - We [installed](https://julia.quantecon.org/getting_started.html#intro-repl) the `IJulia` package in this way, since it must be accessible in every project.  \n",
    "  - As a reminder, the `]` enters the package mode, and with some terminals you can directly copy in the whole `] add MyPackage` string.  \n",
    "1. using a directory with a `Project.toml` and `Manifest.toml` files, which provides an isolated set of packages for a particular project.  \n",
    "  - If you load a jupyter notebook, it will automatically look up the tree for the project files to activate, but will not automatically install them.  This can be done with `] instantiate`, as we did in our [installation](https://julia.quantecon.org/getting_started.html#install-packages)  \n",
    "  - The project files can be in parent folders relative to the notebooks and sourcecode.  \n",
    "\n",
    "\n",
    "The project provides the environment for running code is **reproducible**, so that anyone can replicate the precise set of package and versions used in construction.\n",
    "\n",
    "After the installation and activation, `using` provides a way to say that a particular code or notebook will use the package."
   ]
  },
  {
   "cell_type": "code",
   "execution_count": 3,
   "id": "18aa359c",
   "metadata": {
    "hide-output": false
   },
   "outputs": [],
   "source": [
    "using LinearAlgebra, Statistics, Plots, LaTeXStrings"
   ]
  },
  {
   "cell_type": "markdown",
   "id": "eb6898f6",
   "metadata": {},
   "source": [
    "If these packages were not in your project file or global package environment, you will see an error requiring installation.  To reinforce the point above: Ideally you should be using a local `Project.toml` with these in them, in which case you might simply need to `] instantiate` it.  Without a project file, you can manually add them as required (e.g. `] add Plots`).  See [here](https://julia.quantecon.org/getting_started.html#install-packages) for more on instantiation and activation of projects.\n",
    "\n",
    "\n",
    "<a id='import'></a>"
   ]
  },
  {
   "cell_type": "markdown",
   "id": "0cf41787",
   "metadata": {},
   "source": [
    "### Using Functions from a Package\n",
    "\n",
    "Some functions are built into the base Julia, such as `randn`, which returns a single draw from a normal distribution with mean 0 and variance 1 if given no parameters."
   ]
  },
  {
   "cell_type": "code",
   "execution_count": 1,
   "id": "0e0a17b7",
   "metadata": {
    "hide-output": false
   },
   "outputs": [
    {
     "data": {
      "text/plain": [
       "-1.353797019351203"
      ]
     },
     "execution_count": 1,
     "metadata": {},
     "output_type": "execute_result"
    }
   ],
   "source": [
    "randn()"
   ]
  },
  {
   "cell_type": "markdown",
   "id": "63b63ab7",
   "metadata": {},
   "source": [
    "Other functions require importing all of the names from an external library"
   ]
  },
  {
   "cell_type": "code",
   "execution_count": 5,
   "id": "8bb5349f",
   "metadata": {
    "hide-output": false
   },
   "outputs": [
    {
     "data": {
      "image/png": "[encoded data removed]",
      "image/svg+xml": [
       "<?xml version=\"1.0\" encoding=\"utf-8\"?>\n",
       "<svg xmlns=\"http://www.w3.org/2000/svg\" xmlns:xlink=\"http://www.w3.org/1999/xlink\" width=\"600\" height=\"400\" viewBox=\"0 0 2400 1600\">\n",
       "<defs>\n",
       "  <clipPath id=\"clip600\">\n",
       "    <rect x=\"0\" y=\"0\" width=\"2400\" height=\"1600\"/>\n",
       "  </clipPath>\n",
       "</defs>\n",
       "<path clip-path=\"url(#clip600)\" d=\"M0 1600 L2400 1600 L2400 0 L0 0  Z\" fill=\"#ffffff\" fill-rule=\"evenodd\" fill-opacity=\"1\"/>\n",
       "<defs>\n",
       "  <clipPath id=\"clip601\">\n",
       "    <rect x=\"480\" y=\"0\" width=\"1681\" height=\"1600\"/>\n",
       "  </clipPath>\n",
       "</defs>\n",
       "<path clip-path=\"url(#clip600)\" d=\"M147.478 1486.45 L2352.76 1486.45 L2352.76 47.2441 L147.478 47.2441  Z\" fill=\"#ffffff\" fill-rule=\"evenodd\" fill-opacity=\"1\"/>\n",
       "<defs>\n",
       "  <clipPath id=\"clip602\">\n",
       "    <rect x=\"147\" y=\"47\" width=\"2206\" height=\"1440\"/>\n",
       "  </clipPath>\n",
       "</defs>\n",
       "<polyline clip-path=\"url(#clip602)\" style=\"stroke:#000000; stroke-linecap:round; stroke-linejoin:round; stroke-width:2; stroke-opacity:0.1; fill:none\" points=\"188.877,1486.45 188.877,47.2441 \"/>\n",
       "<polyline clip-path=\"url(#clip602)\" style=\"stroke:#000000; stroke-linecap:round; stroke-linejoin:round; stroke-width:2; stroke-opacity:0.1; fill:none\" points=\"714.243,1486.45 714.243,47.2441 \"/>\n",
       "<polyline clip-path=\"url(#clip602)\" style=\"stroke:#000000; stroke-linecap:round; stroke-linejoin:round; stroke-width:2; stroke-opacity:0.1; fill:none\" points=\"1239.61,1486.45 1239.61,47.2441 \"/>\n",
       "<polyline clip-path=\"url(#clip602)\" style=\"stroke:#000000; stroke-linecap:round; stroke-linejoin:round; stroke-width:2; stroke-opacity:0.1; fill:none\" points=\"1764.98,1486.45 1764.98,47.2441 \"/>\n",
       "<polyline clip-path=\"url(#clip602)\" style=\"stroke:#000000; stroke-linecap:round; stroke-linejoin:round; stroke-width:2; stroke-opacity:0.1; fill:none\" points=\"2290.34,1486.45 2290.34,47.2441 \"/>\n",
       "<polyline clip-path=\"url(#clip600)\" style=\"stroke:#000000; stroke-linecap:round; stroke-linejoin:round; stroke-width:4; stroke-opacity:1; fill:none\" points=\"147.478,1486.45 2352.76,1486.45 \"/>\n",
       "<polyline clip-path=\"url(#clip600)\" style=\"stroke:#000000; stroke-linecap:round; stroke-linejoin:round; stroke-width:4; stroke-opacity:1; fill:none\" points=\"188.877,1486.45 188.877,1467.55 \"/>\n",
       "<polyline clip-path=\"url(#clip600)\" style=\"stroke:#000000; stroke-linecap:round; stroke-linejoin:round; stroke-width:4; stroke-opacity:1; fill:none\" points=\"714.243,1486.45 714.243,1467.55 \"/>\n",
       "<polyline clip-path=\"url(#clip600)\" style=\"stroke:#000000; stroke-linecap:round; stroke-linejoin:round; stroke-width:4; stroke-opacity:1; fill:none\" points=\"1239.61,1486.45 1239.61,1467.55 \"/>\n",
       "<polyline clip-path=\"url(#clip600)\" style=\"stroke:#000000; stroke-linecap:round; stroke-linejoin:round; stroke-width:4; stroke-opacity:1; fill:none\" points=\"1764.98,1486.45 1764.98,1467.55 \"/>\n",
       "<polyline clip-path=\"url(#clip600)\" style=\"stroke:#000000; stroke-linecap:round; stroke-linejoin:round; stroke-width:4; stroke-opacity:1; fill:none\" points=\"2290.34,1486.45 2290.34,1467.55 \"/>\n",
       "<path clip-path=\"url(#clip600)\" d=\"M188.877 1517.37 Q185.266 1517.37 183.437 1520.93 Q181.631 1524.47 181.631 1531.6 Q181.631 1538.71 183.437 1542.27 Q185.266 1545.82 188.877 1545.82 Q192.511 1545.82 194.317 1542.27 Q196.145 1538.71 196.145 1531.6 Q196.145 1524.47 194.317 1520.93 Q192.511 1517.37 188.877 1517.37 M188.877 1513.66 Q194.687 1513.66 197.742 1518.27 Q200.821 1522.85 200.821 1531.6 Q200.821 1540.33 197.742 1544.94 Q194.687 1549.52 188.877 1549.52 Q183.067 1549.52 179.988 1544.94 Q176.932 1540.33 176.932 1531.6 Q176.932 1522.85 179.988 1518.27 Q183.067 1513.66 188.877 1513.66 Z\" fill=\"#000000\" fill-rule=\"nonzero\" fill-opacity=\"1\" /><path clip-path=\"url(#clip600)\" d=\"M693.514 1544.91 L709.833 1544.91 L709.833 1548.85 L687.889 1548.85 L687.889 1544.91 Q690.551 1542.16 695.134 1537.53 Q699.741 1532.88 700.921 1531.53 Q703.167 1529.01 704.046 1527.27 Q704.949 1525.51 704.949 1523.82 Q704.949 1521.07 703.005 1519.33 Q701.084 1517.6 697.982 1517.6 Q695.783 1517.6 693.329 1518.36 Q690.898 1519.13 688.121 1520.68 L688.121 1515.95 Q690.945 1514.82 693.398 1514.24 Q695.852 1513.66 697.889 1513.66 Q703.259 1513.66 706.454 1516.35 Q709.648 1519.03 709.648 1523.52 Q709.648 1525.65 708.838 1527.57 Q708.051 1529.47 705.945 1532.07 Q705.366 1532.74 702.264 1535.95 Q699.162 1539.15 693.514 1544.91 Z\" fill=\"#000000\" fill-rule=\"nonzero\" fill-opacity=\"1\" /><path clip-path=\"url(#clip600)\" d=\"M719.695 1514.29 L738.051 1514.29 L738.051 1518.22 L723.977 1518.22 L723.977 1526.7 Q724.995 1526.35 726.014 1526.19 Q727.032 1526 728.051 1526 Q733.838 1526 737.218 1529.17 Q740.597 1532.34 740.597 1537.76 Q740.597 1543.34 737.125 1546.44 Q733.653 1549.52 727.333 1549.52 Q725.157 1549.52 722.889 1549.15 Q720.644 1548.78 718.236 1548.04 L718.236 1543.34 Q720.32 1544.47 722.542 1545.03 Q724.764 1545.58 727.241 1545.58 Q731.245 1545.58 733.583 1543.48 Q735.921 1541.37 735.921 1537.76 Q735.921 1534.15 733.583 1532.04 Q731.245 1529.94 727.241 1529.94 Q725.366 1529.94 723.491 1530.35 Q721.639 1530.77 719.695 1531.65 L719.695 1514.29 Z\" fill=\"#000000\" fill-rule=\"nonzero\" fill-opacity=\"1\" /><path clip-path=\"url(#clip600)\" d=\"M1214.31 1514.29 L1232.67 1514.29 L1232.67 1518.22 L1218.59 1518.22 L1218.59 1526.7 Q1219.61 1526.35 1220.63 1526.19 Q1221.65 1526 1222.67 1526 Q1228.45 1526 1231.83 1529.17 Q1235.21 1532.34 1235.21 1537.76 Q1235.21 1543.34 1231.74 1546.44 Q1228.27 1549.52 1221.95 1549.52 Q1219.77 1549.52 1217.5 1549.15 Q1215.26 1548.78 1212.85 1548.04 L1212.85 1543.34 Q1214.93 1544.47 1217.16 1545.03 Q1219.38 1545.58 1221.86 1545.58 Q1225.86 1545.58 1228.2 1543.48 Q1230.54 1541.37 1230.54 1537.76 Q1230.54 1534.15 1228.2 1532.04 Q1225.86 1529.94 1221.86 1529.94 Q1219.98 1529.94 1218.11 1530.35 Q1216.25 1530.77 1214.31 1531.65 L1214.31 1514.29 Z\" fill=\"#000000\" fill-rule=\"nonzero\" fill-opacity=\"1\" /><path clip-path=\"url(#clip600)\" d=\"M1254.42 1517.37 Q1250.81 1517.37 1248.98 1520.93 Q1247.18 1524.47 1247.18 1531.6 Q1247.18 1538.71 1248.98 1542.27 Q1250.81 1545.82 1254.42 1545.82 Q1258.06 1545.82 1259.86 1542.27 Q1261.69 1538.71 1261.69 1531.6 Q1261.69 1524.47 1259.86 1520.93 Q1258.06 1517.37 1254.42 1517.37 M1254.42 1513.66 Q1260.23 1513.66 1263.29 1518.27 Q1266.37 1522.85 1266.37 1531.6 Q1266.37 1540.33 1263.29 1544.94 Q1260.23 1549.52 1254.42 1549.52 Q1248.61 1549.52 1245.54 1544.94 Q1242.48 1540.33 1242.48 1531.6 Q1242.48 1522.85 1245.54 1518.27 Q1248.61 1513.66 1254.42 1513.66 Z\" fill=\"#000000\" fill-rule=\"nonzero\" fill-opacity=\"1\" /><path clip-path=\"url(#clip600)\" d=\"M1738.83 1514.29 L1761.05 1514.29 L1761.05 1516.28 L1748.51 1548.85 L1743.62 1548.85 L1755.43 1518.22 L1738.83 1518.22 L1738.83 1514.29 Z\" fill=\"#000000\" fill-rule=\"nonzero\" fill-opacity=\"1\" /><path clip-path=\"url(#clip600)\" d=\"M1770.22 1514.29 L1788.58 1514.29 L1788.58 1518.22 L1774.5 1518.22 L1774.5 1526.7 Q1775.52 1526.35 1776.54 1526.19 Q1777.56 1526 1778.58 1526 Q1784.36 1526 1787.74 1529.17 Q1791.12 1532.34 1791.12 1537.76 Q1791.12 1543.34 1787.65 1546.44 Q1784.18 1549.52 1777.86 1549.52 Q1775.68 1549.52 1773.41 1549.15 Q1771.17 1548.78 1768.76 1548.04 L1768.76 1543.34 Q1770.84 1544.47 1773.07 1545.03 Q1775.29 1545.58 1777.77 1545.58 Q1781.77 1545.58 1784.11 1543.48 Q1786.45 1541.37 1786.45 1537.76 Q1786.45 1534.15 1784.11 1532.04 Q1781.77 1529.94 1777.77 1529.94 Q1775.89 1529.94 1774.02 1530.35 Q1772.16 1530.77 1770.22 1531.65 L1770.22 1514.29 Z\" fill=\"#000000\" fill-rule=\"nonzero\" fill-opacity=\"1\" /><path clip-path=\"url(#clip600)\" d=\"M2249.95 1544.91 L2257.59 1544.91 L2257.59 1518.55 L2249.28 1520.21 L2249.28 1515.95 L2257.54 1514.29 L2262.22 1514.29 L2262.22 1544.91 L2269.86 1544.91 L2269.86 1548.85 L2249.95 1548.85 L2249.95 1544.91 Z\" fill=\"#000000\" fill-rule=\"nonzero\" fill-opacity=\"1\" /><path clip-path=\"url(#clip600)\" d=\"M2289.3 1517.37 Q2285.69 1517.37 2283.86 1520.93 Q2282.06 1524.47 2282.06 1531.6 Q2282.06 1538.71 2283.86 1542.27 Q2285.69 1545.82 2289.3 1545.82 Q2292.93 1545.82 2294.74 1542.27 Q2296.57 1538.71 2296.57 1531.6 Q2296.57 1524.47 2294.74 1520.93 Q2292.93 1517.37 2289.3 1517.37 M2289.3 1513.66 Q2295.11 1513.66 2298.17 1518.27 Q2301.25 1522.85 2301.25 1531.6 Q2301.25 1540.33 2298.17 1544.94 Q2295.11 1549.52 2289.3 1549.52 Q2283.49 1549.52 2280.41 1544.94 Q2277.36 1540.33 2277.36 1531.6 Q2277.36 1522.85 2280.41 1518.27 Q2283.49 1513.66 2289.3 1513.66 Z\" fill=\"#000000\" fill-rule=\"nonzero\" fill-opacity=\"1\" /><path clip-path=\"url(#clip600)\" d=\"M2319.46 1517.37 Q2315.85 1517.37 2314.02 1520.93 Q2312.22 1524.47 2312.22 1531.6 Q2312.22 1538.71 2314.02 1542.27 Q2315.85 1545.82 2319.46 1545.82 Q2323.1 1545.82 2324.9 1542.27 Q2326.73 1538.71 2326.73 1531.6 Q2326.73 1524.47 2324.9 1520.93 Q2323.1 1517.37 2319.46 1517.37 M2319.46 1513.66 Q2325.27 1513.66 2328.33 1518.27 Q2331.41 1522.85 2331.41 1531.6 Q2331.41 1540.33 2328.33 1544.94 Q2325.27 1549.52 2319.46 1549.52 Q2313.65 1549.52 2310.57 1544.94 Q2307.52 1540.33 2307.52 1531.6 Q2307.52 1522.85 2310.57 1518.27 Q2313.65 1513.66 2319.46 1513.66 Z\" fill=\"#000000\" fill-rule=\"nonzero\" fill-opacity=\"1\" /><polyline clip-path=\"url(#clip602)\" style=\"stroke:#000000; stroke-linecap:round; stroke-linejoin:round; stroke-width:2; stroke-opacity:0.1; fill:none\" points=\"147.478,1411.28 2352.76,1411.28 \"/>\n",
       "<polyline clip-path=\"url(#clip602)\" style=\"stroke:#000000; stroke-linecap:round; stroke-linejoin:round; stroke-width:2; stroke-opacity:0.1; fill:none\" points=\"147.478,1119.14 2352.76,1119.14 \"/>\n",
       "<polyline clip-path=\"url(#clip602)\" style=\"stroke:#000000; stroke-linecap:round; stroke-linejoin:round; stroke-width:2; stroke-opacity:0.1; fill:none\" points=\"147.478,827.002 2352.76,827.002 \"/>\n",
       "<polyline clip-path=\"url(#clip602)\" style=\"stroke:#000000; stroke-linecap:round; stroke-linejoin:round; stroke-width:2; stroke-opacity:0.1; fill:none\" points=\"147.478,534.862 2352.76,534.862 \"/>\n",
       "<polyline clip-path=\"url(#clip602)\" style=\"stroke:#000000; stroke-linecap:round; stroke-linejoin:round; stroke-width:2; stroke-opacity:0.1; fill:none\" points=\"147.478,242.721 2352.76,242.721 \"/>\n",
       "<polyline clip-path=\"url(#clip600)\" style=\"stroke:#000000; stroke-linecap:round; stroke-linejoin:round; stroke-width:4; stroke-opacity:1; fill:none\" points=\"147.478,1486.45 147.478,47.2441 \"/>\n",
       "<polyline clip-path=\"url(#clip600)\" style=\"stroke:#000000; stroke-linecap:round; stroke-linejoin:round; stroke-width:4; stroke-opacity:1; fill:none\" points=\"147.478,1411.28 166.376,1411.28 \"/>\n",
       "<polyline clip-path=\"url(#clip600)\" style=\"stroke:#000000; stroke-linecap:round; stroke-linejoin:round; stroke-width:4; stroke-opacity:1; fill:none\" points=\"147.478,1119.14 166.376,1119.14 \"/>\n",
       "<polyline clip-path=\"url(#clip600)\" style=\"stroke:#000000; stroke-linecap:round; stroke-linejoin:round; stroke-width:4; stroke-opacity:1; fill:none\" points=\"147.478,827.002 166.376,827.002 \"/>\n",
       "<polyline clip-path=\"url(#clip600)\" style=\"stroke:#000000; stroke-linecap:round; stroke-linejoin:round; stroke-width:4; stroke-opacity:1; fill:none\" points=\"147.478,534.862 166.376,534.862 \"/>\n",
       "<polyline clip-path=\"url(#clip600)\" style=\"stroke:#000000; stroke-linecap:round; stroke-linejoin:round; stroke-width:4; stroke-opacity:1; fill:none\" points=\"147.478,242.721 166.376,242.721 \"/>\n",
       "<path clip-path=\"url(#clip600)\" d=\"M51.3625 1411.74 L81.0383 1411.74 L81.0383 1415.67 L51.3625 1415.67 L51.3625 1411.74 Z\" fill=\"#000000\" fill-rule=\"nonzero\" fill-opacity=\"1\" /><path clip-path=\"url(#clip600)\" d=\"M95.1586 1424.63 L111.478 1424.63 L111.478 1428.56 L89.5336 1428.56 L89.5336 1424.63 Q92.1956 1421.87 96.7789 1417.24 Q101.385 1412.59 102.566 1411.25 Q104.811 1408.73 105.691 1406.99 Q106.594 1405.23 106.594 1403.54 Q106.594 1400.79 104.649 1399.05 Q102.728 1397.31 99.6261 1397.31 Q97.4271 1397.31 94.9734 1398.08 Q92.5428 1398.84 89.7651 1400.39 L89.7651 1395.67 Q92.5891 1394.54 95.0428 1393.96 Q97.4965 1393.38 99.5335 1393.38 Q104.904 1393.38 108.098 1396.06 Q111.293 1398.75 111.293 1403.24 Q111.293 1405.37 110.483 1407.29 Q109.696 1409.19 107.589 1411.78 Q107.01 1412.45 103.909 1415.67 Q100.807 1418.86 95.1586 1424.63 Z\" fill=\"#000000\" fill-rule=\"nonzero\" fill-opacity=\"1\" /><path clip-path=\"url(#clip600)\" d=\"M50.9921 1119.59 L80.6679 1119.59 L80.6679 1123.53 L50.9921 1123.53 L50.9921 1119.59 Z\" fill=\"#000000\" fill-rule=\"nonzero\" fill-opacity=\"1\" /><path clip-path=\"url(#clip600)\" d=\"M91.5706 1132.49 L99.2095 1132.49 L99.2095 1106.12 L90.8993 1107.79 L90.8993 1103.53 L99.1632 1101.86 L103.839 1101.86 L103.839 1132.49 L111.478 1132.49 L111.478 1136.42 L91.5706 1136.42 L91.5706 1132.49 Z\" fill=\"#000000\" fill-rule=\"nonzero\" fill-opacity=\"1\" /><path clip-path=\"url(#clip600)\" d=\"M99.5335 812.801 Q95.9224 812.801 94.0937 816.366 Q92.2882 819.908 92.2882 827.037 Q92.2882 834.144 94.0937 837.708 Q95.9224 841.25 99.5335 841.25 Q103.168 841.25 104.973 837.708 Q106.802 834.144 106.802 827.037 Q106.802 819.908 104.973 816.366 Q103.168 812.801 99.5335 812.801 M99.5335 809.097 Q105.344 809.097 108.399 813.704 Q111.478 818.287 111.478 827.037 Q111.478 835.764 108.399 840.37 Q105.344 844.954 99.5335 844.954 Q93.7234 844.954 90.6447 840.37 Q87.5892 835.764 87.5892 827.037 Q87.5892 818.287 90.6447 813.704 Q93.7234 809.097 99.5335 809.097 Z\" fill=\"#000000\" fill-rule=\"nonzero\" fill-opacity=\"1\" /><path clip-path=\"url(#clip600)\" d=\"M91.5706 548.207 L99.2095 548.207 L99.2095 521.841 L90.8993 523.508 L90.8993 519.248 L99.1632 517.582 L103.839 517.582 L103.839 548.207 L111.478 548.207 L111.478 552.142 L91.5706 552.142 L91.5706 548.207 Z\" fill=\"#000000\" fill-rule=\"nonzero\" fill-opacity=\"1\" /><path clip-path=\"url(#clip600)\" d=\"M95.1586 256.066 L111.478 256.066 L111.478 260.001 L89.5336 260.001 L89.5336 256.066 Q92.1956 253.311 96.7789 248.682 Q101.385 244.029 102.566 242.686 Q104.811 240.163 105.691 238.427 Q106.594 236.668 106.594 234.978 Q106.594 232.223 104.649 230.487 Q102.728 228.751 99.6261 228.751 Q97.4271 228.751 94.9734 229.515 Q92.5428 230.279 89.7651 231.83 L89.7651 227.108 Q92.5891 225.973 95.0428 225.395 Q97.4965 224.816 99.5335 224.816 Q104.904 224.816 108.098 227.501 Q111.293 230.186 111.293 234.677 Q111.293 236.807 110.483 238.728 Q109.696 240.626 107.589 243.219 Q107.01 243.89 103.909 247.108 Q100.807 250.302 95.1586 256.066 Z\" fill=\"#000000\" fill-rule=\"nonzero\" fill-opacity=\"1\" /><polyline clip-path=\"url(#clip602)\" style=\"stroke:#009af9; stroke-linecap:round; stroke-linejoin:round; stroke-width:4; stroke-opacity:1; fill:none\" points=\"209.891,845.841 230.906,256.024 251.921,851.556 272.935,703.429 293.95,804.988 314.965,543.104 335.979,801.077 356.994,813.571 378.009,563.947 399.023,828.896 420.038,904.366 441.053,1143.41 462.067,787.853 483.082,839.246 504.097,831.873 525.111,919.361 546.126,911.267 567.141,729.43 588.155,1319.4 609.17,1310.74 630.185,518.28 651.199,782.185 672.214,703.073 693.229,536.351 714.243,650.298 735.258,1153.42 756.272,856.129 777.287,673.342 798.302,481.885 819.316,668.911 840.331,997.446 861.346,474.688 882.36,722.285 903.375,994.392 924.39,1066.85 945.404,1182.28 966.419,1091.99 987.434,347.431 1008.45,617.123 1029.46,1096.03 1050.48,663.252 1071.49,539.293 1092.51,968.649 1113.52,565.198 1134.54,712.599 1155.55,1280.67 1176.57,1071.43 1197.58,400.269 1218.59,625.484 1239.61,792.298 1260.62,756.616 1281.64,731.348 1302.65,1233.05 1323.67,420.966 1344.68,920.584 1365.7,1118.25 1386.71,358.669 1407.73,1037.22 1428.74,348.718 1449.76,1260.72 1470.77,227.057 1491.79,219.329 1512.8,938.448 1533.81,1407.42 1554.83,484.84 1575.84,740.354 1596.86,562.992 1617.87,1132.2 1638.89,737.265 1659.9,354.687 1680.92,1034.54 1701.93,1301.44 1722.95,973.186 1743.96,621.19 1764.98,700.053 1785.99,801.075 1807.01,1445.72 1828.02,1337.65 1849.03,87.9763 1870.05,1361.9 1891.06,493.562 1912.08,683.172 1933.09,473.148 1954.11,677.45 1975.12,1073.14 1996.14,730.662 2017.15,824.408 2038.17,1011.45 2059.18,756.421 2080.2,134.059 2101.21,1007.37 2122.23,991.022 2143.24,736.522 2164.25,989.946 2185.27,1091.65 2206.28,1270.86 2227.3,635.695 2248.31,930.623 2269.33,735.765 2290.34,578.349 \"/>\n",
       "<path clip-path=\"url(#clip600)\" d=\"M220.987 198.898 L493.945 198.898 L493.945 95.2176 L220.987 95.2176  Z\" fill=\"#ffffff\" fill-rule=\"evenodd\" fill-opacity=\"1\"/>\n",
       "<polyline clip-path=\"url(#clip600)\" style=\"stroke:#000000; stroke-linecap:round; stroke-linejoin:round; stroke-width:4; stroke-opacity:1; fill:none\" points=\"220.987,198.898 493.945,198.898 493.945,95.2176 220.987,95.2176 220.987,198.898 \"/>\n",
       "<polyline clip-path=\"url(#clip600)\" style=\"stroke:#009af9; stroke-linecap:round; stroke-linejoin:round; stroke-width:4; stroke-opacity:1; fill:none\" points=\"245.49,147.058 392.509,147.058 \"/>\n",
       "<path clip-path=\"url(#clip600)\" d=\"M430.854 166.745 Q429.049 171.375 427.336 172.787 Q425.623 174.199 422.753 174.199 L419.35 174.199 L419.35 170.634 L421.85 170.634 Q423.609 170.634 424.581 169.8 Q425.554 168.967 426.734 165.865 L427.498 163.921 L417.012 138.412 L421.526 138.412 L429.628 158.689 L437.729 138.412 L442.243 138.412 L430.854 166.745 Z\" fill=\"#000000\" fill-rule=\"nonzero\" fill-opacity=\"1\" /><path clip-path=\"url(#clip600)\" d=\"M449.535 160.402 L457.174 160.402 L457.174 134.037 L448.864 135.703 L448.864 131.444 L457.127 129.778 L461.803 129.778 L461.803 160.402 L469.442 160.402 L469.442 164.338 L449.535 164.338 L449.535 160.402 Z\" fill=\"#000000\" fill-rule=\"nonzero\" fill-opacity=\"1\" /></svg>\n"
      ],
      "text/html": [
       "<?xml version=\"1.0\" encoding=\"utf-8\"?>\n",
       "<svg xmlns=\"http://www.w3.org/2000/svg\" xmlns:xlink=\"http://www.w3.org/1999/xlink\" width=\"600\" height=\"400\" viewBox=\"0 0 2400 1600\">\n",
       "<defs>\n",
       "  <clipPath id=\"clip650\">\n",
       "    <rect x=\"0\" y=\"0\" width=\"2400\" height=\"1600\"/>\n",
       "  </clipPath>\n",
       "</defs>\n",
       "<path clip-path=\"url(#clip650)\" d=\"M0 1600 L2400 1600 L2400 0 L0 0  Z\" fill=\"#ffffff\" fill-rule=\"evenodd\" fill-opacity=\"1\"/>\n",
       "<defs>\n",
       "  <clipPath id=\"clip651\">\n",
       "    <rect x=\"480\" y=\"0\" width=\"1681\" height=\"1600\"/>\n",
       "  </clipPath>\n",
       "</defs>\n",
       "<path clip-path=\"url(#clip650)\" d=\"M147.478 1486.45 L2352.76 1486.45 L2352.76 47.2441 L147.478 47.2441  Z\" fill=\"#ffffff\" fill-rule=\"evenodd\" fill-opacity=\"1\"/>\n",
       "<defs>\n",
       "  <clipPath id=\"clip652\">\n",
       "    <rect x=\"147\" y=\"47\" width=\"2206\" height=\"1440\"/>\n",
       "  </clipPath>\n",
       "</defs>\n",
       "<polyline clip-path=\"url(#clip652)\" style=\"stroke:#000000; stroke-linecap:round; stroke-linejoin:round; stroke-width:2; stroke-opacity:0.1; fill:none\" points=\"188.877,1486.45 188.877,47.2441 \"/>\n",
       "<polyline clip-path=\"url(#clip652)\" style=\"stroke:#000000; stroke-linecap:round; stroke-linejoin:round; stroke-width:2; stroke-opacity:0.1; fill:none\" points=\"714.243,1486.45 714.243,47.2441 \"/>\n",
       "<polyline clip-path=\"url(#clip652)\" style=\"stroke:#000000; stroke-linecap:round; stroke-linejoin:round; stroke-width:2; stroke-opacity:0.1; fill:none\" points=\"1239.61,1486.45 1239.61,47.2441 \"/>\n",
       "<polyline clip-path=\"url(#clip652)\" style=\"stroke:#000000; stroke-linecap:round; stroke-linejoin:round; stroke-width:2; stroke-opacity:0.1; fill:none\" points=\"1764.98,1486.45 1764.98,47.2441 \"/>\n",
       "<polyline clip-path=\"url(#clip652)\" style=\"stroke:#000000; stroke-linecap:round; stroke-linejoin:round; stroke-width:2; stroke-opacity:0.1; fill:none\" points=\"2290.34,1486.45 2290.34,47.2441 \"/>\n",
       "<polyline clip-path=\"url(#clip650)\" style=\"stroke:#000000; stroke-linecap:round; stroke-linejoin:round; stroke-width:4; stroke-opacity:1; fill:none\" points=\"147.478,1486.45 2352.76,1486.45 \"/>\n",
       "<polyline clip-path=\"url(#clip650)\" style=\"stroke:#000000; stroke-linecap:round; stroke-linejoin:round; stroke-width:4; stroke-opacity:1; fill:none\" points=\"188.877,1486.45 188.877,1467.55 \"/>\n",
       "<polyline clip-path=\"url(#clip650)\" style=\"stroke:#000000; stroke-linecap:round; stroke-linejoin:round; stroke-width:4; stroke-opacity:1; fill:none\" points=\"714.243,1486.45 714.243,1467.55 \"/>\n",
       "<polyline clip-path=\"url(#clip650)\" style=\"stroke:#000000; stroke-linecap:round; stroke-linejoin:round; stroke-width:4; stroke-opacity:1; fill:none\" points=\"1239.61,1486.45 1239.61,1467.55 \"/>\n",
       "<polyline clip-path=\"url(#clip650)\" style=\"stroke:#000000; stroke-linecap:round; stroke-linejoin:round; stroke-width:4; stroke-opacity:1; fill:none\" points=\"1764.98,1486.45 1764.98,1467.55 \"/>\n",
       "<polyline clip-path=\"url(#clip650)\" style=\"stroke:#000000; stroke-linecap:round; stroke-linejoin:round; stroke-width:4; stroke-opacity:1; fill:none\" points=\"2290.34,1486.45 2290.34,1467.55 \"/>\n",
       "<path clip-path=\"url(#clip650)\" d=\"M188.877 1517.37 Q185.266 1517.37 183.437 1520.93 Q181.631 1524.47 181.631 1531.6 Q181.631 1538.71 183.437 1542.27 Q185.266 1545.82 188.877 1545.82 Q192.511 1545.82 194.317 1542.27 Q196.145 1538.71 196.145 1531.6 Q196.145 1524.47 194.317 1520.93 Q192.511 1517.37 188.877 1517.37 M188.877 1513.66 Q194.687 1513.66 197.742 1518.27 Q200.821 1522.85 200.821 1531.6 Q200.821 1540.33 197.742 1544.94 Q194.687 1549.52 188.877 1549.52 Q183.067 1549.52 179.988 1544.94 Q176.932 1540.33 176.932 1531.6 Q176.932 1522.85 179.988 1518.27 Q183.067 1513.66 188.877 1513.66 Z\" fill=\"#000000\" fill-rule=\"nonzero\" fill-opacity=\"1\" /><path clip-path=\"url(#clip650)\" d=\"M693.514 1544.91 L709.833 1544.91 L709.833 1548.85 L687.889 1548.85 L687.889 1544.91 Q690.551 1542.16 695.134 1537.53 Q699.741 1532.88 700.921 1531.53 Q703.167 1529.01 704.046 1527.27 Q704.949 1525.51 704.949 1523.82 Q704.949 1521.07 703.005 1519.33 Q701.084 1517.6 697.982 1517.6 Q695.783 1517.6 693.329 1518.36 Q690.898 1519.13 688.121 1520.68 L688.121 1515.95 Q690.945 1514.82 693.398 1514.24 Q695.852 1513.66 697.889 1513.66 Q703.259 1513.66 706.454 1516.35 Q709.648 1519.03 709.648 1523.52 Q709.648 1525.65 708.838 1527.57 Q708.051 1529.47 705.945 1532.07 Q705.366 1532.74 702.264 1535.95 Q699.162 1539.15 693.514 1544.91 Z\" fill=\"#000000\" fill-rule=\"nonzero\" fill-opacity=\"1\" /><path clip-path=\"url(#clip650)\" d=\"M719.695 1514.29 L738.051 1514.29 L738.051 1518.22 L723.977 1518.22 L723.977 1526.7 Q724.995 1526.35 726.014 1526.19 Q727.032 1526 728.051 1526 Q733.838 1526 737.218 1529.17 Q740.597 1532.34 740.597 1537.76 Q740.597 1543.34 737.125 1546.44 Q733.653 1549.52 727.333 1549.52 Q725.157 1549.52 722.889 1549.15 Q720.644 1548.78 718.236 1548.04 L718.236 1543.34 Q720.32 1544.47 722.542 1545.03 Q724.764 1545.58 727.241 1545.58 Q731.245 1545.58 733.583 1543.48 Q735.921 1541.37 735.921 1537.76 Q735.921 1534.15 733.583 1532.04 Q731.245 1529.94 727.241 1529.94 Q725.366 1529.94 723.491 1530.35 Q721.639 1530.77 719.695 1531.65 L719.695 1514.29 Z\" fill=\"#000000\" fill-rule=\"nonzero\" fill-opacity=\"1\" /><path clip-path=\"url(#clip650)\" d=\"M1214.31 1514.29 L1232.67 1514.29 L1232.67 1518.22 L1218.59 1518.22 L1218.59 1526.7 Q1219.61 1526.35 1220.63 1526.19 Q1221.65 1526 1222.67 1526 Q1228.45 1526 1231.83 1529.17 Q1235.21 1532.34 1235.21 1537.76 Q1235.21 1543.34 1231.74 1546.44 Q1228.27 1549.52 1221.95 1549.52 Q1219.77 1549.52 1217.5 1549.15 Q1215.26 1548.78 1212.85 1548.04 L1212.85 1543.34 Q1214.93 1544.47 1217.16 1545.03 Q1219.38 1545.58 1221.86 1545.58 Q1225.86 1545.58 1228.2 1543.48 Q1230.54 1541.37 1230.54 1537.76 Q1230.54 1534.15 1228.2 1532.04 Q1225.86 1529.94 1221.86 1529.94 Q1219.98 1529.94 1218.11 1530.35 Q1216.25 1530.77 1214.31 1531.65 L1214.31 1514.29 Z\" fill=\"#000000\" fill-rule=\"nonzero\" fill-opacity=\"1\" /><path clip-path=\"url(#clip650)\" d=\"M1254.42 1517.37 Q1250.81 1517.37 1248.98 1520.93 Q1247.18 1524.47 1247.18 1531.6 Q1247.18 1538.71 1248.98 1542.27 Q1250.81 1545.82 1254.42 1545.82 Q1258.06 1545.82 1259.86 1542.27 Q1261.69 1538.71 1261.69 1531.6 Q1261.69 1524.47 1259.86 1520.93 Q1258.06 1517.37 1254.42 1517.37 M1254.42 1513.66 Q1260.23 1513.66 1263.29 1518.27 Q1266.37 1522.85 1266.37 1531.6 Q1266.37 1540.33 1263.29 1544.94 Q1260.23 1549.52 1254.42 1549.52 Q1248.61 1549.52 1245.54 1544.94 Q1242.48 1540.33 1242.48 1531.6 Q1242.48 1522.85 1245.54 1518.27 Q1248.61 1513.66 1254.42 1513.66 Z\" fill=\"#000000\" fill-rule=\"nonzero\" fill-opacity=\"1\" /><path clip-path=\"url(#clip650)\" d=\"M1738.83 1514.29 L1761.05 1514.29 L1761.05 1516.28 L1748.51 1548.85 L1743.62 1548.85 L1755.43 1518.22 L1738.83 1518.22 L1738.83 1514.29 Z\" fill=\"#000000\" fill-rule=\"nonzero\" fill-opacity=\"1\" /><path clip-path=\"url(#clip650)\" d=\"M1770.22 1514.29 L1788.58 1514.29 L1788.58 1518.22 L1774.5 1518.22 L1774.5 1526.7 Q1775.52 1526.35 1776.54 1526.19 Q1777.56 1526 1778.58 1526 Q1784.36 1526 1787.74 1529.17 Q1791.12 1532.34 1791.12 1537.76 Q1791.12 1543.34 1787.65 1546.44 Q1784.18 1549.52 1777.86 1549.52 Q1775.68 1549.52 1773.41 1549.15 Q1771.17 1548.78 1768.76 1548.04 L1768.76 1543.34 Q1770.84 1544.47 1773.07 1545.03 Q1775.29 1545.58 1777.77 1545.58 Q1781.77 1545.58 1784.11 1543.48 Q1786.45 1541.37 1786.45 1537.76 Q1786.45 1534.15 1784.11 1532.04 Q1781.77 1529.94 1777.77 1529.94 Q1775.89 1529.94 1774.02 1530.35 Q1772.16 1530.77 1770.22 1531.65 L1770.22 1514.29 Z\" fill=\"#000000\" fill-rule=\"nonzero\" fill-opacity=\"1\" /><path clip-path=\"url(#clip650)\" d=\"M2249.95 1544.91 L2257.59 1544.91 L2257.59 1518.55 L2249.28 1520.21 L2249.28 1515.95 L2257.54 1514.29 L2262.22 1514.29 L2262.22 1544.91 L2269.86 1544.91 L2269.86 1548.85 L2249.95 1548.85 L2249.95 1544.91 Z\" fill=\"#000000\" fill-rule=\"nonzero\" fill-opacity=\"1\" /><path clip-path=\"url(#clip650)\" d=\"M2289.3 1517.37 Q2285.69 1517.37 2283.86 1520.93 Q2282.06 1524.47 2282.06 1531.6 Q2282.06 1538.71 2283.86 1542.27 Q2285.69 1545.82 2289.3 1545.82 Q2292.93 1545.82 2294.74 1542.27 Q2296.57 1538.71 2296.57 1531.6 Q2296.57 1524.47 2294.74 1520.93 Q2292.93 1517.37 2289.3 1517.37 M2289.3 1513.66 Q2295.11 1513.66 2298.17 1518.27 Q2301.25 1522.85 2301.25 1531.6 Q2301.25 1540.33 2298.17 1544.94 Q2295.11 1549.52 2289.3 1549.52 Q2283.49 1549.52 2280.41 1544.94 Q2277.36 1540.33 2277.36 1531.6 Q2277.36 1522.85 2280.41 1518.27 Q2283.49 1513.66 2289.3 1513.66 Z\" fill=\"#000000\" fill-rule=\"nonzero\" fill-opacity=\"1\" /><path clip-path=\"url(#clip650)\" d=\"M2319.46 1517.37 Q2315.85 1517.37 2314.02 1520.93 Q2312.22 1524.47 2312.22 1531.6 Q2312.22 1538.71 2314.02 1542.27 Q2315.85 1545.82 2319.46 1545.82 Q2323.1 1545.82 2324.9 1542.27 Q2326.73 1538.71 2326.73 1531.6 Q2326.73 1524.47 2324.9 1520.93 Q2323.1 1517.37 2319.46 1517.37 M2319.46 1513.66 Q2325.27 1513.66 2328.33 1518.27 Q2331.41 1522.85 2331.41 1531.6 Q2331.41 1540.33 2328.33 1544.94 Q2325.27 1549.52 2319.46 1549.52 Q2313.65 1549.52 2310.57 1544.94 Q2307.52 1540.33 2307.52 1531.6 Q2307.52 1522.85 2310.57 1518.27 Q2313.65 1513.66 2319.46 1513.66 Z\" fill=\"#000000\" fill-rule=\"nonzero\" fill-opacity=\"1\" /><polyline clip-path=\"url(#clip652)\" style=\"stroke:#000000; stroke-linecap:round; stroke-linejoin:round; stroke-width:2; stroke-opacity:0.1; fill:none\" points=\"147.478,1411.28 2352.76,1411.28 \"/>\n",
       "<polyline clip-path=\"url(#clip652)\" style=\"stroke:#000000; stroke-linecap:round; stroke-linejoin:round; stroke-width:2; stroke-opacity:0.1; fill:none\" points=\"147.478,1119.14 2352.76,1119.14 \"/>\n",
       "<polyline clip-path=\"url(#clip652)\" style=\"stroke:#000000; stroke-linecap:round; stroke-linejoin:round; stroke-width:2; stroke-opacity:0.1; fill:none\" points=\"147.478,827.002 2352.76,827.002 \"/>\n",
       "<polyline clip-path=\"url(#clip652)\" style=\"stroke:#000000; stroke-linecap:round; stroke-linejoin:round; stroke-width:2; stroke-opacity:0.1; fill:none\" points=\"147.478,534.862 2352.76,534.862 \"/>\n",
       "<polyline clip-path=\"url(#clip652)\" style=\"stroke:#000000; stroke-linecap:round; stroke-linejoin:round; stroke-width:2; stroke-opacity:0.1; fill:none\" points=\"147.478,242.721 2352.76,242.721 \"/>\n",
       "<polyline clip-path=\"url(#clip650)\" style=\"stroke:#000000; stroke-linecap:round; stroke-linejoin:round; stroke-width:4; stroke-opacity:1; fill:none\" points=\"147.478,1486.45 147.478,47.2441 \"/>\n",
       "<polyline clip-path=\"url(#clip650)\" style=\"stroke:#000000; stroke-linecap:round; stroke-linejoin:round; stroke-width:4; stroke-opacity:1; fill:none\" points=\"147.478,1411.28 166.376,1411.28 \"/>\n",
       "<polyline clip-path=\"url(#clip650)\" style=\"stroke:#000000; stroke-linecap:round; stroke-linejoin:round; stroke-width:4; stroke-opacity:1; fill:none\" points=\"147.478,1119.14 166.376,1119.14 \"/>\n",
       "<polyline clip-path=\"url(#clip650)\" style=\"stroke:#000000; stroke-linecap:round; stroke-linejoin:round; stroke-width:4; stroke-opacity:1; fill:none\" points=\"147.478,827.002 166.376,827.002 \"/>\n",
       "<polyline clip-path=\"url(#clip650)\" style=\"stroke:#000000; stroke-linecap:round; stroke-linejoin:round; stroke-width:4; stroke-opacity:1; fill:none\" points=\"147.478,534.862 166.376,534.862 \"/>\n",
       "<polyline clip-path=\"url(#clip650)\" style=\"stroke:#000000; stroke-linecap:round; stroke-linejoin:round; stroke-width:4; stroke-opacity:1; fill:none\" points=\"147.478,242.721 166.376,242.721 \"/>\n",
       "<path clip-path=\"url(#clip650)\" d=\"M51.3625 1411.74 L81.0383 1411.74 L81.0383 1415.67 L51.3625 1415.67 L51.3625 1411.74 Z\" fill=\"#000000\" fill-rule=\"nonzero\" fill-opacity=\"1\" /><path clip-path=\"url(#clip650)\" d=\"M95.1586 1424.63 L111.478 1424.63 L111.478 1428.56 L89.5336 1428.56 L89.5336 1424.63 Q92.1956 1421.87 96.7789 1417.24 Q101.385 1412.59 102.566 1411.25 Q104.811 1408.73 105.691 1406.99 Q106.594 1405.23 106.594 1403.54 Q106.594 1400.79 104.649 1399.05 Q102.728 1397.31 99.6261 1397.31 Q97.4271 1397.31 94.9734 1398.08 Q92.5428 1398.84 89.7651 1400.39 L89.7651 1395.67 Q92.5891 1394.54 95.0428 1393.96 Q97.4965 1393.38 99.5335 1393.38 Q104.904 1393.38 108.098 1396.06 Q111.293 1398.75 111.293 1403.24 Q111.293 1405.37 110.483 1407.29 Q109.696 1409.19 107.589 1411.78 Q107.01 1412.45 103.909 1415.67 Q100.807 1418.86 95.1586 1424.63 Z\" fill=\"#000000\" fill-rule=\"nonzero\" fill-opacity=\"1\" /><path clip-path=\"url(#clip650)\" d=\"M50.9921 1119.59 L80.6679 1119.59 L80.6679 1123.53 L50.9921 1123.53 L50.9921 1119.59 Z\" fill=\"#000000\" fill-rule=\"nonzero\" fill-opacity=\"1\" /><path clip-path=\"url(#clip650)\" d=\"M91.5706 1132.49 L99.2095 1132.49 L99.2095 1106.12 L90.8993 1107.79 L90.8993 1103.53 L99.1632 1101.86 L103.839 1101.86 L103.839 1132.49 L111.478 1132.49 L111.478 1136.42 L91.5706 1136.42 L91.5706 1132.49 Z\" fill=\"#000000\" fill-rule=\"nonzero\" fill-opacity=\"1\" /><path clip-path=\"url(#clip650)\" d=\"M99.5335 812.801 Q95.9224 812.801 94.0937 816.366 Q92.2882 819.908 92.2882 827.037 Q92.2882 834.144 94.0937 837.708 Q95.9224 841.25 99.5335 841.25 Q103.168 841.25 104.973 837.708 Q106.802 834.144 106.802 827.037 Q106.802 819.908 104.973 816.366 Q103.168 812.801 99.5335 812.801 M99.5335 809.097 Q105.344 809.097 108.399 813.704 Q111.478 818.287 111.478 827.037 Q111.478 835.764 108.399 840.37 Q105.344 844.954 99.5335 844.954 Q93.7234 844.954 90.6447 840.37 Q87.5892 835.764 87.5892 827.037 Q87.5892 818.287 90.6447 813.704 Q93.7234 809.097 99.5335 809.097 Z\" fill=\"#000000\" fill-rule=\"nonzero\" fill-opacity=\"1\" /><path clip-path=\"url(#clip650)\" d=\"M91.5706 548.207 L99.2095 548.207 L99.2095 521.841 L90.8993 523.508 L90.8993 519.248 L99.1632 517.582 L103.839 517.582 L103.839 548.207 L111.478 548.207 L111.478 552.142 L91.5706 552.142 L91.5706 548.207 Z\" fill=\"#000000\" fill-rule=\"nonzero\" fill-opacity=\"1\" /><path clip-path=\"url(#clip650)\" d=\"M95.1586 256.066 L111.478 256.066 L111.478 260.001 L89.5336 260.001 L89.5336 256.066 Q92.1956 253.311 96.7789 248.682 Q101.385 244.029 102.566 242.686 Q104.811 240.163 105.691 238.427 Q106.594 236.668 106.594 234.978 Q106.594 232.223 104.649 230.487 Q102.728 228.751 99.6261 228.751 Q97.4271 228.751 94.9734 229.515 Q92.5428 230.279 89.7651 231.83 L89.7651 227.108 Q92.5891 225.973 95.0428 225.395 Q97.4965 224.816 99.5335 224.816 Q104.904 224.816 108.098 227.501 Q111.293 230.186 111.293 234.677 Q111.293 236.807 110.483 238.728 Q109.696 240.626 107.589 243.219 Q107.01 243.89 103.909 247.108 Q100.807 250.302 95.1586 256.066 Z\" fill=\"#000000\" fill-rule=\"nonzero\" fill-opacity=\"1\" /><polyline clip-path=\"url(#clip652)\" style=\"stroke:#009af9; stroke-linecap:round; stroke-linejoin:round; stroke-width:4; stroke-opacity:1; fill:none\" points=\"209.891,845.841 230.906,256.024 251.921,851.556 272.935,703.429 293.95,804.988 314.965,543.104 335.979,801.077 356.994,813.571 378.009,563.947 399.023,828.896 420.038,904.366 441.053,1143.41 462.067,787.853 483.082,839.246 504.097,831.873 525.111,919.361 546.126,911.267 567.141,729.43 588.155,1319.4 609.17,1310.74 630.185,518.28 651.199,782.185 672.214,703.073 693.229,536.351 714.243,650.298 735.258,1153.42 756.272,856.129 777.287,673.342 798.302,481.885 819.316,668.911 840.331,997.446 861.346,474.688 882.36,722.285 903.375,994.392 924.39,1066.85 945.404,1182.28 966.419,1091.99 987.434,347.431 1008.45,617.123 1029.46,1096.03 1050.48,663.252 1071.49,539.293 1092.51,968.649 1113.52,565.198 1134.54,712.599 1155.55,1280.67 1176.57,1071.43 1197.58,400.269 1218.59,625.484 1239.61,792.298 1260.62,756.616 1281.64,731.348 1302.65,1233.05 1323.67,420.966 1344.68,920.584 1365.7,1118.25 1386.71,358.669 1407.73,1037.22 1428.74,348.718 1449.76,1260.72 1470.77,227.057 1491.79,219.329 1512.8,938.448 1533.81,1407.42 1554.83,484.84 1575.84,740.354 1596.86,562.992 1617.87,1132.2 1638.89,737.265 1659.9,354.687 1680.92,1034.54 1701.93,1301.44 1722.95,973.186 1743.96,621.19 1764.98,700.053 1785.99,801.075 1807.01,1445.72 1828.02,1337.65 1849.03,87.9763 1870.05,1361.9 1891.06,493.562 1912.08,683.172 1933.09,473.148 1954.11,677.45 1975.12,1073.14 1996.14,730.662 2017.15,824.408 2038.17,1011.45 2059.18,756.421 2080.2,134.059 2101.21,1007.37 2122.23,991.022 2143.24,736.522 2164.25,989.946 2185.27,1091.65 2206.28,1270.86 2227.3,635.695 2248.31,930.623 2269.33,735.765 2290.34,578.349 \"/>\n",
       "<path clip-path=\"url(#clip650)\" d=\"M220.987 198.898 L493.945 198.898 L493.945 95.2176 L220.987 95.2176  Z\" fill=\"#ffffff\" fill-rule=\"evenodd\" fill-opacity=\"1\"/>\n",
       "<polyline clip-path=\"url(#clip650)\" style=\"stroke:#000000; stroke-linecap:round; stroke-linejoin:round; stroke-width:4; stroke-opacity:1; fill:none\" points=\"220.987,198.898 493.945,198.898 493.945,95.2176 220.987,95.2176 220.987,198.898 \"/>\n",
       "<polyline clip-path=\"url(#clip650)\" style=\"stroke:#009af9; stroke-linecap:round; stroke-linejoin:round; stroke-width:4; stroke-opacity:1; fill:none\" points=\"245.49,147.058 392.509,147.058 \"/>\n",
       "<path clip-path=\"url(#clip650)\" d=\"M430.854 166.745 Q429.049 171.375 427.336 172.787 Q425.623 174.199 422.753 174.199 L419.35 174.199 L419.35 170.634 L421.85 170.634 Q423.609 170.634 424.581 169.8 Q425.554 168.967 426.734 165.865 L427.498 163.921 L417.012 138.412 L421.526 138.412 L429.628 158.689 L437.729 138.412 L442.243 138.412 L430.854 166.745 Z\" fill=\"#000000\" fill-rule=\"nonzero\" fill-opacity=\"1\" /><path clip-path=\"url(#clip650)\" d=\"M449.535 160.402 L457.174 160.402 L457.174 134.037 L448.864 135.703 L448.864 131.444 L457.127 129.778 L461.803 129.778 L461.803 160.402 L469.442 160.402 L469.442 164.338 L449.535 164.338 L449.535 160.402 Z\" fill=\"#000000\" fill-rule=\"nonzero\" fill-opacity=\"1\" /></svg>\n"
      ]
     },
     "execution_count": 5,
     "metadata": {},
     "output_type": "execute_result"
    }
   ],
   "source": [
    "n = 100\n",
    "ep = randn(n)\n",
    "plot(1:n, ep)"
   ]
  },
  {
   "cell_type": "markdown",
   "id": "c5e9552a",
   "metadata": {},
   "source": [
    "Let’s break this down and see how it works.\n",
    "\n",
    "The effect of the statement `using Plots` is to make all the names exported by the `Plots` module available.\n",
    "\n",
    "If a project file was activated (i.e., running jupyter with the project files local to the notebook), it will use whatever version of `Plots.jl` that was specified in the `Project.toml` and `Manifest.toml` files.\n",
    "\n",
    "The other packages `LinearAlgebra` and `Statistics` are base Julia libraries, but require an explicit using.\n",
    "\n",
    "The arguments to `plot` are the numbers `1,2, ..., n` for the x-axis, a vector `ep` for the y-axis, and (optional) settings.\n",
    "\n",
    "The function `randn(n)` returns a column vector `n` random draws from a normal distribution with mean 0 and variance 1.\n",
    "\n",
    ">**Note**\n",
    ">\n",
    ">As a language intended for mathematical and scientific computing, Julia has\n",
    "strong support for using unicode characters.\n",
    "\n",
    "Rather than using a symbol such as `ep` we could have used `ϵ` and many other symbols can be typed in most Julia editor by providing the LaTeX and `<TAB>`, i.e. `\\epsilon<TAB>`."
   ]
  },
  {
   "cell_type": "markdown",
   "id": "07ac4e77",
   "metadata": {},
   "source": [
    "### Arrays\n",
    "\n",
    "The return type is one of the most fundamental Julia data types: an array"
   ]
  },
  {
   "cell_type": "code",
   "execution_count": 7,
   "id": "2bd7411c",
   "metadata": {
    "hide-output": false
   },
   "outputs": [
    {
     "data": {
      "text/plain": [
       "Vector{Float64}\u001b[90m (alias for \u001b[39m\u001b[90mArray{Float64, 1}\u001b[39m\u001b[90m)\u001b[39m"
      ]
     },
     "execution_count": 7,
     "metadata": {},
     "output_type": "execute_result"
    }
   ],
   "source": [
    "typeof(ep)"
   ]
  },
  {
   "cell_type": "code",
   "execution_count": 9,
   "id": "3e675f89",
   "metadata": {
    "hide-output": false
   },
   "outputs": [
    {
     "data": {
      "text/plain": [
       "5-element Vector{Float64}:\n",
       " -0.06448461714925764\n",
       "  1.954463107262916\n",
       " -0.08404738441417381\n",
       "  0.42299161866007295\n",
       "  0.07535684700202079"
      ]
     },
     "execution_count": 9,
     "metadata": {},
     "output_type": "execute_result"
    }
   ],
   "source": [
    "ep[1:5]"
   ]
  },
  {
   "cell_type": "markdown",
   "id": "2a4714a7",
   "metadata": {},
   "source": [
    "The information from `typeof()` tells us that `ep` is an array of 64 bit floating point values, of dimension 1.\n",
    "\n",
    "In Julia, one-dimensional arrays are interpreted as column vectors for purposes of linear algebra.\n",
    "\n",
    "The `ep[1:5]` returns an array of the first 5 elements of `ep`.\n",
    "\n",
    "Notice from the above that\n",
    "\n",
    "- array indices start at 1 (like MATLAB and Fortran, but unlike Python and C)  \n",
    "- array elements are referenced using square brackets (unlike MATLAB and Fortran)  \n",
    "\n",
    "\n",
    "To get **help and examples** in Jupyter or other julia editors, use the `?` before a function name or syntax."
   ]
  },
  {
   "cell_type": "code",
   "execution_count": 15,
   "id": "793bf61f",
   "metadata": {
    "hide-output": false
   },
   "outputs": [
    {
     "name": "stdout",
     "output_type": "stream",
     "text": [
      "search:\n",
      "\n",
      "Couldn't find '\u001b[36mtypeof\u001b[39m\n",
      "\n",
      "\u001b[36msearch: typeof typejoin TypeError\u001b[39m\n",
      "\n",
      "\u001b[36mGet the concrete type of x.\u001b[39m\n",
      "\n",
      "\u001b[36mExamples\u001b[39m\n",
      "\n",
      "\u001b[36mjulia> a = 1//2;\u001b[39m\n",
      "\n",
      "\u001b[36mjulia> typeof(a)\u001b[39m\n",
      "\u001b[36mRational{Int64}\u001b[39m\n",
      "\n",
      "\u001b[36mjulia> M = [1 2; 3.5 4];\u001b[39m\n",
      "\n",
      "\u001b[36mjulia> typeof(M)\u001b[39m\n",
      "\u001b[36mArray{Float64,2}\u001b[39m'\n",
      "Perhaps you meant ConcurrencyViolationError\n"
     ]
    },
    {
     "data": {
      "text/latex": [
       "No documentation found.\n",
       "\n",
       "Binding '`typeof\n",
       "\n",
       "search: typeof typejoin TypeError\n",
       "\n",
       "Get the concrete type of x.\n",
       "\n",
       "Examples\n",
       "\n",
       "julia> a = 1//2;\n",
       "\n",
       "julia> typeof(a) Rational\\{Int64\\}\n",
       "\n",
       "julia> M = [1 2; 3.5 4];\n",
       "\n",
       "julia> typeof(M) Array\\{Float64,2\\}`' does not exist.\n",
       "\n"
      ],
      "text/markdown": [
       "No documentation found.\n",
       "\n",
       "Binding '`typeof\n",
       "\n",
       "search: typeof typejoin TypeError\n",
       "\n",
       "Get the concrete type of x.\n",
       "\n",
       "Examples\n",
       "\n",
       "julia> a = 1//2;\n",
       "\n",
       "julia> typeof(a) Rational{Int64}\n",
       "\n",
       "julia> M = [1 2; 3.5 4];\n",
       "\n",
       "julia> typeof(M) Array{Float64,2}`' does not exist.\n"
      ],
      "text/plain": [
       "  No documentation found.\n",
       "\n",
       "  Binding '`typeof\n",
       "\n",
       "  search: typeof typejoin TypeError\n",
       "\n",
       "  Get the concrete type of x.\n",
       "\n",
       "  Examples\n",
       "\n",
       "  julia> a = 1//2;\n",
       "\n",
       "  julia> typeof(a) Rational{Int64}\n",
       "\n",
       "  julia> M = [1 2; 3.5 4];\n",
       "\n",
       "  julia> typeof(M) Array{Float64,2}`' does not exist."
      ]
     },
     "execution_count": 15,
     "metadata": {},
     "output_type": "execute_result"
    }
   ],
   "source": [
    "?typeof\n",
    "\n",
    "search: typeof typejoin TypeError\n",
    "\n",
    "Get the concrete type of x.\n",
    "\n",
    "Examples\n",
    "\n",
    "julia> a = 1//2;\n",
    "\n",
    "julia> typeof(a)\n",
    "Rational{Int64}\n",
    "\n",
    "julia> M = [1 2; 3.5 4];\n",
    "\n",
    "julia> typeof(M)\n",
    "Array{Float64,2}"
   ]
  },
  {
   "cell_type": "markdown",
   "id": "91f6b796",
   "metadata": {},
   "source": [
    "### For Loops\n",
    "\n",
    "Although there’s no need in terms of what we wanted to achieve with our\n",
    "program, for the sake of learning syntax let’s rewrite our program to use a\n",
    "`for` loop for generating the data.\n",
    "\n",
    ">**Note**\n",
    ">\n",
    ">The rules for variables accessed in `for` and `while` loops can be sensitive to how they are used (and variables can sometimes require a `global` as part of the declaration).  We strongly advise you to avoid top level (i.e. outside of functions) `for` and `while` loops when working with `.jl`.  This scoping issue does not apply when used within functions, and will not be seen in the REPL or Jupyter notebooks.\n",
    "\n",
    "Starting with the most direct version, and pretending we are in a world where `randn` can only return a single value"
   ]
  },
  {
   "cell_type": "code",
   "execution_count": 19,
   "id": "e7518280",
   "metadata": {
    "hide-output": false
   },
   "outputs": [],
   "source": [
    "# poor style\n",
    "n = 100\n",
    "ep = zeros(n)\n",
    "for i in 1:n\n",
    "    ep[i] = randn()\n",
    "end"
   ]
  },
  {
   "cell_type": "markdown",
   "id": "0ff4b8cc",
   "metadata": {},
   "source": [
    "Here we first declared `ep` to be a vector of `n` numbers, initialized by the floating point `0.0`.\n",
    "\n",
    "The `for` loop then populates this array by successive calls to `randn()`.\n",
    "\n",
    "Like all code blocks in Julia, the end of the `for` loop code block (which is just one line here) is indicated by the keyword `end`.\n",
    "\n",
    "The word `in` from the `for` loop can be replaced by either `∈` or `=`.\n",
    "\n",
    "The index variable is looped over for all integers from `1:n` – but this does not actually create a vector of those indices.\n",
    "\n",
    "Instead, it creates an **iterator** that is looped over – in this case the **range** of integers from `1` to `n`.\n",
    "\n",
    "While this example successfully fills in `ep` with the correct values, it is very indirect as the connection between the index `i` and the `ep` vector is unclear.\n",
    "\n",
    "To fix this, use `eachindex`"
   ]
  },
  {
   "cell_type": "code",
   "execution_count": 21,
   "id": "b7456752",
   "metadata": {
    "hide-output": false
   },
   "outputs": [],
   "source": [
    "# better style\n",
    "n = 100\n",
    "ep = zeros(n)\n",
    "for i in eachindex(ep)\n",
    "    ep[i] = randn()\n",
    "end"
   ]
  },
  {
   "cell_type": "markdown",
   "id": "dc959f0c",
   "metadata": {},
   "source": [
    "Here, `eachindex(ep)` returns an iterator of indices which can be used to access `ep`.\n",
    "\n",
    "While iterators are memory efficient because the elements are generated on the fly rather than stored in memory, the main benefit is (1) it can lead to code which is clearer and less prone to typos; and (2) it allows the compiler flexibility to creatively generate fast code.\n",
    "\n",
    "In Julia you can also loop directly over arrays themselves, like so"
   ]
  },
  {
   "cell_type": "code",
   "execution_count": 23,
   "id": "b747cb35",
   "metadata": {
    "hide-output": false
   },
   "outputs": [
    {
     "data": {
      "text/plain": [
       "-0.8137282373374815"
      ]
     },
     "execution_count": 23,
     "metadata": {},
     "output_type": "execute_result"
    }
   ],
   "source": [
    "ep_sum = 0.0 # careful to use 0.0 here, instead of 0\n",
    "m = 5\n",
    "for ep_val in ep[1:m]\n",
    "    ep_sum = ep_sum + ep_val\n",
    "end\n",
    "ep_mean = ep_sum / m"
   ]
  },
  {
   "cell_type": "markdown",
   "id": "0b86bf9c",
   "metadata": {},
   "source": [
    "where `ep[1:m]` returns the elements of the vector at indices `1` to `m`.\n",
    "\n",
    "Of course, in Julia there are built in functions to perform this calculation which we can compare against"
   ]
  },
  {
   "cell_type": "code",
   "execution_count": 25,
   "id": "b0b5b14a",
   "metadata": {
    "hide-output": false
   },
   "outputs": [
    {
     "data": {
      "text/plain": [
       "true"
      ]
     },
     "execution_count": 25,
     "metadata": {},
     "output_type": "execute_result"
    }
   ],
   "source": [
    "ep_mean ≈ mean(ep[1:m])\n",
    "isapprox(ep_mean, mean(ep[1:m])) # equivalent\n",
    "ep_mean ≈ sum(ep[1:m]) / m"
   ]
  },
  {
   "cell_type": "markdown",
   "id": "c253efde",
   "metadata": {},
   "source": [
    "In these examples, note the use of `≈` or `isapprox` to test equality, rather than `==`, which is appropriate for integers and other types.\n",
    "\n",
    "Approximately equal, typed with `\\approx<TAB>`, is the appropriate way to compare any floating point numbers due to the standard issues of [floating point math](https://floating-point-gui.de/).  Note that `x ≈ y` is the same as `isapprox(x, y)`.\n",
    "\n",
    "\n",
    "<a id='user-defined-functions'></a>"
   ]
  },
  {
   "cell_type": "markdown",
   "id": "2ce3d6cf",
   "metadata": {},
   "source": [
    "### User-Defined Functions\n",
    "\n",
    "For the sake of the exercise, let’s go back to the `for` loop but restructure our program so that generation of random variables takes place within a user-defined function.\n",
    "\n",
    "To make things more interesting, instead of directly plotting the draws from the distribution, let’s plot the squares of these draws"
   ]
  },
  {
   "cell_type": "code",
   "execution_count": 27,
   "id": "7d586527",
   "metadata": {
    "hide-output": false
   },
   "outputs": [
    {
     "data": {
      "image/png": "[encoded data removed]",
      "image/svg+xml": [
       "<?xml version=\"1.0\" encoding=\"utf-8\"?>\n",
       "<svg xmlns=\"http://www.w3.org/2000/svg\" xmlns:xlink=\"http://www.w3.org/1999/xlink\" width=\"600\" height=\"400\" viewBox=\"0 0 2400 1600\">\n",
       "<defs>\n",
       "  <clipPath id=\"clip690\">\n",
       "    <rect x=\"0\" y=\"0\" width=\"2400\" height=\"1600\"/>\n",
       "  </clipPath>\n",
       "</defs>\n",
       "<path clip-path=\"url(#clip690)\" d=\"M0 1600 L2400 1600 L2400 0 L0 0  Z\" fill=\"#ffffff\" fill-rule=\"evenodd\" fill-opacity=\"1\"/>\n",
       "<defs>\n",
       "  <clipPath id=\"clip691\">\n",
       "    <rect x=\"480\" y=\"0\" width=\"1681\" height=\"1600\"/>\n",
       "  </clipPath>\n",
       "</defs>\n",
       "<path clip-path=\"url(#clip690)\" d=\"M112.177 1486.45 L2352.76 1486.45 L2352.76 47.2441 L112.177 47.2441  Z\" fill=\"#ffffff\" fill-rule=\"evenodd\" fill-opacity=\"1\"/>\n",
       "<defs>\n",
       "  <clipPath id=\"clip692\">\n",
       "    <rect x=\"112\" y=\"47\" width=\"2242\" height=\"1440\"/>\n",
       "  </clipPath>\n",
       "</defs>\n",
       "<polyline clip-path=\"url(#clip692)\" style=\"stroke:#000000; stroke-linecap:round; stroke-linejoin:round; stroke-width:2; stroke-opacity:0.1; fill:none\" points=\"410.451,1486.45 410.451,47.2441 \"/>\n",
       "<polyline clip-path=\"url(#clip692)\" style=\"stroke:#000000; stroke-linecap:round; stroke-linejoin:round; stroke-width:2; stroke-opacity:0.1; fill:none\" points=\"880.174,1486.45 880.174,47.2441 \"/>\n",
       "<polyline clip-path=\"url(#clip692)\" style=\"stroke:#000000; stroke-linecap:round; stroke-linejoin:round; stroke-width:2; stroke-opacity:0.1; fill:none\" points=\"1349.9,1486.45 1349.9,47.2441 \"/>\n",
       "<polyline clip-path=\"url(#clip692)\" style=\"stroke:#000000; stroke-linecap:round; stroke-linejoin:round; stroke-width:2; stroke-opacity:0.1; fill:none\" points=\"1819.62,1486.45 1819.62,47.2441 \"/>\n",
       "<polyline clip-path=\"url(#clip692)\" style=\"stroke:#000000; stroke-linecap:round; stroke-linejoin:round; stroke-width:2; stroke-opacity:0.1; fill:none\" points=\"2289.34,1486.45 2289.34,47.2441 \"/>\n",
       "<polyline clip-path=\"url(#clip690)\" style=\"stroke:#000000; stroke-linecap:round; stroke-linejoin:round; stroke-width:4; stroke-opacity:1; fill:none\" points=\"112.177,1486.45 2352.76,1486.45 \"/>\n",
       "<polyline clip-path=\"url(#clip690)\" style=\"stroke:#000000; stroke-linecap:round; stroke-linejoin:round; stroke-width:4; stroke-opacity:1; fill:none\" points=\"410.451,1486.45 410.451,1467.55 \"/>\n",
       "<polyline clip-path=\"url(#clip690)\" style=\"stroke:#000000; stroke-linecap:round; stroke-linejoin:round; stroke-width:4; stroke-opacity:1; fill:none\" points=\"880.174,1486.45 880.174,1467.55 \"/>\n",
       "<polyline clip-path=\"url(#clip690)\" style=\"stroke:#000000; stroke-linecap:round; stroke-linejoin:round; stroke-width:4; stroke-opacity:1; fill:none\" points=\"1349.9,1486.45 1349.9,1467.55 \"/>\n",
       "<polyline clip-path=\"url(#clip690)\" style=\"stroke:#000000; stroke-linecap:round; stroke-linejoin:round; stroke-width:4; stroke-opacity:1; fill:none\" points=\"1819.62,1486.45 1819.62,1467.55 \"/>\n",
       "<polyline clip-path=\"url(#clip690)\" style=\"stroke:#000000; stroke-linecap:round; stroke-linejoin:round; stroke-width:4; stroke-opacity:1; fill:none\" points=\"2289.34,1486.45 2289.34,1467.55 \"/>\n",
       "<path clip-path=\"url(#clip690)\" d=\"M405.104 1544.91 L421.423 1544.91 L421.423 1548.85 L399.479 1548.85 L399.479 1544.91 Q402.141 1542.16 406.724 1537.53 Q411.331 1532.88 412.511 1531.53 Q414.757 1529.01 415.636 1527.27 Q416.539 1525.51 416.539 1523.82 Q416.539 1521.07 414.595 1519.33 Q412.673 1517.6 409.572 1517.6 Q407.373 1517.6 404.919 1518.36 Q402.488 1519.13 399.711 1520.68 L399.711 1515.95 Q402.535 1514.82 404.988 1514.24 Q407.442 1513.66 409.479 1513.66 Q414.849 1513.66 418.044 1516.35 Q421.238 1519.03 421.238 1523.52 Q421.238 1525.65 420.428 1527.57 Q419.641 1529.47 417.535 1532.07 Q416.956 1532.74 413.854 1535.95 Q410.752 1539.15 405.104 1544.91 Z\" fill=\"#000000\" fill-rule=\"nonzero\" fill-opacity=\"1\" /><path clip-path=\"url(#clip690)\" d=\"M883.184 1518.36 L871.378 1536.81 L883.184 1536.81 L883.184 1518.36 M881.957 1514.29 L887.836 1514.29 L887.836 1536.81 L892.767 1536.81 L892.767 1540.7 L887.836 1540.7 L887.836 1548.85 L883.184 1548.85 L883.184 1540.7 L867.582 1540.7 L867.582 1536.19 L881.957 1514.29 Z\" fill=\"#000000\" fill-rule=\"nonzero\" fill-opacity=\"1\" /><path clip-path=\"url(#clip690)\" d=\"M1350.3 1529.7 Q1347.15 1529.7 1345.3 1531.86 Q1343.47 1534.01 1343.47 1537.76 Q1343.47 1541.49 1345.3 1543.66 Q1347.15 1545.82 1350.3 1545.82 Q1353.45 1545.82 1355.28 1543.66 Q1357.13 1541.49 1357.13 1537.76 Q1357.13 1534.01 1355.28 1531.86 Q1353.45 1529.7 1350.3 1529.7 M1359.58 1515.05 L1359.58 1519.31 Q1357.83 1518.48 1356.02 1518.04 Q1354.24 1517.6 1352.48 1517.6 Q1347.85 1517.6 1345.4 1520.72 Q1342.96 1523.85 1342.62 1530.17 Q1343.98 1528.15 1346.04 1527.09 Q1348.1 1526 1350.58 1526 Q1355.79 1526 1358.8 1529.17 Q1361.83 1532.32 1361.83 1537.76 Q1361.83 1543.08 1358.68 1546.3 Q1355.53 1549.52 1350.3 1549.52 Q1344.31 1549.52 1341.14 1544.94 Q1337.96 1540.33 1337.96 1531.6 Q1337.96 1523.41 1341.85 1518.55 Q1345.74 1513.66 1352.29 1513.66 Q1354.05 1513.66 1355.83 1514.01 Q1357.64 1514.36 1359.58 1515.05 Z\" fill=\"#000000\" fill-rule=\"nonzero\" fill-opacity=\"1\" /><path clip-path=\"url(#clip690)\" d=\"M1819.62 1532.44 Q1816.29 1532.44 1814.37 1534.22 Q1812.47 1536 1812.47 1539.13 Q1812.47 1542.25 1814.37 1544.03 Q1816.29 1545.82 1819.62 1545.82 Q1822.95 1545.82 1824.87 1544.03 Q1826.8 1542.23 1826.8 1539.13 Q1826.8 1536 1824.87 1534.22 Q1822.98 1532.44 1819.62 1532.44 M1814.94 1530.45 Q1811.94 1529.7 1810.25 1527.64 Q1808.58 1525.58 1808.58 1522.62 Q1808.58 1518.48 1811.52 1516.07 Q1814.48 1513.66 1819.62 1513.66 Q1824.78 1513.66 1827.72 1516.07 Q1830.66 1518.48 1830.66 1522.62 Q1830.66 1525.58 1828.97 1527.64 Q1827.31 1529.7 1824.32 1530.45 Q1827.7 1531.23 1829.57 1533.52 Q1831.47 1535.82 1831.47 1539.13 Q1831.47 1544.15 1828.39 1546.83 Q1825.34 1549.52 1819.62 1549.52 Q1813.9 1549.52 1810.82 1546.83 Q1807.77 1544.15 1807.77 1539.13 Q1807.77 1535.82 1809.67 1533.52 Q1811.56 1531.23 1814.94 1530.45 M1813.23 1523.06 Q1813.23 1525.75 1814.9 1527.25 Q1816.59 1528.76 1819.62 1528.76 Q1822.63 1528.76 1824.32 1527.25 Q1826.03 1525.75 1826.03 1523.06 Q1826.03 1520.38 1824.32 1518.87 Q1822.63 1517.37 1819.62 1517.37 Q1816.59 1517.37 1814.9 1518.87 Q1813.23 1520.38 1813.23 1523.06 Z\" fill=\"#000000\" fill-rule=\"nonzero\" fill-opacity=\"1\" /><path clip-path=\"url(#clip690)\" d=\"M2264.03 1544.91 L2271.67 1544.91 L2271.67 1518.55 L2263.36 1520.21 L2263.36 1515.95 L2271.62 1514.29 L2276.3 1514.29 L2276.3 1544.91 L2283.94 1544.91 L2283.94 1548.85 L2264.03 1548.85 L2264.03 1544.91 Z\" fill=\"#000000\" fill-rule=\"nonzero\" fill-opacity=\"1\" /><path clip-path=\"url(#clip690)\" d=\"M2303.38 1517.37 Q2299.77 1517.37 2297.94 1520.93 Q2296.14 1524.47 2296.14 1531.6 Q2296.14 1538.71 2297.94 1542.27 Q2299.77 1545.82 2303.38 1545.82 Q2307.02 1545.82 2308.82 1542.27 Q2310.65 1538.71 2310.65 1531.6 Q2310.65 1524.47 2308.82 1520.93 Q2307.02 1517.37 2303.38 1517.37 M2303.38 1513.66 Q2309.19 1513.66 2312.25 1518.27 Q2315.33 1522.85 2315.33 1531.6 Q2315.33 1540.33 2312.25 1544.94 Q2309.19 1549.52 2303.38 1549.52 Q2297.57 1549.52 2294.49 1544.94 Q2291.44 1540.33 2291.44 1531.6 Q2291.44 1522.85 2294.49 1518.27 Q2297.57 1513.66 2303.38 1513.66 Z\" fill=\"#000000\" fill-rule=\"nonzero\" fill-opacity=\"1\" /><polyline clip-path=\"url(#clip692)\" style=\"stroke:#000000; stroke-linecap:round; stroke-linejoin:round; stroke-width:2; stroke-opacity:0.1; fill:none\" points=\"112.177,1450.56 2352.76,1450.56 \"/>\n",
       "<polyline clip-path=\"url(#clip692)\" style=\"stroke:#000000; stroke-linecap:round; stroke-linejoin:round; stroke-width:2; stroke-opacity:0.1; fill:none\" points=\"112.177,1101.32 2352.76,1101.32 \"/>\n",
       "<polyline clip-path=\"url(#clip692)\" style=\"stroke:#000000; stroke-linecap:round; stroke-linejoin:round; stroke-width:2; stroke-opacity:0.1; fill:none\" points=\"112.177,752.085 2352.76,752.085 \"/>\n",
       "<polyline clip-path=\"url(#clip692)\" style=\"stroke:#000000; stroke-linecap:round; stroke-linejoin:round; stroke-width:2; stroke-opacity:0.1; fill:none\" points=\"112.177,402.846 2352.76,402.846 \"/>\n",
       "<polyline clip-path=\"url(#clip692)\" style=\"stroke:#000000; stroke-linecap:round; stroke-linejoin:round; stroke-width:2; stroke-opacity:0.1; fill:none\" points=\"112.177,53.6062 2352.76,53.6062 \"/>\n",
       "<polyline clip-path=\"url(#clip690)\" style=\"stroke:#000000; stroke-linecap:round; stroke-linejoin:round; stroke-width:4; stroke-opacity:1; fill:none\" points=\"112.177,1486.45 112.177,47.2441 \"/>\n",
       "<polyline clip-path=\"url(#clip690)\" style=\"stroke:#000000; stroke-linecap:round; stroke-linejoin:round; stroke-width:4; stroke-opacity:1; fill:none\" points=\"112.177,1450.56 131.075,1450.56 \"/>\n",
       "<polyline clip-path=\"url(#clip690)\" style=\"stroke:#000000; stroke-linecap:round; stroke-linejoin:round; stroke-width:4; stroke-opacity:1; fill:none\" points=\"112.177,1101.32 131.075,1101.32 \"/>\n",
       "<polyline clip-path=\"url(#clip690)\" style=\"stroke:#000000; stroke-linecap:round; stroke-linejoin:round; stroke-width:4; stroke-opacity:1; fill:none\" points=\"112.177,752.085 131.075,752.085 \"/>\n",
       "<polyline clip-path=\"url(#clip690)\" style=\"stroke:#000000; stroke-linecap:round; stroke-linejoin:round; stroke-width:4; stroke-opacity:1; fill:none\" points=\"112.177,402.846 131.075,402.846 \"/>\n",
       "<polyline clip-path=\"url(#clip690)\" style=\"stroke:#000000; stroke-linecap:round; stroke-linejoin:round; stroke-width:4; stroke-opacity:1; fill:none\" points=\"112.177,53.6062 131.075,53.6062 \"/>\n",
       "<path clip-path=\"url(#clip690)\" d=\"M64.2328 1436.36 Q60.6217 1436.36 58.793 1439.93 Q56.9875 1443.47 56.9875 1450.6 Q56.9875 1457.7 58.793 1461.27 Q60.6217 1464.81 64.2328 1464.81 Q67.867 1464.81 69.6726 1461.27 Q71.5013 1457.7 71.5013 1450.6 Q71.5013 1443.47 69.6726 1439.93 Q67.867 1436.36 64.2328 1436.36 M64.2328 1432.66 Q70.0429 1432.66 73.0985 1437.27 Q76.1772 1441.85 76.1772 1450.6 Q76.1772 1459.33 73.0985 1463.93 Q70.0429 1468.51 64.2328 1468.51 Q58.4226 1468.51 55.344 1463.93 Q52.2884 1459.33 52.2884 1450.6 Q52.2884 1441.85 55.344 1437.27 Q58.4226 1432.66 64.2328 1432.66 Z\" fill=\"#000000\" fill-rule=\"nonzero\" fill-opacity=\"1\" /><path clip-path=\"url(#clip690)\" d=\"M56.2699 1114.67 L63.9087 1114.67 L63.9087 1088.3 L55.5986 1089.97 L55.5986 1085.71 L63.8624 1084.04 L68.5383 1084.04 L68.5383 1114.67 L76.1772 1114.67 L76.1772 1118.6 L56.2699 1118.6 L56.2699 1114.67 Z\" fill=\"#000000\" fill-rule=\"nonzero\" fill-opacity=\"1\" /><path clip-path=\"url(#clip690)\" d=\"M59.8578 765.43 L76.1772 765.43 L76.1772 769.365 L54.2328 769.365 L54.2328 765.43 Q56.8949 762.675 61.4782 758.045 Q66.0846 753.393 67.2652 752.05 Q69.5105 749.527 70.3902 747.791 Q71.2929 746.032 71.2929 744.342 Q71.2929 741.587 69.3485 739.851 Q67.4272 738.115 64.3254 738.115 Q62.1263 738.115 59.6726 738.879 Q57.2421 739.643 54.4643 741.194 L54.4643 736.472 Q57.2884 735.337 59.7421 734.759 Q62.1958 734.18 64.2328 734.18 Q69.6031 734.18 72.7976 736.865 Q75.992 739.55 75.992 744.041 Q75.992 746.171 75.1818 748.092 Q74.3948 749.99 72.2883 752.583 Q71.7096 753.254 68.6078 756.471 Q65.5059 759.666 59.8578 765.43 Z\" fill=\"#000000\" fill-rule=\"nonzero\" fill-opacity=\"1\" /><path clip-path=\"url(#clip690)\" d=\"M69.0476 401.491 Q72.404 402.209 74.279 404.477 Q76.1772 406.746 76.1772 410.079 Q76.1772 415.195 72.6587 417.996 Q69.1402 420.797 62.6587 420.797 Q60.4828 420.797 58.168 420.357 Q55.8764 419.94 53.4227 419.084 L53.4227 414.57 Q55.3671 415.704 57.6819 416.283 Q59.9967 416.862 62.5198 416.862 Q66.918 416.862 69.2096 415.126 Q71.5244 413.389 71.5244 410.079 Q71.5244 407.024 69.3717 405.311 Q67.242 403.575 63.4226 403.575 L59.3949 403.575 L59.3949 399.732 L63.6078 399.732 Q67.0569 399.732 68.8855 398.366 Q70.7142 396.978 70.7142 394.385 Q70.7142 391.723 68.8161 390.311 Q66.9411 388.876 63.4226 388.876 Q61.5013 388.876 59.3023 389.292 Q57.1032 389.709 54.4643 390.589 L54.4643 386.422 Q57.1264 385.681 59.4412 385.311 Q61.7791 384.941 63.8393 384.941 Q69.1633 384.941 72.2652 387.371 Q75.367 389.778 75.367 393.899 Q75.367 396.769 73.7235 398.76 Q72.08 400.727 69.0476 401.491 Z\" fill=\"#000000\" fill-rule=\"nonzero\" fill-opacity=\"1\" /><path clip-path=\"url(#clip690)\" d=\"M66.5939 40.4002 L54.7884 58.8492 L66.5939 58.8492 L66.5939 40.4002 M65.367 36.3262 L71.2466 36.3262 L71.2466 58.8492 L76.1772 58.8492 L76.1772 62.7381 L71.2466 62.7381 L71.2466 70.8862 L66.5939 70.8862 L66.5939 62.7381 L50.9921 62.7381 L50.9921 58.2242 L65.367 36.3262 Z\" fill=\"#000000\" fill-rule=\"nonzero\" fill-opacity=\"1\" /><polyline clip-path=\"url(#clip692)\" style=\"stroke:#009af9; stroke-linecap:round; stroke-linejoin:round; stroke-width:4; stroke-opacity:1; fill:none\" points=\"175.59,249.778 410.451,1445.72 645.313,1074.55 880.174,87.9763 1115.04,836.052 1349.9,1431.41 1584.76,894.972 1819.62,1411.51 2054.48,1434.76 2289.34,1404.58 \"/>\n",
       "<path clip-path=\"url(#clip690)\" d=\"M2001.58 198.898 L2278.07 198.898 L2278.07 95.2176 L2001.58 95.2176  Z\" fill=\"#ffffff\" fill-rule=\"evenodd\" fill-opacity=\"1\"/>\n",
       "<polyline clip-path=\"url(#clip690)\" style=\"stroke:#000000; stroke-linecap:round; stroke-linejoin:round; stroke-width:4; stroke-opacity:1; fill:none\" points=\"2001.58,198.898 2278.07,198.898 2278.07,95.2176 2001.58,95.2176 2001.58,198.898 \"/>\n",
       "<polyline clip-path=\"url(#clip690)\" style=\"stroke:#009af9; stroke-linecap:round; stroke-linejoin:round; stroke-width:4; stroke-opacity:1; fill:none\" points=\"2026.48,147.058 2175.85,147.058 \"/>\n",
       "<path clip-path=\"url(#clip690)\" d=\"M2214.59 166.745 Q2212.78 171.375 2211.07 172.787 Q2209.36 174.199 2206.49 174.199 L2203.08 174.199 L2203.08 170.634 L2205.58 170.634 Q2207.34 170.634 2208.31 169.8 Q2209.29 168.967 2210.47 165.865 L2211.23 163.921 L2200.74 138.412 L2205.26 138.412 L2213.36 158.689 L2221.46 138.412 L2225.98 138.412 L2214.59 166.745 Z\" fill=\"#000000\" fill-rule=\"nonzero\" fill-opacity=\"1\" /><path clip-path=\"url(#clip690)\" d=\"M2233.27 160.402 L2240.91 160.402 L2240.91 134.037 L2232.6 135.703 L2232.6 131.444 L2240.86 129.778 L2245.54 129.778 L2245.54 160.402 L2253.17 160.402 L2253.17 164.338 L2233.27 164.338 L2233.27 160.402 Z\" fill=\"#000000\" fill-rule=\"nonzero\" fill-opacity=\"1\" /></svg>\n"
      ],
      "text/html": [
       "<?xml version=\"1.0\" encoding=\"utf-8\"?>\n",
       "<svg xmlns=\"http://www.w3.org/2000/svg\" xmlns:xlink=\"http://www.w3.org/1999/xlink\" width=\"600\" height=\"400\" viewBox=\"0 0 2400 1600\">\n",
       "<defs>\n",
       "  <clipPath id=\"clip740\">\n",
       "    <rect x=\"0\" y=\"0\" width=\"2400\" height=\"1600\"/>\n",
       "  </clipPath>\n",
       "</defs>\n",
       "<path clip-path=\"url(#clip740)\" d=\"M0 1600 L2400 1600 L2400 0 L0 0  Z\" fill=\"#ffffff\" fill-rule=\"evenodd\" fill-opacity=\"1\"/>\n",
       "<defs>\n",
       "  <clipPath id=\"clip741\">\n",
       "    <rect x=\"480\" y=\"0\" width=\"1681\" height=\"1600\"/>\n",
       "  </clipPath>\n",
       "</defs>\n",
       "<path clip-path=\"url(#clip740)\" d=\"M112.177 1486.45 L2352.76 1486.45 L2352.76 47.2441 L112.177 47.2441  Z\" fill=\"#ffffff\" fill-rule=\"evenodd\" fill-opacity=\"1\"/>\n",
       "<defs>\n",
       "  <clipPath id=\"clip742\">\n",
       "    <rect x=\"112\" y=\"47\" width=\"2242\" height=\"1440\"/>\n",
       "  </clipPath>\n",
       "</defs>\n",
       "<polyline clip-path=\"url(#clip742)\" style=\"stroke:#000000; stroke-linecap:round; stroke-linejoin:round; stroke-width:2; stroke-opacity:0.1; fill:none\" points=\"410.451,1486.45 410.451,47.2441 \"/>\n",
       "<polyline clip-path=\"url(#clip742)\" style=\"stroke:#000000; stroke-linecap:round; stroke-linejoin:round; stroke-width:2; stroke-opacity:0.1; fill:none\" points=\"880.174,1486.45 880.174,47.2441 \"/>\n",
       "<polyline clip-path=\"url(#clip742)\" style=\"stroke:#000000; stroke-linecap:round; stroke-linejoin:round; stroke-width:2; stroke-opacity:0.1; fill:none\" points=\"1349.9,1486.45 1349.9,47.2441 \"/>\n",
       "<polyline clip-path=\"url(#clip742)\" style=\"stroke:#000000; stroke-linecap:round; stroke-linejoin:round; stroke-width:2; stroke-opacity:0.1; fill:none\" points=\"1819.62,1486.45 1819.62,47.2441 \"/>\n",
       "<polyline clip-path=\"url(#clip742)\" style=\"stroke:#000000; stroke-linecap:round; stroke-linejoin:round; stroke-width:2; stroke-opacity:0.1; fill:none\" points=\"2289.34,1486.45 2289.34,47.2441 \"/>\n",
       "<polyline clip-path=\"url(#clip740)\" style=\"stroke:#000000; stroke-linecap:round; stroke-linejoin:round; stroke-width:4; stroke-opacity:1; fill:none\" points=\"112.177,1486.45 2352.76,1486.45 \"/>\n",
       "<polyline clip-path=\"url(#clip740)\" style=\"stroke:#000000; stroke-linecap:round; stroke-linejoin:round; stroke-width:4; stroke-opacity:1; fill:none\" points=\"410.451,1486.45 410.451,1467.55 \"/>\n",
       "<polyline clip-path=\"url(#clip740)\" style=\"stroke:#000000; stroke-linecap:round; stroke-linejoin:round; stroke-width:4; stroke-opacity:1; fill:none\" points=\"880.174,1486.45 880.174,1467.55 \"/>\n",
       "<polyline clip-path=\"url(#clip740)\" style=\"stroke:#000000; stroke-linecap:round; stroke-linejoin:round; stroke-width:4; stroke-opacity:1; fill:none\" points=\"1349.9,1486.45 1349.9,1467.55 \"/>\n",
       "<polyline clip-path=\"url(#clip740)\" style=\"stroke:#000000; stroke-linecap:round; stroke-linejoin:round; stroke-width:4; stroke-opacity:1; fill:none\" points=\"1819.62,1486.45 1819.62,1467.55 \"/>\n",
       "<polyline clip-path=\"url(#clip740)\" style=\"stroke:#000000; stroke-linecap:round; stroke-linejoin:round; stroke-width:4; stroke-opacity:1; fill:none\" points=\"2289.34,1486.45 2289.34,1467.55 \"/>\n",
       "<path clip-path=\"url(#clip740)\" d=\"M405.104 1544.91 L421.423 1544.91 L421.423 1548.85 L399.479 1548.85 L399.479 1544.91 Q402.141 1542.16 406.724 1537.53 Q411.331 1532.88 412.511 1531.53 Q414.757 1529.01 415.636 1527.27 Q416.539 1525.51 416.539 1523.82 Q416.539 1521.07 414.595 1519.33 Q412.673 1517.6 409.572 1517.6 Q407.373 1517.6 404.919 1518.36 Q402.488 1519.13 399.711 1520.68 L399.711 1515.95 Q402.535 1514.82 404.988 1514.24 Q407.442 1513.66 409.479 1513.66 Q414.849 1513.66 418.044 1516.35 Q421.238 1519.03 421.238 1523.52 Q421.238 1525.65 420.428 1527.57 Q419.641 1529.47 417.535 1532.07 Q416.956 1532.74 413.854 1535.95 Q410.752 1539.15 405.104 1544.91 Z\" fill=\"#000000\" fill-rule=\"nonzero\" fill-opacity=\"1\" /><path clip-path=\"url(#clip740)\" d=\"M883.184 1518.36 L871.378 1536.81 L883.184 1536.81 L883.184 1518.36 M881.957 1514.29 L887.836 1514.29 L887.836 1536.81 L892.767 1536.81 L892.767 1540.7 L887.836 1540.7 L887.836 1548.85 L883.184 1548.85 L883.184 1540.7 L867.582 1540.7 L867.582 1536.19 L881.957 1514.29 Z\" fill=\"#000000\" fill-rule=\"nonzero\" fill-opacity=\"1\" /><path clip-path=\"url(#clip740)\" d=\"M1350.3 1529.7 Q1347.15 1529.7 1345.3 1531.86 Q1343.47 1534.01 1343.47 1537.76 Q1343.47 1541.49 1345.3 1543.66 Q1347.15 1545.82 1350.3 1545.82 Q1353.45 1545.82 1355.28 1543.66 Q1357.13 1541.49 1357.13 1537.76 Q1357.13 1534.01 1355.28 1531.86 Q1353.45 1529.7 1350.3 1529.7 M1359.58 1515.05 L1359.58 1519.31 Q1357.83 1518.48 1356.02 1518.04 Q1354.24 1517.6 1352.48 1517.6 Q1347.85 1517.6 1345.4 1520.72 Q1342.96 1523.85 1342.62 1530.17 Q1343.98 1528.15 1346.04 1527.09 Q1348.1 1526 1350.58 1526 Q1355.79 1526 1358.8 1529.17 Q1361.83 1532.32 1361.83 1537.76 Q1361.83 1543.08 1358.68 1546.3 Q1355.53 1549.52 1350.3 1549.52 Q1344.31 1549.52 1341.14 1544.94 Q1337.96 1540.33 1337.96 1531.6 Q1337.96 1523.41 1341.85 1518.55 Q1345.74 1513.66 1352.29 1513.66 Q1354.05 1513.66 1355.83 1514.01 Q1357.64 1514.36 1359.58 1515.05 Z\" fill=\"#000000\" fill-rule=\"nonzero\" fill-opacity=\"1\" /><path clip-path=\"url(#clip740)\" d=\"M1819.62 1532.44 Q1816.29 1532.44 1814.37 1534.22 Q1812.47 1536 1812.47 1539.13 Q1812.47 1542.25 1814.37 1544.03 Q1816.29 1545.82 1819.62 1545.82 Q1822.95 1545.82 1824.87 1544.03 Q1826.8 1542.23 1826.8 1539.13 Q1826.8 1536 1824.87 1534.22 Q1822.98 1532.44 1819.62 1532.44 M1814.94 1530.45 Q1811.94 1529.7 1810.25 1527.64 Q1808.58 1525.58 1808.58 1522.62 Q1808.58 1518.48 1811.52 1516.07 Q1814.48 1513.66 1819.62 1513.66 Q1824.78 1513.66 1827.72 1516.07 Q1830.66 1518.48 1830.66 1522.62 Q1830.66 1525.58 1828.97 1527.64 Q1827.31 1529.7 1824.32 1530.45 Q1827.7 1531.23 1829.57 1533.52 Q1831.47 1535.82 1831.47 1539.13 Q1831.47 1544.15 1828.39 1546.83 Q1825.34 1549.52 1819.62 1549.52 Q1813.9 1549.52 1810.82 1546.83 Q1807.77 1544.15 1807.77 1539.13 Q1807.77 1535.82 1809.67 1533.52 Q1811.56 1531.23 1814.94 1530.45 M1813.23 1523.06 Q1813.23 1525.75 1814.9 1527.25 Q1816.59 1528.76 1819.62 1528.76 Q1822.63 1528.76 1824.32 1527.25 Q1826.03 1525.75 1826.03 1523.06 Q1826.03 1520.38 1824.32 1518.87 Q1822.63 1517.37 1819.62 1517.37 Q1816.59 1517.37 1814.9 1518.87 Q1813.23 1520.38 1813.23 1523.06 Z\" fill=\"#000000\" fill-rule=\"nonzero\" fill-opacity=\"1\" /><path clip-path=\"url(#clip740)\" d=\"M2264.03 1544.91 L2271.67 1544.91 L2271.67 1518.55 L2263.36 1520.21 L2263.36 1515.95 L2271.62 1514.29 L2276.3 1514.29 L2276.3 1544.91 L2283.94 1544.91 L2283.94 1548.85 L2264.03 1548.85 L2264.03 1544.91 Z\" fill=\"#000000\" fill-rule=\"nonzero\" fill-opacity=\"1\" /><path clip-path=\"url(#clip740)\" d=\"M2303.38 1517.37 Q2299.77 1517.37 2297.94 1520.93 Q2296.14 1524.47 2296.14 1531.6 Q2296.14 1538.71 2297.94 1542.27 Q2299.77 1545.82 2303.38 1545.82 Q2307.02 1545.82 2308.82 1542.27 Q2310.65 1538.71 2310.65 1531.6 Q2310.65 1524.47 2308.82 1520.93 Q2307.02 1517.37 2303.38 1517.37 M2303.38 1513.66 Q2309.19 1513.66 2312.25 1518.27 Q2315.33 1522.85 2315.33 1531.6 Q2315.33 1540.33 2312.25 1544.94 Q2309.19 1549.52 2303.38 1549.52 Q2297.57 1549.52 2294.49 1544.94 Q2291.44 1540.33 2291.44 1531.6 Q2291.44 1522.85 2294.49 1518.27 Q2297.57 1513.66 2303.38 1513.66 Z\" fill=\"#000000\" fill-rule=\"nonzero\" fill-opacity=\"1\" /><polyline clip-path=\"url(#clip742)\" style=\"stroke:#000000; stroke-linecap:round; stroke-linejoin:round; stroke-width:2; stroke-opacity:0.1; fill:none\" points=\"112.177,1450.56 2352.76,1450.56 \"/>\n",
       "<polyline clip-path=\"url(#clip742)\" style=\"stroke:#000000; stroke-linecap:round; stroke-linejoin:round; stroke-width:2; stroke-opacity:0.1; fill:none\" points=\"112.177,1101.32 2352.76,1101.32 \"/>\n",
       "<polyline clip-path=\"url(#clip742)\" style=\"stroke:#000000; stroke-linecap:round; stroke-linejoin:round; stroke-width:2; stroke-opacity:0.1; fill:none\" points=\"112.177,752.085 2352.76,752.085 \"/>\n",
       "<polyline clip-path=\"url(#clip742)\" style=\"stroke:#000000; stroke-linecap:round; stroke-linejoin:round; stroke-width:2; stroke-opacity:0.1; fill:none\" points=\"112.177,402.846 2352.76,402.846 \"/>\n",
       "<polyline clip-path=\"url(#clip742)\" style=\"stroke:#000000; stroke-linecap:round; stroke-linejoin:round; stroke-width:2; stroke-opacity:0.1; fill:none\" points=\"112.177,53.6062 2352.76,53.6062 \"/>\n",
       "<polyline clip-path=\"url(#clip740)\" style=\"stroke:#000000; stroke-linecap:round; stroke-linejoin:round; stroke-width:4; stroke-opacity:1; fill:none\" points=\"112.177,1486.45 112.177,47.2441 \"/>\n",
       "<polyline clip-path=\"url(#clip740)\" style=\"stroke:#000000; stroke-linecap:round; stroke-linejoin:round; stroke-width:4; stroke-opacity:1; fill:none\" points=\"112.177,1450.56 131.075,1450.56 \"/>\n",
       "<polyline clip-path=\"url(#clip740)\" style=\"stroke:#000000; stroke-linecap:round; stroke-linejoin:round; stroke-width:4; stroke-opacity:1; fill:none\" points=\"112.177,1101.32 131.075,1101.32 \"/>\n",
       "<polyline clip-path=\"url(#clip740)\" style=\"stroke:#000000; stroke-linecap:round; stroke-linejoin:round; stroke-width:4; stroke-opacity:1; fill:none\" points=\"112.177,752.085 131.075,752.085 \"/>\n",
       "<polyline clip-path=\"url(#clip740)\" style=\"stroke:#000000; stroke-linecap:round; stroke-linejoin:round; stroke-width:4; stroke-opacity:1; fill:none\" points=\"112.177,402.846 131.075,402.846 \"/>\n",
       "<polyline clip-path=\"url(#clip740)\" style=\"stroke:#000000; stroke-linecap:round; stroke-linejoin:round; stroke-width:4; stroke-opacity:1; fill:none\" points=\"112.177,53.6062 131.075,53.6062 \"/>\n",
       "<path clip-path=\"url(#clip740)\" d=\"M64.2328 1436.36 Q60.6217 1436.36 58.793 1439.93 Q56.9875 1443.47 56.9875 1450.6 Q56.9875 1457.7 58.793 1461.27 Q60.6217 1464.81 64.2328 1464.81 Q67.867 1464.81 69.6726 1461.27 Q71.5013 1457.7 71.5013 1450.6 Q71.5013 1443.47 69.6726 1439.93 Q67.867 1436.36 64.2328 1436.36 M64.2328 1432.66 Q70.0429 1432.66 73.0985 1437.27 Q76.1772 1441.85 76.1772 1450.6 Q76.1772 1459.33 73.0985 1463.93 Q70.0429 1468.51 64.2328 1468.51 Q58.4226 1468.51 55.344 1463.93 Q52.2884 1459.33 52.2884 1450.6 Q52.2884 1441.85 55.344 1437.27 Q58.4226 1432.66 64.2328 1432.66 Z\" fill=\"#000000\" fill-rule=\"nonzero\" fill-opacity=\"1\" /><path clip-path=\"url(#clip740)\" d=\"M56.2699 1114.67 L63.9087 1114.67 L63.9087 1088.3 L55.5986 1089.97 L55.5986 1085.71 L63.8624 1084.04 L68.5383 1084.04 L68.5383 1114.67 L76.1772 1114.67 L76.1772 1118.6 L56.2699 1118.6 L56.2699 1114.67 Z\" fill=\"#000000\" fill-rule=\"nonzero\" fill-opacity=\"1\" /><path clip-path=\"url(#clip740)\" d=\"M59.8578 765.43 L76.1772 765.43 L76.1772 769.365 L54.2328 769.365 L54.2328 765.43 Q56.8949 762.675 61.4782 758.045 Q66.0846 753.393 67.2652 752.05 Q69.5105 749.527 70.3902 747.791 Q71.2929 746.032 71.2929 744.342 Q71.2929 741.587 69.3485 739.851 Q67.4272 738.115 64.3254 738.115 Q62.1263 738.115 59.6726 738.879 Q57.2421 739.643 54.4643 741.194 L54.4643 736.472 Q57.2884 735.337 59.7421 734.759 Q62.1958 734.18 64.2328 734.18 Q69.6031 734.18 72.7976 736.865 Q75.992 739.55 75.992 744.041 Q75.992 746.171 75.1818 748.092 Q74.3948 749.99 72.2883 752.583 Q71.7096 753.254 68.6078 756.471 Q65.5059 759.666 59.8578 765.43 Z\" fill=\"#000000\" fill-rule=\"nonzero\" fill-opacity=\"1\" /><path clip-path=\"url(#clip740)\" d=\"M69.0476 401.491 Q72.404 402.209 74.279 404.477 Q76.1772 406.746 76.1772 410.079 Q76.1772 415.195 72.6587 417.996 Q69.1402 420.797 62.6587 420.797 Q60.4828 420.797 58.168 420.357 Q55.8764 419.94 53.4227 419.084 L53.4227 414.57 Q55.3671 415.704 57.6819 416.283 Q59.9967 416.862 62.5198 416.862 Q66.918 416.862 69.2096 415.126 Q71.5244 413.389 71.5244 410.079 Q71.5244 407.024 69.3717 405.311 Q67.242 403.575 63.4226 403.575 L59.3949 403.575 L59.3949 399.732 L63.6078 399.732 Q67.0569 399.732 68.8855 398.366 Q70.7142 396.978 70.7142 394.385 Q70.7142 391.723 68.8161 390.311 Q66.9411 388.876 63.4226 388.876 Q61.5013 388.876 59.3023 389.292 Q57.1032 389.709 54.4643 390.589 L54.4643 386.422 Q57.1264 385.681 59.4412 385.311 Q61.7791 384.941 63.8393 384.941 Q69.1633 384.941 72.2652 387.371 Q75.367 389.778 75.367 393.899 Q75.367 396.769 73.7235 398.76 Q72.08 400.727 69.0476 401.491 Z\" fill=\"#000000\" fill-rule=\"nonzero\" fill-opacity=\"1\" /><path clip-path=\"url(#clip740)\" d=\"M66.5939 40.4002 L54.7884 58.8492 L66.5939 58.8492 L66.5939 40.4002 M65.367 36.3262 L71.2466 36.3262 L71.2466 58.8492 L76.1772 58.8492 L76.1772 62.7381 L71.2466 62.7381 L71.2466 70.8862 L66.5939 70.8862 L66.5939 62.7381 L50.9921 62.7381 L50.9921 58.2242 L65.367 36.3262 Z\" fill=\"#000000\" fill-rule=\"nonzero\" fill-opacity=\"1\" /><polyline clip-path=\"url(#clip742)\" style=\"stroke:#009af9; stroke-linecap:round; stroke-linejoin:round; stroke-width:4; stroke-opacity:1; fill:none\" points=\"175.59,249.778 410.451,1445.72 645.313,1074.55 880.174,87.9763 1115.04,836.052 1349.9,1431.41 1584.76,894.972 1819.62,1411.51 2054.48,1434.76 2289.34,1404.58 \"/>\n",
       "<path clip-path=\"url(#clip740)\" d=\"M2001.58 198.898 L2278.07 198.898 L2278.07 95.2176 L2001.58 95.2176  Z\" fill=\"#ffffff\" fill-rule=\"evenodd\" fill-opacity=\"1\"/>\n",
       "<polyline clip-path=\"url(#clip740)\" style=\"stroke:#000000; stroke-linecap:round; stroke-linejoin:round; stroke-width:4; stroke-opacity:1; fill:none\" points=\"2001.58,198.898 2278.07,198.898 2278.07,95.2176 2001.58,95.2176 2001.58,198.898 \"/>\n",
       "<polyline clip-path=\"url(#clip740)\" style=\"stroke:#009af9; stroke-linecap:round; stroke-linejoin:round; stroke-width:4; stroke-opacity:1; fill:none\" points=\"2026.48,147.058 2175.85,147.058 \"/>\n",
       "<path clip-path=\"url(#clip740)\" d=\"M2214.59 166.745 Q2212.78 171.375 2211.07 172.787 Q2209.36 174.199 2206.49 174.199 L2203.08 174.199 L2203.08 170.634 L2205.58 170.634 Q2207.34 170.634 2208.31 169.8 Q2209.29 168.967 2210.47 165.865 L2211.23 163.921 L2200.74 138.412 L2205.26 138.412 L2213.36 158.689 L2221.46 138.412 L2225.98 138.412 L2214.59 166.745 Z\" fill=\"#000000\" fill-rule=\"nonzero\" fill-opacity=\"1\" /><path clip-path=\"url(#clip740)\" d=\"M2233.27 160.402 L2240.91 160.402 L2240.91 134.037 L2232.6 135.703 L2232.6 131.444 L2240.86 129.778 L2245.54 129.778 L2245.54 160.402 L2253.17 160.402 L2253.17 164.338 L2233.27 164.338 L2233.27 160.402 Z\" fill=\"#000000\" fill-rule=\"nonzero\" fill-opacity=\"1\" /></svg>\n"
      ]
     },
     "execution_count": 27,
     "metadata": {},
     "output_type": "execute_result"
    }
   ],
   "source": [
    "# poor style\n",
    "function generatedata(n)\n",
    "    ep = zeros(n)\n",
    "    for i in eachindex(ep)\n",
    "        ep[i] = (randn())^2 # squaring the result\n",
    "    end\n",
    "    return ep\n",
    "end\n",
    "\n",
    "data = generatedata(10)\n",
    "plot(data)"
   ]
  },
  {
   "cell_type": "markdown",
   "id": "349df953",
   "metadata": {},
   "source": [
    "Here\n",
    "\n",
    "- `function` is a Julia keyword that indicates the start of a function definition  \n",
    "- `generatedata` is an arbitrary name for the function  \n",
    "- `return` is a keyword indicating the return value, as is often unnecessary  \n",
    "\n",
    "\n",
    "Let us make this example slightly better by “remembering” that `randn` can return a vectors."
   ]
  },
  {
   "cell_type": "code",
   "execution_count": 29,
   "id": "3b6a95bb",
   "metadata": {
    "hide-output": false
   },
   "outputs": [
    {
     "data": {
      "text/plain": [
       "5-element Vector{Float64}:\n",
       " 2.109438052672442\n",
       " 2.052003258641996\n",
       " 0.813999234766697\n",
       " 0.5270215729864106\n",
       " 1.0166336049637708"
      ]
     },
     "execution_count": 29,
     "metadata": {},
     "output_type": "execute_result"
    }
   ],
   "source": [
    "# still poor style\n",
    "function generatedata(n)\n",
    "    ep = randn(n) # use built in function\n",
    "\n",
    "    for i in eachindex(ep)\n",
    "        ep[i] = ep[i]^2 # squaring the result\n",
    "    end\n",
    "\n",
    "    return ep\n",
    "end\n",
    "data = generatedata(5)"
   ]
  },
  {
   "cell_type": "markdown",
   "id": "7b594081",
   "metadata": {},
   "source": [
    "While better, the looping over the `i` index to square the results is difficult to read.\n",
    "\n",
    "Instead of looping, we can **broadcast** the `^2` square function over a vector using a `.`.\n",
    "\n",
    "To be clear, unlike Python, R, and MATLAB (to a lesser extent), the reason to drop the `for` is **not** for performance reasons, but rather because of code clarity.\n",
    "\n",
    "Loops of this sort are at least as efficient as vectorized approach in compiled languages like Julia, so use a for loop if you think it makes the code more clear."
   ]
  },
  {
   "cell_type": "code",
   "execution_count": 31,
   "id": "f1392cf8",
   "metadata": {
    "hide-output": false
   },
   "outputs": [
    {
     "data": {
      "text/plain": [
       "5-element Vector{Float64}:\n",
       " 2.5039097004372244\n",
       " 0.35726034251431693\n",
       " 0.5264882365834064\n",
       " 5.355207809851495\n",
       " 0.007979830186137963"
      ]
     },
     "execution_count": 31,
     "metadata": {},
     "output_type": "execute_result"
    }
   ],
   "source": [
    "# better style\n",
    "function generatedata(n)\n",
    "    ep = randn(n) # use built in function\n",
    "    return ep .^ 2\n",
    "end\n",
    "data = generatedata(5)"
   ]
  },
  {
   "cell_type": "markdown",
   "id": "2d9082dd",
   "metadata": {},
   "source": [
    "We can even drop the `function` if we define it on a single line."
   ]
  },
  {
   "cell_type": "code",
   "execution_count": null,
   "id": "179e8351",
   "metadata": {
    "hide-output": false
   },
   "outputs": [],
   "source": [
    "# good style\n",
    "generatedata(n) = randn(n) .^ 2\n",
    "data = generatedata(5)"
   ]
  },
  {
   "cell_type": "markdown",
   "id": "a66c4188",
   "metadata": {},
   "source": [
    "Finally, we can broadcast any function, where squaring is only a special case."
   ]
  },
  {
   "cell_type": "code",
   "execution_count": null,
   "id": "4eb36eb9",
   "metadata": {
    "hide-output": false
   },
   "outputs": [],
   "source": [
    "# good style\n",
    "f(x) = x^2 # simple square function\n",
    "generatedata(n) = f.(randn(n)) # broadcasts on f\n",
    "data = generatedata(5)"
   ]
  },
  {
   "cell_type": "markdown",
   "id": "ce6f66eb",
   "metadata": {},
   "source": [
    "As a final – abstract – approach, we can make the `generatedata` function able to generically apply to a function."
   ]
  },
  {
   "cell_type": "code",
   "execution_count": null,
   "id": "6923b7f9",
   "metadata": {
    "hide-output": false
   },
   "outputs": [],
   "source": [
    "generatedata(n, gen) = gen.(randn(n)) # broadcasts on gen\n",
    "f(x) = x^2 # simple square function\n",
    "data = generatedata(5, f) # applies f"
   ]
  },
  {
   "cell_type": "markdown",
   "id": "4aecd0c1",
   "metadata": {},
   "source": [
    "Whether this example is better or worse than the previous version depends on how it is used.\n",
    "\n",
    "High degrees of abstraction and generality, e.g. passing in a function `f` in this case, can make code either clearer or more confusing, but Julia enables you to use these techniques **with no performance overhead**.\n",
    "\n",
    "For this particular case, the clearest and most general solution is probably the simplest."
   ]
  },
  {
   "cell_type": "code",
   "execution_count": 33,
   "id": "74a8ad0e",
   "metadata": {
    "hide-output": false
   },
   "outputs": [
    {
     "data": {
      "image/png": "[encoded data removed]",
      "image/svg+xml": [
       "<?xml version=\"1.0\" encoding=\"utf-8\"?>\n",
       "<svg xmlns=\"http://www.w3.org/2000/svg\" xmlns:xlink=\"http://www.w3.org/1999/xlink\" width=\"600\" height=\"400\" viewBox=\"0 0 2400 1600\">\n",
       "<defs>\n",
       "  <clipPath id=\"clip780\">\n",
       "    <rect x=\"0\" y=\"0\" width=\"2400\" height=\"1600\"/>\n",
       "  </clipPath>\n",
       "</defs>\n",
       "<path clip-path=\"url(#clip780)\" d=\"M0 1600 L2400 1600 L2400 0 L0 0  Z\" fill=\"#ffffff\" fill-rule=\"evenodd\" fill-opacity=\"1\"/>\n",
       "<defs>\n",
       "  <clipPath id=\"clip781\">\n",
       "    <rect x=\"480\" y=\"0\" width=\"1681\" height=\"1600\"/>\n",
       "  </clipPath>\n",
       "</defs>\n",
       "<path clip-path=\"url(#clip780)\" d=\"M138.959 1486.45 L2352.76 1486.45 L2352.76 47.2441 L138.959 47.2441  Z\" fill=\"#ffffff\" fill-rule=\"evenodd\" fill-opacity=\"1\"/>\n",
       "<defs>\n",
       "  <clipPath id=\"clip782\">\n",
       "    <rect x=\"138\" y=\"47\" width=\"2215\" height=\"1440\"/>\n",
       "  </clipPath>\n",
       "</defs>\n",
       "<polyline clip-path=\"url(#clip782)\" style=\"stroke:#000000; stroke-linecap:round; stroke-linejoin:round; stroke-width:2; stroke-opacity:0.1; fill:none\" points=\"180.518,1486.45 180.518,47.2441 \"/>\n",
       "<polyline clip-path=\"url(#clip782)\" style=\"stroke:#000000; stroke-linecap:round; stroke-linejoin:round; stroke-width:2; stroke-opacity:0.1; fill:none\" points=\"707.914,1486.45 707.914,47.2441 \"/>\n",
       "<polyline clip-path=\"url(#clip782)\" style=\"stroke:#000000; stroke-linecap:round; stroke-linejoin:round; stroke-width:2; stroke-opacity:0.1; fill:none\" points=\"1235.31,1486.45 1235.31,47.2441 \"/>\n",
       "<polyline clip-path=\"url(#clip782)\" style=\"stroke:#000000; stroke-linecap:round; stroke-linejoin:round; stroke-width:2; stroke-opacity:0.1; fill:none\" points=\"1762.71,1486.45 1762.71,47.2441 \"/>\n",
       "<polyline clip-path=\"url(#clip782)\" style=\"stroke:#000000; stroke-linecap:round; stroke-linejoin:round; stroke-width:2; stroke-opacity:0.1; fill:none\" points=\"2290.1,1486.45 2290.1,47.2441 \"/>\n",
       "<polyline clip-path=\"url(#clip780)\" style=\"stroke:#000000; stroke-linecap:round; stroke-linejoin:round; stroke-width:4; stroke-opacity:1; fill:none\" points=\"138.959,1486.45 2352.76,1486.45 \"/>\n",
       "<polyline clip-path=\"url(#clip780)\" style=\"stroke:#000000; stroke-linecap:round; stroke-linejoin:round; stroke-width:4; stroke-opacity:1; fill:none\" points=\"180.518,1486.45 180.518,1467.55 \"/>\n",
       "<polyline clip-path=\"url(#clip780)\" style=\"stroke:#000000; stroke-linecap:round; stroke-linejoin:round; stroke-width:4; stroke-opacity:1; fill:none\" points=\"707.914,1486.45 707.914,1467.55 \"/>\n",
       "<polyline clip-path=\"url(#clip780)\" style=\"stroke:#000000; stroke-linecap:round; stroke-linejoin:round; stroke-width:4; stroke-opacity:1; fill:none\" points=\"1235.31,1486.45 1235.31,1467.55 \"/>\n",
       "<polyline clip-path=\"url(#clip780)\" style=\"stroke:#000000; stroke-linecap:round; stroke-linejoin:round; stroke-width:4; stroke-opacity:1; fill:none\" points=\"1762.71,1486.45 1762.71,1467.55 \"/>\n",
       "<polyline clip-path=\"url(#clip780)\" style=\"stroke:#000000; stroke-linecap:round; stroke-linejoin:round; stroke-width:4; stroke-opacity:1; fill:none\" points=\"2290.1,1486.45 2290.1,1467.55 \"/>\n",
       "<path clip-path=\"url(#clip780)\" d=\"M180.518 1517.37 Q176.907 1517.37 175.078 1520.93 Q173.273 1524.47 173.273 1531.6 Q173.273 1538.71 175.078 1542.27 Q176.907 1545.82 180.518 1545.82 Q184.152 1545.82 185.958 1542.27 Q187.787 1538.71 187.787 1531.6 Q187.787 1524.47 185.958 1520.93 Q184.152 1517.37 180.518 1517.37 M180.518 1513.66 Q186.328 1513.66 189.384 1518.27 Q192.463 1522.85 192.463 1531.6 Q192.463 1540.33 189.384 1544.94 Q186.328 1549.52 180.518 1549.52 Q174.708 1549.52 171.629 1544.94 Q168.574 1540.33 168.574 1531.6 Q168.574 1522.85 171.629 1518.27 Q174.708 1513.66 180.518 1513.66 Z\" fill=\"#000000\" fill-rule=\"nonzero\" fill-opacity=\"1\" /><path clip-path=\"url(#clip780)\" d=\"M687.185 1544.91 L703.504 1544.91 L703.504 1548.85 L681.56 1548.85 L681.56 1544.91 Q684.222 1542.16 688.805 1537.53 Q693.412 1532.88 694.592 1531.53 Q696.838 1529.01 697.717 1527.27 Q698.62 1525.51 698.62 1523.82 Q698.62 1521.07 696.676 1519.33 Q694.754 1517.6 691.653 1517.6 Q689.453 1517.6 687 1518.36 Q684.569 1519.13 681.791 1520.68 L681.791 1515.95 Q684.616 1514.82 687.069 1514.24 Q689.523 1513.66 691.56 1513.66 Q696.93 1513.66 700.125 1516.35 Q703.319 1519.03 703.319 1523.52 Q703.319 1525.65 702.509 1527.57 Q701.722 1529.47 699.615 1532.07 Q699.037 1532.74 695.935 1535.95 Q692.833 1539.15 687.185 1544.91 Z\" fill=\"#000000\" fill-rule=\"nonzero\" fill-opacity=\"1\" /><path clip-path=\"url(#clip780)\" d=\"M713.365 1514.29 L731.722 1514.29 L731.722 1518.22 L717.648 1518.22 L717.648 1526.7 Q718.666 1526.35 719.685 1526.19 Q720.703 1526 721.722 1526 Q727.509 1526 730.888 1529.17 Q734.268 1532.34 734.268 1537.76 Q734.268 1543.34 730.796 1546.44 Q727.324 1549.52 721.004 1549.52 Q718.828 1549.52 716.56 1549.15 Q714.314 1548.78 711.907 1548.04 L711.907 1543.34 Q713.99 1544.47 716.213 1545.03 Q718.435 1545.58 720.912 1545.58 Q724.916 1545.58 727.254 1543.48 Q729.592 1541.37 729.592 1537.76 Q729.592 1534.15 727.254 1532.04 Q724.916 1529.94 720.912 1529.94 Q719.037 1529.94 717.162 1530.35 Q715.31 1530.77 713.365 1531.65 L713.365 1514.29 Z\" fill=\"#000000\" fill-rule=\"nonzero\" fill-opacity=\"1\" /><path clip-path=\"url(#clip780)\" d=\"M1210.01 1514.29 L1228.37 1514.29 L1228.37 1518.22 L1214.29 1518.22 L1214.29 1526.7 Q1215.31 1526.35 1216.33 1526.19 Q1217.35 1526 1218.37 1526 Q1224.15 1526 1227.53 1529.17 Q1230.91 1532.34 1230.91 1537.76 Q1230.91 1543.34 1227.44 1546.44 Q1223.97 1549.52 1217.65 1549.52 Q1215.47 1549.52 1213.2 1549.15 Q1210.96 1548.78 1208.55 1548.04 L1208.55 1543.34 Q1210.63 1544.47 1212.86 1545.03 Q1215.08 1545.58 1217.56 1545.58 Q1221.56 1545.58 1223.9 1543.48 Q1226.24 1541.37 1226.24 1537.76 Q1226.24 1534.15 1223.9 1532.04 Q1221.56 1529.94 1217.56 1529.94 Q1215.68 1529.94 1213.81 1530.35 Q1211.95 1530.77 1210.01 1531.65 L1210.01 1514.29 Z\" fill=\"#000000\" fill-rule=\"nonzero\" fill-opacity=\"1\" /><path clip-path=\"url(#clip780)\" d=\"M1250.12 1517.37 Q1246.51 1517.37 1244.68 1520.93 Q1242.88 1524.47 1242.88 1531.6 Q1242.88 1538.71 1244.68 1542.27 Q1246.51 1545.82 1250.12 1545.82 Q1253.76 1545.82 1255.56 1542.27 Q1257.39 1538.71 1257.39 1531.6 Q1257.39 1524.47 1255.56 1520.93 Q1253.76 1517.37 1250.12 1517.37 M1250.12 1513.66 Q1255.93 1513.66 1258.99 1518.27 Q1262.07 1522.85 1262.07 1531.6 Q1262.07 1540.33 1258.99 1544.94 Q1255.93 1549.52 1250.12 1549.52 Q1244.31 1549.52 1241.24 1544.94 Q1238.18 1540.33 1238.18 1531.6 Q1238.18 1522.85 1241.24 1518.27 Q1244.31 1513.66 1250.12 1513.66 Z\" fill=\"#000000\" fill-rule=\"nonzero\" fill-opacity=\"1\" /><path clip-path=\"url(#clip780)\" d=\"M1736.56 1514.29 L1758.78 1514.29 L1758.78 1516.28 L1746.24 1548.85 L1741.35 1548.85 L1753.16 1518.22 L1736.56 1518.22 L1736.56 1514.29 Z\" fill=\"#000000\" fill-rule=\"nonzero\" fill-opacity=\"1\" /><path clip-path=\"url(#clip780)\" d=\"M1767.95 1514.29 L1786.3 1514.29 L1786.3 1518.22 L1772.23 1518.22 L1772.23 1526.7 Q1773.25 1526.35 1774.27 1526.19 Q1775.29 1526 1776.3 1526 Q1782.09 1526 1785.47 1529.17 Q1788.85 1532.34 1788.85 1537.76 Q1788.85 1543.34 1785.38 1546.44 Q1781.91 1549.52 1775.59 1549.52 Q1773.41 1549.52 1771.14 1549.15 Q1768.9 1548.78 1766.49 1548.04 L1766.49 1543.34 Q1768.57 1544.47 1770.8 1545.03 Q1773.02 1545.58 1775.49 1545.58 Q1779.5 1545.58 1781.84 1543.48 Q1784.18 1541.37 1784.18 1537.76 Q1784.18 1534.15 1781.84 1532.04 Q1779.5 1529.94 1775.49 1529.94 Q1773.62 1529.94 1771.74 1530.35 Q1769.89 1530.77 1767.95 1531.65 L1767.95 1514.29 Z\" fill=\"#000000\" fill-rule=\"nonzero\" fill-opacity=\"1\" /><path clip-path=\"url(#clip780)\" d=\"M2249.71 1544.91 L2257.35 1544.91 L2257.35 1518.55 L2249.04 1520.21 L2249.04 1515.95 L2257.3 1514.29 L2261.98 1514.29 L2261.98 1544.91 L2269.62 1544.91 L2269.62 1548.85 L2249.71 1548.85 L2249.71 1544.91 Z\" fill=\"#000000\" fill-rule=\"nonzero\" fill-opacity=\"1\" /><path clip-path=\"url(#clip780)\" d=\"M2289.06 1517.37 Q2285.45 1517.37 2283.62 1520.93 Q2281.81 1524.47 2281.81 1531.6 Q2281.81 1538.71 2283.62 1542.27 Q2285.45 1545.82 2289.06 1545.82 Q2292.69 1545.82 2294.5 1542.27 Q2296.33 1538.71 2296.33 1531.6 Q2296.33 1524.47 2294.5 1520.93 Q2292.69 1517.37 2289.06 1517.37 M2289.06 1513.66 Q2294.87 1513.66 2297.93 1518.27 Q2301 1522.85 2301 1531.6 Q2301 1540.33 2297.93 1544.94 Q2294.87 1549.52 2289.06 1549.52 Q2283.25 1549.52 2280.17 1544.94 Q2277.12 1540.33 2277.12 1531.6 Q2277.12 1522.85 2280.17 1518.27 Q2283.25 1513.66 2289.06 1513.66 Z\" fill=\"#000000\" fill-rule=\"nonzero\" fill-opacity=\"1\" /><path clip-path=\"url(#clip780)\" d=\"M2319.22 1517.37 Q2315.61 1517.37 2313.78 1520.93 Q2311.98 1524.47 2311.98 1531.6 Q2311.98 1538.71 2313.78 1542.27 Q2315.61 1545.82 2319.22 1545.82 Q2322.86 1545.82 2324.66 1542.27 Q2326.49 1538.71 2326.49 1531.6 Q2326.49 1524.47 2324.66 1520.93 Q2322.86 1517.37 2319.22 1517.37 M2319.22 1513.66 Q2325.03 1513.66 2328.09 1518.27 Q2331.17 1522.85 2331.17 1531.6 Q2331.17 1540.33 2328.09 1544.94 Q2325.03 1549.52 2319.22 1549.52 Q2313.41 1549.52 2310.33 1544.94 Q2307.28 1540.33 2307.28 1531.6 Q2307.28 1522.85 2310.33 1518.27 Q2313.41 1513.66 2319.22 1513.66 Z\" fill=\"#000000\" fill-rule=\"nonzero\" fill-opacity=\"1\" /><polyline clip-path=\"url(#clip782)\" style=\"stroke:#000000; stroke-linecap:round; stroke-linejoin:round; stroke-width:2; stroke-opacity:0.1; fill:none\" points=\"138.959,1263.69 2352.76,1263.69 \"/>\n",
       "<polyline clip-path=\"url(#clip782)\" style=\"stroke:#000000; stroke-linecap:round; stroke-linejoin:round; stroke-width:2; stroke-opacity:0.1; fill:none\" points=\"138.959,902.916 2352.76,902.916 \"/>\n",
       "<polyline clip-path=\"url(#clip782)\" style=\"stroke:#000000; stroke-linecap:round; stroke-linejoin:round; stroke-width:2; stroke-opacity:0.1; fill:none\" points=\"138.959,542.144 2352.76,542.144 \"/>\n",
       "<polyline clip-path=\"url(#clip782)\" style=\"stroke:#000000; stroke-linecap:round; stroke-linejoin:round; stroke-width:2; stroke-opacity:0.1; fill:none\" points=\"138.959,181.373 2352.76,181.373 \"/>\n",
       "<polyline clip-path=\"url(#clip780)\" style=\"stroke:#000000; stroke-linecap:round; stroke-linejoin:round; stroke-width:4; stroke-opacity:1; fill:none\" points=\"138.959,1486.45 138.959,47.2441 \"/>\n",
       "<polyline clip-path=\"url(#clip780)\" style=\"stroke:#000000; stroke-linecap:round; stroke-linejoin:round; stroke-width:4; stroke-opacity:1; fill:none\" points=\"138.959,1263.69 157.857,1263.69 \"/>\n",
       "<polyline clip-path=\"url(#clip780)\" style=\"stroke:#000000; stroke-linecap:round; stroke-linejoin:round; stroke-width:4; stroke-opacity:1; fill:none\" points=\"138.959,902.916 157.857,902.916 \"/>\n",
       "<polyline clip-path=\"url(#clip780)\" style=\"stroke:#000000; stroke-linecap:round; stroke-linejoin:round; stroke-width:4; stroke-opacity:1; fill:none\" points=\"138.959,542.144 157.857,542.144 \"/>\n",
       "<polyline clip-path=\"url(#clip780)\" style=\"stroke:#000000; stroke-linecap:round; stroke-linejoin:round; stroke-width:4; stroke-opacity:1; fill:none\" points=\"138.959,181.373 157.857,181.373 \"/>\n",
       "<path clip-path=\"url(#clip780)\" d=\"M91.0151 1249.49 Q87.404 1249.49 85.5753 1253.05 Q83.7697 1256.59 83.7697 1263.72 Q83.7697 1270.83 85.5753 1274.39 Q87.404 1277.94 91.0151 1277.94 Q94.6493 1277.94 96.4548 1274.39 Q98.2835 1270.83 98.2835 1263.72 Q98.2835 1256.59 96.4548 1253.05 Q94.6493 1249.49 91.0151 1249.49 M91.0151 1245.78 Q96.8252 1245.78 99.8808 1250.39 Q102.959 1254.97 102.959 1263.72 Q102.959 1272.45 99.8808 1277.06 Q96.8252 1281.64 91.0151 1281.64 Q85.2049 1281.64 82.1262 1277.06 Q79.0707 1272.45 79.0707 1263.72 Q79.0707 1254.97 82.1262 1250.39 Q85.2049 1245.78 91.0151 1245.78 Z\" fill=\"#000000\" fill-rule=\"nonzero\" fill-opacity=\"1\" /><path clip-path=\"url(#clip780)\" d=\"M82.0568 885.636 L100.413 885.636 L100.413 889.571 L86.3392 889.571 L86.3392 898.043 Q87.3577 897.696 88.3762 897.534 Q89.3947 897.349 90.4132 897.349 Q96.2002 897.349 99.5798 900.52 Q102.959 903.692 102.959 909.108 Q102.959 914.687 99.4872 917.789 Q96.015 920.867 89.6956 920.867 Q87.5197 920.867 85.2512 920.497 Q83.0058 920.127 80.5984 919.386 L80.5984 914.687 Q82.6818 915.821 84.904 916.377 Q87.1262 916.932 89.603 916.932 Q93.6076 916.932 95.9456 914.826 Q98.2835 912.719 98.2835 909.108 Q98.2835 905.497 95.9456 903.391 Q93.6076 901.284 89.603 901.284 Q87.728 901.284 85.8531 901.701 Q84.0012 902.117 82.0568 902.997 L82.0568 885.636 Z\" fill=\"#000000\" fill-rule=\"nonzero\" fill-opacity=\"1\" /><path clip-path=\"url(#clip780)\" d=\"M51.6634 555.489 L59.3023 555.489 L59.3023 529.124 L50.9921 530.79 L50.9921 526.531 L59.256 524.864 L63.9319 524.864 L63.9319 555.489 L71.5707 555.489 L71.5707 559.424 L51.6634 559.424 L51.6634 555.489 Z\" fill=\"#000000\" fill-rule=\"nonzero\" fill-opacity=\"1\" /><path clip-path=\"url(#clip780)\" d=\"M91.0151 527.943 Q87.404 527.943 85.5753 531.508 Q83.7697 535.05 83.7697 542.179 Q83.7697 549.286 85.5753 552.85 Q87.404 556.392 91.0151 556.392 Q94.6493 556.392 96.4548 552.85 Q98.2835 549.286 98.2835 542.179 Q98.2835 535.05 96.4548 531.508 Q94.6493 527.943 91.0151 527.943 M91.0151 524.239 Q96.8252 524.239 99.8808 528.846 Q102.959 533.429 102.959 542.179 Q102.959 550.906 99.8808 555.512 Q96.8252 560.096 91.0151 560.096 Q85.2049 560.096 82.1262 555.512 Q79.0707 550.906 79.0707 542.179 Q79.0707 533.429 82.1262 528.846 Q85.2049 524.239 91.0151 524.239 Z\" fill=\"#000000\" fill-rule=\"nonzero\" fill-opacity=\"1\" /><path clip-path=\"url(#clip780)\" d=\"M52.6588 194.718 L60.2976 194.718 L60.2976 168.352 L51.9875 170.019 L51.9875 165.76 L60.2513 164.093 L64.9272 164.093 L64.9272 194.718 L72.5661 194.718 L72.5661 198.653 L52.6588 198.653 L52.6588 194.718 Z\" fill=\"#000000\" fill-rule=\"nonzero\" fill-opacity=\"1\" /><path clip-path=\"url(#clip780)\" d=\"M82.0568 164.093 L100.413 164.093 L100.413 168.028 L86.3392 168.028 L86.3392 176.5 Q87.3577 176.153 88.3762 175.991 Q89.3947 175.806 90.4132 175.806 Q96.2002 175.806 99.5798 178.977 Q102.959 182.148 102.959 187.565 Q102.959 193.144 99.4872 196.245 Q96.015 199.324 89.6956 199.324 Q87.5197 199.324 85.2512 198.954 Q83.0058 198.583 80.5984 197.843 L80.5984 193.144 Q82.6818 194.278 84.904 194.833 Q87.1262 195.389 89.603 195.389 Q93.6076 195.389 95.9456 193.283 Q98.2835 191.176 98.2835 187.565 Q98.2835 183.954 95.9456 181.847 Q93.6076 179.741 89.603 179.741 Q87.728 179.741 85.8531 180.158 Q84.0012 180.574 82.0568 181.454 L82.0568 164.093 Z\" fill=\"#000000\" fill-rule=\"nonzero\" fill-opacity=\"1\" /><polyline clip-path=\"url(#clip782)\" style=\"stroke:#009af9; stroke-linecap:round; stroke-linejoin:round; stroke-width:4; stroke-opacity:1; fill:none\" points=\"201.614,1261.1 222.71,1243.87 243.806,1230.47 264.902,1156.13 285.997,1186.93 307.093,1256.89 328.189,875.814 349.285,1262.28 370.381,1256.99 391.477,1237.06 412.572,1248.94 433.668,1248.45 454.764,1219.17 475.86,1175.93 496.956,1197.78 518.052,1263 539.147,1263.54 560.243,1230.59 581.339,1254.07 602.435,1260.48 623.531,1262.72 644.627,1179.45 665.722,1256 686.818,1203.47 707.914,1255.93 729.01,1070.97 750.106,1108.06 771.201,1154.65 792.297,1262.4 813.393,1209.45 834.489,1192.68 855.585,1221.39 876.681,1241.7 897.776,1183.72 918.872,1159.52 939.968,1218.9 961.064,1223.86 982.16,1253.22 1003.26,1136.03 1024.35,1259.74 1045.45,1223.6 1066.54,988.018 1087.64,1183.58 1108.73,1263.52 1129.83,1260.06 1150.93,1149.46 1172.02,1138.48 1193.12,1254.9 1214.21,1206.86 1235.31,1253.58 1256.41,1260.01 1277.5,1227.62 1298.6,1250.62 1319.69,1020.31 1340.79,1160.14 1361.88,993.329 1382.98,804.474 1404.08,1203.72 1425.17,1060.82 1446.27,1146.28 1467.36,1241.55 1488.46,1137.12 1509.56,1259.46 1530.65,1263.63 1551.75,1205.67 1572.84,1137.39 1593.94,1210.52 1615.03,1111.33 1636.13,1240.57 1657.23,1215.25 1678.32,1261.27 1699.42,1136.01 1720.51,1134.3 1741.61,87.9763 1762.71,1198.88 1783.8,1263.49 1804.9,1227.11 1825.99,1201 1847.09,1116.47 1868.18,1260.27 1889.28,1076.59 1910.38,1249.43 1931.47,845.86 1952.57,1129.72 1973.66,1259.67 1994.76,1152.86 2015.86,1138.93 2036.95,1257.51 2058.05,1091.91 2079.14,1255.84 2100.24,1071.71 2121.33,1142.89 2142.43,1222.41 2163.53,1237.07 2184.62,1258.98 2205.72,1258.89 2226.81,997.368 2247.91,1263.06 2269.01,1259.63 2290.1,1240.47 \"/>\n",
       "<polyline clip-path=\"url(#clip782)\" style=\"stroke:#e26f46; stroke-linecap:round; stroke-linejoin:round; stroke-width:4; stroke-opacity:1; fill:none\" points=\"201.614,1277.36 222.71,1301.5 243.806,1214.73 264.902,1351.78 285.997,1338.11 307.093,1241.53 328.189,1096.4 349.285,1273.77 370.381,1285.68 391.477,1307.52 412.572,1231.07 433.668,1230.53 454.764,1207.01 475.86,1184.12 496.956,1332.65 518.052,1270.74 539.147,1267 560.243,1214.82 581.339,1290.03 602.435,1248.47 623.531,1272.06 644.627,1185.73 665.722,1287.24 686.818,1197.77 707.914,1240.02 729.01,1145.77 750.106,1157.72 771.201,1352.38 792.297,1273.34 813.393,1326.24 834.489,1335.26 855.585,1318.93 876.681,1223.86 897.776,1187.73 918.872,1176.99 939.968,1320.53 961.064,1210.08 982.16,1291.17 1003.26,1167.71 1024.35,1246.82 1045.45,1209.91 1066.54,1404.72 1087.64,1339.71 1108.73,1267.13 1129.83,1247.51 1150.93,1354.47 1172.02,1168.64 1193.12,1238.5 1214.21,1327.72 1235.31,1236.68 1256.41,1247.4 1277.5,1212.68 1298.6,1294.39 1319.69,1396.2 1340.79,1350.13 1361.88,1124.02 1382.98,1445.72 1404.08,1197.91 1425.17,1142.7 1446.27,1171.65 1467.36,1223.72 1488.46,1168.13 1509.56,1246.21 1530.65,1265.69 1551.75,1328.39 1572.84,1359.15 1593.94,1201.75 1615.03,1368.54 1636.13,1304.53 1657.23,1204.57 1678.32,1276.89 1699.42,1359.67 1720.51,1360.31 1741.61,972.427 1762.71,1332.07 1783.8,1259.96 1804.9,1212.32 1825.99,1196.43 1847.09,1366.75 1868.18,1279.4 1889.28,1147.5 1910.38,1231.62 1931.47,1437.32 1952.57,1362 1973.66,1280.7 1994.76,1353.11 2015.86,1168.81 2036.95,1284.79 2058.05,1375.02 2079.14,1287.48 2100.24,1145.99 2121.33,1170.33 2142.43,1318.26 2163.53,1219.86 2184.62,1282.11 2205.72,1282.29 2226.81,1125.07 2247.91,1270.42 2269.01,1246.58 2290.1,1304.62 \"/>\n",
       "<path clip-path=\"url(#clip780)\" d=\"M2010.41 250.738 L2278.96 250.738 L2278.96 95.2176 L2010.41 95.2176  Z\" fill=\"#ffffff\" fill-rule=\"evenodd\" fill-opacity=\"1\"/>\n",
       "<polyline clip-path=\"url(#clip780)\" style=\"stroke:#000000; stroke-linecap:round; stroke-linejoin:round; stroke-width:4; stroke-opacity:1; fill:none\" points=\"2010.41,250.738 2278.96,250.738 2278.96,95.2176 2010.41,95.2176 2010.41,250.738 \"/>\n",
       "<polyline clip-path=\"url(#clip780)\" style=\"stroke:#009af9; stroke-linecap:round; stroke-linejoin:round; stroke-width:4; stroke-opacity:1; fill:none\" points=\"2035.01,147.058 2182.59,147.058 \"/>\n",
       "<path clip-path=\"url(#clip780)\" d=\"M2231.08 147.001 Q2231.08 148.312 2230.26 149.062 Q2229.44 149.788 2228.51 149.788 Q2227.61 149.788 2227.15 149.273 Q2226.68 148.757 2226.68 148.102 Q2226.68 147.212 2227.33 146.439 Q2227.99 145.666 2228.97 145.502 Q2228.01 144.893 2226.58 144.893 Q2225.65 144.893 2224.83 145.385 Q2224.03 145.877 2223.54 146.509 Q2223.07 147.141 2222.65 148.055 Q2222.25 148.945 2222.09 149.484 Q2221.95 149.999 2221.83 150.561 L2220.19 157.119 Q2219.39 160.234 2219.39 161.335 Q2219.39 162.694 2220.05 163.607 Q2220.71 164.497 2222.02 164.497 Q2222.53 164.497 2223.12 164.357 Q2223.7 164.193 2224.45 163.771 Q2225.23 163.326 2225.91 162.67 Q2226.61 161.991 2227.29 160.843 Q2227.97 159.696 2228.41 158.22 Q2228.55 157.705 2229.02 157.705 Q2229.61 157.705 2229.61 158.173 Q2229.61 158.571 2229.28 159.415 Q2228.97 160.234 2228.29 161.312 Q2227.64 162.366 2226.77 163.326 Q2225.91 164.263 2224.62 164.919 Q2223.33 165.575 2221.92 165.575 Q2219.91 165.575 2218.57 164.497 Q2217.24 163.42 2216.75 161.921 Q2216.63 162.132 2216.47 162.413 Q2216.3 162.694 2215.81 163.326 Q2215.34 163.935 2214.8 164.404 Q2214.26 164.849 2213.42 165.2 Q2212.6 165.575 2211.71 165.575 Q2210.59 165.575 2209.58 165.247 Q2208.6 164.919 2207.89 164.169 Q2207.19 163.42 2207.19 162.389 Q2207.19 161.242 2207.96 160.445 Q2208.76 159.625 2209.84 159.625 Q2210.52 159.625 2211.06 160.024 Q2211.62 160.422 2211.62 161.288 Q2211.62 162.249 2210.96 162.975 Q2210.31 163.701 2209.37 163.888 Q2210.33 164.497 2211.76 164.497 Q2213.3 164.497 2214.52 163.139 Q2215.74 161.78 2216.33 159.508 Q2217.78 154.051 2218.34 151.615 Q2218.9 149.156 2218.9 148.102 Q2218.9 147.118 2218.64 146.439 Q2218.39 145.759 2217.94 145.455 Q2217.52 145.127 2217.12 145.01 Q2216.75 144.893 2216.33 144.893 Q2215.62 144.893 2214.83 145.174 Q2214.05 145.455 2213.12 146.111 Q2212.2 146.743 2211.34 148.055 Q2210.47 149.366 2209.88 151.17 Q2209.77 151.709 2209.25 151.709 Q2208.69 151.685 2208.69 151.217 Q2208.69 150.819 2208.99 149.999 Q2209.32 149.156 2209.98 148.102 Q2210.66 147.048 2211.52 146.111 Q2212.41 145.15 2213.7 144.495 Q2215.01 143.839 2216.42 143.839 Q2217.05 143.839 2217.66 143.979 Q2218.29 144.096 2219.04 144.448 Q2219.82 144.799 2220.49 145.572 Q2221.17 146.345 2221.6 147.469 Q2221.88 146.931 2222.25 146.415 Q2222.65 145.9 2223.26 145.268 Q2223.89 144.612 2224.76 144.237 Q2225.65 143.839 2226.63 143.839 Q2227.59 143.839 2228.53 144.096 Q2229.47 144.331 2230.26 145.104 Q2231.08 145.853 2231.08 147.001 Z\" fill=\"#000000\" fill-rule=\"nonzero\" fill-opacity=\"1\" /><path clip-path=\"url(#clip780)\" d=\"M2235.97 150.696 Q2235.97 150.09 2236.02 149.909 Q2236.08 149.729 2236.34 149.45 L2242.79 142.269 Q2246.31 138.301 2246.31 134.842 Q2246.31 132.595 2245.13 130.989 Q2243.97 129.382 2241.82 129.382 Q2240.34 129.382 2239.1 130.284 Q2237.85 131.185 2237.28 132.792 Q2237.38 132.759 2237.72 132.759 Q2238.56 132.759 2239.02 133.284 Q2239.49 133.809 2239.49 134.514 Q2239.49 135.415 2238.9 135.858 Q2238.33 136.284 2237.75 136.284 Q2237.52 136.284 2237.21 136.235 Q2236.92 136.186 2236.44 135.727 Q2235.97 135.251 2235.97 134.415 Q2235.97 132.071 2237.74 130.202 Q2239.52 128.332 2242.25 128.332 Q2245.33 128.332 2247.35 130.169 Q2249.38 131.989 2249.38 134.842 Q2249.38 135.842 2249.07 136.76 Q2248.77 137.662 2248.36 138.367 Q2247.97 139.072 2246.89 140.203 Q2245.8 141.334 2244.94 142.138 Q2244.07 142.941 2242.12 144.646 L2238.56 148.106 L2244.61 148.106 Q2247.56 148.106 2247.79 147.843 Q2248.12 147.368 2248.53 144.859 L2249.38 144.859 L2248.43 150.696 L2235.97 150.696 Z\" fill=\"#000000\" fill-rule=\"nonzero\" fill-opacity=\"1\" /><polyline clip-path=\"url(#clip780)\" style=\"stroke:#e26f46; stroke-linecap:round; stroke-linejoin:round; stroke-width:4; stroke-opacity:1; fill:none\" points=\"2035.01,198.898 2182.59,198.898 \"/>\n",
       "<path clip-path=\"url(#clip780)\" d=\"M2231.08 191.089 Q2231.08 192.4 2230.26 193.15 Q2229.44 193.876 2228.51 193.876 Q2227.61 193.876 2227.15 193.361 Q2226.68 192.846 2226.68 192.19 Q2226.68 191.3 2227.33 190.527 Q2227.99 189.754 2228.97 189.59 Q2228.01 188.981 2226.58 188.981 Q2225.65 188.981 2224.83 189.473 Q2224.03 189.965 2223.54 190.597 Q2223.07 191.229 2222.65 192.143 Q2222.25 193.033 2222.09 193.572 Q2221.95 194.087 2221.83 194.649 L2220.19 201.207 Q2219.39 204.323 2219.39 205.423 Q2219.39 206.782 2220.05 207.695 Q2220.71 208.585 2222.02 208.585 Q2222.53 208.585 2223.12 208.445 Q2223.7 208.281 2224.45 207.859 Q2225.23 207.414 2225.91 206.758 Q2226.61 206.079 2227.29 204.931 Q2227.97 203.784 2228.41 202.308 Q2228.55 201.793 2229.02 201.793 Q2229.61 201.793 2229.61 202.261 Q2229.61 202.66 2229.28 203.503 Q2228.97 204.323 2228.29 205.4 Q2227.64 206.454 2226.77 207.414 Q2225.91 208.351 2224.62 209.007 Q2223.33 209.663 2221.92 209.663 Q2219.91 209.663 2218.57 208.585 Q2217.24 207.508 2216.75 206.009 Q2216.63 206.22 2216.47 206.501 Q2216.3 206.782 2215.81 207.414 Q2215.34 208.023 2214.8 208.492 Q2214.26 208.937 2213.42 209.288 Q2212.6 209.663 2211.71 209.663 Q2210.59 209.663 2209.58 209.335 Q2208.6 209.007 2207.89 208.257 Q2207.19 207.508 2207.19 206.477 Q2207.19 205.33 2207.96 204.533 Q2208.76 203.714 2209.84 203.714 Q2210.52 203.714 2211.06 204.112 Q2211.62 204.51 2211.62 205.377 Q2211.62 206.337 2210.96 207.063 Q2210.31 207.789 2209.37 207.976 Q2210.33 208.585 2211.76 208.585 Q2213.3 208.585 2214.52 207.227 Q2215.74 205.868 2216.33 203.596 Q2217.78 198.139 2218.34 195.703 Q2218.9 193.244 2218.9 192.19 Q2218.9 191.206 2218.64 190.527 Q2218.39 189.847 2217.94 189.543 Q2217.52 189.215 2217.12 189.098 Q2216.75 188.981 2216.33 188.981 Q2215.62 188.981 2214.83 189.262 Q2214.05 189.543 2213.12 190.199 Q2212.2 190.831 2211.34 192.143 Q2210.47 193.455 2209.88 195.258 Q2209.77 195.797 2209.25 195.797 Q2208.69 195.773 2208.69 195.305 Q2208.69 194.907 2208.99 194.087 Q2209.32 193.244 2209.98 192.19 Q2210.66 191.136 2211.52 190.199 Q2212.41 189.238 2213.7 188.583 Q2215.01 187.927 2216.42 187.927 Q2217.05 187.927 2217.66 188.067 Q2218.29 188.184 2219.04 188.536 Q2219.82 188.887 2220.49 189.66 Q2221.17 190.433 2221.6 191.557 Q2221.88 191.019 2222.25 190.503 Q2222.65 189.988 2223.26 189.356 Q2223.89 188.7 2224.76 188.325 Q2225.65 187.927 2226.63 187.927 Q2227.59 187.927 2228.53 188.184 Q2229.47 188.419 2230.26 189.192 Q2231.08 189.941 2231.08 191.089 Z\" fill=\"#000000\" fill-rule=\"nonzero\" fill-opacity=\"1\" /></svg>\n"
      ],
      "text/html": [
       "<?xml version=\"1.0\" encoding=\"utf-8\"?>\n",
       "<svg xmlns=\"http://www.w3.org/2000/svg\" xmlns:xlink=\"http://www.w3.org/1999/xlink\" width=\"600\" height=\"400\" viewBox=\"0 0 2400 1600\">\n",
       "<defs>\n",
       "  <clipPath id=\"clip830\">\n",
       "    <rect x=\"0\" y=\"0\" width=\"2400\" height=\"1600\"/>\n",
       "  </clipPath>\n",
       "</defs>\n",
       "<path clip-path=\"url(#clip830)\" d=\"M0 1600 L2400 1600 L2400 0 L0 0  Z\" fill=\"#ffffff\" fill-rule=\"evenodd\" fill-opacity=\"1\"/>\n",
       "<defs>\n",
       "  <clipPath id=\"clip831\">\n",
       "    <rect x=\"480\" y=\"0\" width=\"1681\" height=\"1600\"/>\n",
       "  </clipPath>\n",
       "</defs>\n",
       "<path clip-path=\"url(#clip830)\" d=\"M138.959 1486.45 L2352.76 1486.45 L2352.76 47.2441 L138.959 47.2441  Z\" fill=\"#ffffff\" fill-rule=\"evenodd\" fill-opacity=\"1\"/>\n",
       "<defs>\n",
       "  <clipPath id=\"clip832\">\n",
       "    <rect x=\"138\" y=\"47\" width=\"2215\" height=\"1440\"/>\n",
       "  </clipPath>\n",
       "</defs>\n",
       "<polyline clip-path=\"url(#clip832)\" style=\"stroke:#000000; stroke-linecap:round; stroke-linejoin:round; stroke-width:2; stroke-opacity:0.1; fill:none\" points=\"180.518,1486.45 180.518,47.2441 \"/>\n",
       "<polyline clip-path=\"url(#clip832)\" style=\"stroke:#000000; stroke-linecap:round; stroke-linejoin:round; stroke-width:2; stroke-opacity:0.1; fill:none\" points=\"707.914,1486.45 707.914,47.2441 \"/>\n",
       "<polyline clip-path=\"url(#clip832)\" style=\"stroke:#000000; stroke-linecap:round; stroke-linejoin:round; stroke-width:2; stroke-opacity:0.1; fill:none\" points=\"1235.31,1486.45 1235.31,47.2441 \"/>\n",
       "<polyline clip-path=\"url(#clip832)\" style=\"stroke:#000000; stroke-linecap:round; stroke-linejoin:round; stroke-width:2; stroke-opacity:0.1; fill:none\" points=\"1762.71,1486.45 1762.71,47.2441 \"/>\n",
       "<polyline clip-path=\"url(#clip832)\" style=\"stroke:#000000; stroke-linecap:round; stroke-linejoin:round; stroke-width:2; stroke-opacity:0.1; fill:none\" points=\"2290.1,1486.45 2290.1,47.2441 \"/>\n",
       "<polyline clip-path=\"url(#clip830)\" style=\"stroke:#000000; stroke-linecap:round; stroke-linejoin:round; stroke-width:4; stroke-opacity:1; fill:none\" points=\"138.959,1486.45 2352.76,1486.45 \"/>\n",
       "<polyline clip-path=\"url(#clip830)\" style=\"stroke:#000000; stroke-linecap:round; stroke-linejoin:round; stroke-width:4; stroke-opacity:1; fill:none\" points=\"180.518,1486.45 180.518,1467.55 \"/>\n",
       "<polyline clip-path=\"url(#clip830)\" style=\"stroke:#000000; stroke-linecap:round; stroke-linejoin:round; stroke-width:4; stroke-opacity:1; fill:none\" points=\"707.914,1486.45 707.914,1467.55 \"/>\n",
       "<polyline clip-path=\"url(#clip830)\" style=\"stroke:#000000; stroke-linecap:round; stroke-linejoin:round; stroke-width:4; stroke-opacity:1; fill:none\" points=\"1235.31,1486.45 1235.31,1467.55 \"/>\n",
       "<polyline clip-path=\"url(#clip830)\" style=\"stroke:#000000; stroke-linecap:round; stroke-linejoin:round; stroke-width:4; stroke-opacity:1; fill:none\" points=\"1762.71,1486.45 1762.71,1467.55 \"/>\n",
       "<polyline clip-path=\"url(#clip830)\" style=\"stroke:#000000; stroke-linecap:round; stroke-linejoin:round; stroke-width:4; stroke-opacity:1; fill:none\" points=\"2290.1,1486.45 2290.1,1467.55 \"/>\n",
       "<path clip-path=\"url(#clip830)\" d=\"M180.518 1517.37 Q176.907 1517.37 175.078 1520.93 Q173.273 1524.47 173.273 1531.6 Q173.273 1538.71 175.078 1542.27 Q176.907 1545.82 180.518 1545.82 Q184.152 1545.82 185.958 1542.27 Q187.787 1538.71 187.787 1531.6 Q187.787 1524.47 185.958 1520.93 Q184.152 1517.37 180.518 1517.37 M180.518 1513.66 Q186.328 1513.66 189.384 1518.27 Q192.463 1522.85 192.463 1531.6 Q192.463 1540.33 189.384 1544.94 Q186.328 1549.52 180.518 1549.52 Q174.708 1549.52 171.629 1544.94 Q168.574 1540.33 168.574 1531.6 Q168.574 1522.85 171.629 1518.27 Q174.708 1513.66 180.518 1513.66 Z\" fill=\"#000000\" fill-rule=\"nonzero\" fill-opacity=\"1\" /><path clip-path=\"url(#clip830)\" d=\"M687.185 1544.91 L703.504 1544.91 L703.504 1548.85 L681.56 1548.85 L681.56 1544.91 Q684.222 1542.16 688.805 1537.53 Q693.412 1532.88 694.592 1531.53 Q696.838 1529.01 697.717 1527.27 Q698.62 1525.51 698.62 1523.82 Q698.62 1521.07 696.676 1519.33 Q694.754 1517.6 691.653 1517.6 Q689.453 1517.6 687 1518.36 Q684.569 1519.13 681.791 1520.68 L681.791 1515.95 Q684.616 1514.82 687.069 1514.24 Q689.523 1513.66 691.56 1513.66 Q696.93 1513.66 700.125 1516.35 Q703.319 1519.03 703.319 1523.52 Q703.319 1525.65 702.509 1527.57 Q701.722 1529.47 699.615 1532.07 Q699.037 1532.74 695.935 1535.95 Q692.833 1539.15 687.185 1544.91 Z\" fill=\"#000000\" fill-rule=\"nonzero\" fill-opacity=\"1\" /><path clip-path=\"url(#clip830)\" d=\"M713.365 1514.29 L731.722 1514.29 L731.722 1518.22 L717.648 1518.22 L717.648 1526.7 Q718.666 1526.35 719.685 1526.19 Q720.703 1526 721.722 1526 Q727.509 1526 730.888 1529.17 Q734.268 1532.34 734.268 1537.76 Q734.268 1543.34 730.796 1546.44 Q727.324 1549.52 721.004 1549.52 Q718.828 1549.52 716.56 1549.15 Q714.314 1548.78 711.907 1548.04 L711.907 1543.34 Q713.99 1544.47 716.213 1545.03 Q718.435 1545.58 720.912 1545.58 Q724.916 1545.58 727.254 1543.48 Q729.592 1541.37 729.592 1537.76 Q729.592 1534.15 727.254 1532.04 Q724.916 1529.94 720.912 1529.94 Q719.037 1529.94 717.162 1530.35 Q715.31 1530.77 713.365 1531.65 L713.365 1514.29 Z\" fill=\"#000000\" fill-rule=\"nonzero\" fill-opacity=\"1\" /><path clip-path=\"url(#clip830)\" d=\"M1210.01 1514.29 L1228.37 1514.29 L1228.37 1518.22 L1214.29 1518.22 L1214.29 1526.7 Q1215.31 1526.35 1216.33 1526.19 Q1217.35 1526 1218.37 1526 Q1224.15 1526 1227.53 1529.17 Q1230.91 1532.34 1230.91 1537.76 Q1230.91 1543.34 1227.44 1546.44 Q1223.97 1549.52 1217.65 1549.52 Q1215.47 1549.52 1213.2 1549.15 Q1210.96 1548.78 1208.55 1548.04 L1208.55 1543.34 Q1210.63 1544.47 1212.86 1545.03 Q1215.08 1545.58 1217.56 1545.58 Q1221.56 1545.58 1223.9 1543.48 Q1226.24 1541.37 1226.24 1537.76 Q1226.24 1534.15 1223.9 1532.04 Q1221.56 1529.94 1217.56 1529.94 Q1215.68 1529.94 1213.81 1530.35 Q1211.95 1530.77 1210.01 1531.65 L1210.01 1514.29 Z\" fill=\"#000000\" fill-rule=\"nonzero\" fill-opacity=\"1\" /><path clip-path=\"url(#clip830)\" d=\"M1250.12 1517.37 Q1246.51 1517.37 1244.68 1520.93 Q1242.88 1524.47 1242.88 1531.6 Q1242.88 1538.71 1244.68 1542.27 Q1246.51 1545.82 1250.12 1545.82 Q1253.76 1545.82 1255.56 1542.27 Q1257.39 1538.71 1257.39 1531.6 Q1257.39 1524.47 1255.56 1520.93 Q1253.76 1517.37 1250.12 1517.37 M1250.12 1513.66 Q1255.93 1513.66 1258.99 1518.27 Q1262.07 1522.85 1262.07 1531.6 Q1262.07 1540.33 1258.99 1544.94 Q1255.93 1549.52 1250.12 1549.52 Q1244.31 1549.52 1241.24 1544.94 Q1238.18 1540.33 1238.18 1531.6 Q1238.18 1522.85 1241.24 1518.27 Q1244.31 1513.66 1250.12 1513.66 Z\" fill=\"#000000\" fill-rule=\"nonzero\" fill-opacity=\"1\" /><path clip-path=\"url(#clip830)\" d=\"M1736.56 1514.29 L1758.78 1514.29 L1758.78 1516.28 L1746.24 1548.85 L1741.35 1548.85 L1753.16 1518.22 L1736.56 1518.22 L1736.56 1514.29 Z\" fill=\"#000000\" fill-rule=\"nonzero\" fill-opacity=\"1\" /><path clip-path=\"url(#clip830)\" d=\"M1767.95 1514.29 L1786.3 1514.29 L1786.3 1518.22 L1772.23 1518.22 L1772.23 1526.7 Q1773.25 1526.35 1774.27 1526.19 Q1775.29 1526 1776.3 1526 Q1782.09 1526 1785.47 1529.17 Q1788.85 1532.34 1788.85 1537.76 Q1788.85 1543.34 1785.38 1546.44 Q1781.91 1549.52 1775.59 1549.52 Q1773.41 1549.52 1771.14 1549.15 Q1768.9 1548.78 1766.49 1548.04 L1766.49 1543.34 Q1768.57 1544.47 1770.8 1545.03 Q1773.02 1545.58 1775.49 1545.58 Q1779.5 1545.58 1781.84 1543.48 Q1784.18 1541.37 1784.18 1537.76 Q1784.18 1534.15 1781.84 1532.04 Q1779.5 1529.94 1775.49 1529.94 Q1773.62 1529.94 1771.74 1530.35 Q1769.89 1530.77 1767.95 1531.65 L1767.95 1514.29 Z\" fill=\"#000000\" fill-rule=\"nonzero\" fill-opacity=\"1\" /><path clip-path=\"url(#clip830)\" d=\"M2249.71 1544.91 L2257.35 1544.91 L2257.35 1518.55 L2249.04 1520.21 L2249.04 1515.95 L2257.3 1514.29 L2261.98 1514.29 L2261.98 1544.91 L2269.62 1544.91 L2269.62 1548.85 L2249.71 1548.85 L2249.71 1544.91 Z\" fill=\"#000000\" fill-rule=\"nonzero\" fill-opacity=\"1\" /><path clip-path=\"url(#clip830)\" d=\"M2289.06 1517.37 Q2285.45 1517.37 2283.62 1520.93 Q2281.81 1524.47 2281.81 1531.6 Q2281.81 1538.71 2283.62 1542.27 Q2285.45 1545.82 2289.06 1545.82 Q2292.69 1545.82 2294.5 1542.27 Q2296.33 1538.71 2296.33 1531.6 Q2296.33 1524.47 2294.5 1520.93 Q2292.69 1517.37 2289.06 1517.37 M2289.06 1513.66 Q2294.87 1513.66 2297.93 1518.27 Q2301 1522.85 2301 1531.6 Q2301 1540.33 2297.93 1544.94 Q2294.87 1549.52 2289.06 1549.52 Q2283.25 1549.52 2280.17 1544.94 Q2277.12 1540.33 2277.12 1531.6 Q2277.12 1522.85 2280.17 1518.27 Q2283.25 1513.66 2289.06 1513.66 Z\" fill=\"#000000\" fill-rule=\"nonzero\" fill-opacity=\"1\" /><path clip-path=\"url(#clip830)\" d=\"M2319.22 1517.37 Q2315.61 1517.37 2313.78 1520.93 Q2311.98 1524.47 2311.98 1531.6 Q2311.98 1538.71 2313.78 1542.27 Q2315.61 1545.82 2319.22 1545.82 Q2322.86 1545.82 2324.66 1542.27 Q2326.49 1538.71 2326.49 1531.6 Q2326.49 1524.47 2324.66 1520.93 Q2322.86 1517.37 2319.22 1517.37 M2319.22 1513.66 Q2325.03 1513.66 2328.09 1518.27 Q2331.17 1522.85 2331.17 1531.6 Q2331.17 1540.33 2328.09 1544.94 Q2325.03 1549.52 2319.22 1549.52 Q2313.41 1549.52 2310.33 1544.94 Q2307.28 1540.33 2307.28 1531.6 Q2307.28 1522.85 2310.33 1518.27 Q2313.41 1513.66 2319.22 1513.66 Z\" fill=\"#000000\" fill-rule=\"nonzero\" fill-opacity=\"1\" /><polyline clip-path=\"url(#clip832)\" style=\"stroke:#000000; stroke-linecap:round; stroke-linejoin:round; stroke-width:2; stroke-opacity:0.1; fill:none\" points=\"138.959,1263.69 2352.76,1263.69 \"/>\n",
       "<polyline clip-path=\"url(#clip832)\" style=\"stroke:#000000; stroke-linecap:round; stroke-linejoin:round; stroke-width:2; stroke-opacity:0.1; fill:none\" points=\"138.959,902.916 2352.76,902.916 \"/>\n",
       "<polyline clip-path=\"url(#clip832)\" style=\"stroke:#000000; stroke-linecap:round; stroke-linejoin:round; stroke-width:2; stroke-opacity:0.1; fill:none\" points=\"138.959,542.144 2352.76,542.144 \"/>\n",
       "<polyline clip-path=\"url(#clip832)\" style=\"stroke:#000000; stroke-linecap:round; stroke-linejoin:round; stroke-width:2; stroke-opacity:0.1; fill:none\" points=\"138.959,181.373 2352.76,181.373 \"/>\n",
       "<polyline clip-path=\"url(#clip830)\" style=\"stroke:#000000; stroke-linecap:round; stroke-linejoin:round; stroke-width:4; stroke-opacity:1; fill:none\" points=\"138.959,1486.45 138.959,47.2441 \"/>\n",
       "<polyline clip-path=\"url(#clip830)\" style=\"stroke:#000000; stroke-linecap:round; stroke-linejoin:round; stroke-width:4; stroke-opacity:1; fill:none\" points=\"138.959,1263.69 157.857,1263.69 \"/>\n",
       "<polyline clip-path=\"url(#clip830)\" style=\"stroke:#000000; stroke-linecap:round; stroke-linejoin:round; stroke-width:4; stroke-opacity:1; fill:none\" points=\"138.959,902.916 157.857,902.916 \"/>\n",
       "<polyline clip-path=\"url(#clip830)\" style=\"stroke:#000000; stroke-linecap:round; stroke-linejoin:round; stroke-width:4; stroke-opacity:1; fill:none\" points=\"138.959,542.144 157.857,542.144 \"/>\n",
       "<polyline clip-path=\"url(#clip830)\" style=\"stroke:#000000; stroke-linecap:round; stroke-linejoin:round; stroke-width:4; stroke-opacity:1; fill:none\" points=\"138.959,181.373 157.857,181.373 \"/>\n",
       "<path clip-path=\"url(#clip830)\" d=\"M91.0151 1249.49 Q87.404 1249.49 85.5753 1253.05 Q83.7697 1256.59 83.7697 1263.72 Q83.7697 1270.83 85.5753 1274.39 Q87.404 1277.94 91.0151 1277.94 Q94.6493 1277.94 96.4548 1274.39 Q98.2835 1270.83 98.2835 1263.72 Q98.2835 1256.59 96.4548 1253.05 Q94.6493 1249.49 91.0151 1249.49 M91.0151 1245.78 Q96.8252 1245.78 99.8808 1250.39 Q102.959 1254.97 102.959 1263.72 Q102.959 1272.45 99.8808 1277.06 Q96.8252 1281.64 91.0151 1281.64 Q85.2049 1281.64 82.1262 1277.06 Q79.0707 1272.45 79.0707 1263.72 Q79.0707 1254.97 82.1262 1250.39 Q85.2049 1245.78 91.0151 1245.78 Z\" fill=\"#000000\" fill-rule=\"nonzero\" fill-opacity=\"1\" /><path clip-path=\"url(#clip830)\" d=\"M82.0568 885.636 L100.413 885.636 L100.413 889.571 L86.3392 889.571 L86.3392 898.043 Q87.3577 897.696 88.3762 897.534 Q89.3947 897.349 90.4132 897.349 Q96.2002 897.349 99.5798 900.52 Q102.959 903.692 102.959 909.108 Q102.959 914.687 99.4872 917.789 Q96.015 920.867 89.6956 920.867 Q87.5197 920.867 85.2512 920.497 Q83.0058 920.127 80.5984 919.386 L80.5984 914.687 Q82.6818 915.821 84.904 916.377 Q87.1262 916.932 89.603 916.932 Q93.6076 916.932 95.9456 914.826 Q98.2835 912.719 98.2835 909.108 Q98.2835 905.497 95.9456 903.391 Q93.6076 901.284 89.603 901.284 Q87.728 901.284 85.8531 901.701 Q84.0012 902.117 82.0568 902.997 L82.0568 885.636 Z\" fill=\"#000000\" fill-rule=\"nonzero\" fill-opacity=\"1\" /><path clip-path=\"url(#clip830)\" d=\"M51.6634 555.489 L59.3023 555.489 L59.3023 529.124 L50.9921 530.79 L50.9921 526.531 L59.256 524.864 L63.9319 524.864 L63.9319 555.489 L71.5707 555.489 L71.5707 559.424 L51.6634 559.424 L51.6634 555.489 Z\" fill=\"#000000\" fill-rule=\"nonzero\" fill-opacity=\"1\" /><path clip-path=\"url(#clip830)\" d=\"M91.0151 527.943 Q87.404 527.943 85.5753 531.508 Q83.7697 535.05 83.7697 542.179 Q83.7697 549.286 85.5753 552.85 Q87.404 556.392 91.0151 556.392 Q94.6493 556.392 96.4548 552.85 Q98.2835 549.286 98.2835 542.179 Q98.2835 535.05 96.4548 531.508 Q94.6493 527.943 91.0151 527.943 M91.0151 524.239 Q96.8252 524.239 99.8808 528.846 Q102.959 533.429 102.959 542.179 Q102.959 550.906 99.8808 555.512 Q96.8252 560.096 91.0151 560.096 Q85.2049 560.096 82.1262 555.512 Q79.0707 550.906 79.0707 542.179 Q79.0707 533.429 82.1262 528.846 Q85.2049 524.239 91.0151 524.239 Z\" fill=\"#000000\" fill-rule=\"nonzero\" fill-opacity=\"1\" /><path clip-path=\"url(#clip830)\" d=\"M52.6588 194.718 L60.2976 194.718 L60.2976 168.352 L51.9875 170.019 L51.9875 165.76 L60.2513 164.093 L64.9272 164.093 L64.9272 194.718 L72.5661 194.718 L72.5661 198.653 L52.6588 198.653 L52.6588 194.718 Z\" fill=\"#000000\" fill-rule=\"nonzero\" fill-opacity=\"1\" /><path clip-path=\"url(#clip830)\" d=\"M82.0568 164.093 L100.413 164.093 L100.413 168.028 L86.3392 168.028 L86.3392 176.5 Q87.3577 176.153 88.3762 175.991 Q89.3947 175.806 90.4132 175.806 Q96.2002 175.806 99.5798 178.977 Q102.959 182.148 102.959 187.565 Q102.959 193.144 99.4872 196.245 Q96.015 199.324 89.6956 199.324 Q87.5197 199.324 85.2512 198.954 Q83.0058 198.583 80.5984 197.843 L80.5984 193.144 Q82.6818 194.278 84.904 194.833 Q87.1262 195.389 89.603 195.389 Q93.6076 195.389 95.9456 193.283 Q98.2835 191.176 98.2835 187.565 Q98.2835 183.954 95.9456 181.847 Q93.6076 179.741 89.603 179.741 Q87.728 179.741 85.8531 180.158 Q84.0012 180.574 82.0568 181.454 L82.0568 164.093 Z\" fill=\"#000000\" fill-rule=\"nonzero\" fill-opacity=\"1\" /><polyline clip-path=\"url(#clip832)\" style=\"stroke:#009af9; stroke-linecap:round; stroke-linejoin:round; stroke-width:4; stroke-opacity:1; fill:none\" points=\"201.614,1261.1 222.71,1243.87 243.806,1230.47 264.902,1156.13 285.997,1186.93 307.093,1256.89 328.189,875.814 349.285,1262.28 370.381,1256.99 391.477,1237.06 412.572,1248.94 433.668,1248.45 454.764,1219.17 475.86,1175.93 496.956,1197.78 518.052,1263 539.147,1263.54 560.243,1230.59 581.339,1254.07 602.435,1260.48 623.531,1262.72 644.627,1179.45 665.722,1256 686.818,1203.47 707.914,1255.93 729.01,1070.97 750.106,1108.06 771.201,1154.65 792.297,1262.4 813.393,1209.45 834.489,1192.68 855.585,1221.39 876.681,1241.7 897.776,1183.72 918.872,1159.52 939.968,1218.9 961.064,1223.86 982.16,1253.22 1003.26,1136.03 1024.35,1259.74 1045.45,1223.6 1066.54,988.018 1087.64,1183.58 1108.73,1263.52 1129.83,1260.06 1150.93,1149.46 1172.02,1138.48 1193.12,1254.9 1214.21,1206.86 1235.31,1253.58 1256.41,1260.01 1277.5,1227.62 1298.6,1250.62 1319.69,1020.31 1340.79,1160.14 1361.88,993.329 1382.98,804.474 1404.08,1203.72 1425.17,1060.82 1446.27,1146.28 1467.36,1241.55 1488.46,1137.12 1509.56,1259.46 1530.65,1263.63 1551.75,1205.67 1572.84,1137.39 1593.94,1210.52 1615.03,1111.33 1636.13,1240.57 1657.23,1215.25 1678.32,1261.27 1699.42,1136.01 1720.51,1134.3 1741.61,87.9763 1762.71,1198.88 1783.8,1263.49 1804.9,1227.11 1825.99,1201 1847.09,1116.47 1868.18,1260.27 1889.28,1076.59 1910.38,1249.43 1931.47,845.86 1952.57,1129.72 1973.66,1259.67 1994.76,1152.86 2015.86,1138.93 2036.95,1257.51 2058.05,1091.91 2079.14,1255.84 2100.24,1071.71 2121.33,1142.89 2142.43,1222.41 2163.53,1237.07 2184.62,1258.98 2205.72,1258.89 2226.81,997.368 2247.91,1263.06 2269.01,1259.63 2290.1,1240.47 \"/>\n",
       "<polyline clip-path=\"url(#clip832)\" style=\"stroke:#e26f46; stroke-linecap:round; stroke-linejoin:round; stroke-width:4; stroke-opacity:1; fill:none\" points=\"201.614,1277.36 222.71,1301.5 243.806,1214.73 264.902,1351.78 285.997,1338.11 307.093,1241.53 328.189,1096.4 349.285,1273.77 370.381,1285.68 391.477,1307.52 412.572,1231.07 433.668,1230.53 454.764,1207.01 475.86,1184.12 496.956,1332.65 518.052,1270.74 539.147,1267 560.243,1214.82 581.339,1290.03 602.435,1248.47 623.531,1272.06 644.627,1185.73 665.722,1287.24 686.818,1197.77 707.914,1240.02 729.01,1145.77 750.106,1157.72 771.201,1352.38 792.297,1273.34 813.393,1326.24 834.489,1335.26 855.585,1318.93 876.681,1223.86 897.776,1187.73 918.872,1176.99 939.968,1320.53 961.064,1210.08 982.16,1291.17 1003.26,1167.71 1024.35,1246.82 1045.45,1209.91 1066.54,1404.72 1087.64,1339.71 1108.73,1267.13 1129.83,1247.51 1150.93,1354.47 1172.02,1168.64 1193.12,1238.5 1214.21,1327.72 1235.31,1236.68 1256.41,1247.4 1277.5,1212.68 1298.6,1294.39 1319.69,1396.2 1340.79,1350.13 1361.88,1124.02 1382.98,1445.72 1404.08,1197.91 1425.17,1142.7 1446.27,1171.65 1467.36,1223.72 1488.46,1168.13 1509.56,1246.21 1530.65,1265.69 1551.75,1328.39 1572.84,1359.15 1593.94,1201.75 1615.03,1368.54 1636.13,1304.53 1657.23,1204.57 1678.32,1276.89 1699.42,1359.67 1720.51,1360.31 1741.61,972.427 1762.71,1332.07 1783.8,1259.96 1804.9,1212.32 1825.99,1196.43 1847.09,1366.75 1868.18,1279.4 1889.28,1147.5 1910.38,1231.62 1931.47,1437.32 1952.57,1362 1973.66,1280.7 1994.76,1353.11 2015.86,1168.81 2036.95,1284.79 2058.05,1375.02 2079.14,1287.48 2100.24,1145.99 2121.33,1170.33 2142.43,1318.26 2163.53,1219.86 2184.62,1282.11 2205.72,1282.29 2226.81,1125.07 2247.91,1270.42 2269.01,1246.58 2290.1,1304.62 \"/>\n",
       "<path clip-path=\"url(#clip830)\" d=\"M2010.41 250.738 L2278.96 250.738 L2278.96 95.2176 L2010.41 95.2176  Z\" fill=\"#ffffff\" fill-rule=\"evenodd\" fill-opacity=\"1\"/>\n",
       "<polyline clip-path=\"url(#clip830)\" style=\"stroke:#000000; stroke-linecap:round; stroke-linejoin:round; stroke-width:4; stroke-opacity:1; fill:none\" points=\"2010.41,250.738 2278.96,250.738 2278.96,95.2176 2010.41,95.2176 2010.41,250.738 \"/>\n",
       "<polyline clip-path=\"url(#clip830)\" style=\"stroke:#009af9; stroke-linecap:round; stroke-linejoin:round; stroke-width:4; stroke-opacity:1; fill:none\" points=\"2035.01,147.058 2182.59,147.058 \"/>\n",
       "<path clip-path=\"url(#clip830)\" d=\"M2231.08 147.001 Q2231.08 148.312 2230.26 149.062 Q2229.44 149.788 2228.51 149.788 Q2227.61 149.788 2227.15 149.273 Q2226.68 148.757 2226.68 148.102 Q2226.68 147.212 2227.33 146.439 Q2227.99 145.666 2228.97 145.502 Q2228.01 144.893 2226.58 144.893 Q2225.65 144.893 2224.83 145.385 Q2224.03 145.877 2223.54 146.509 Q2223.07 147.141 2222.65 148.055 Q2222.25 148.945 2222.09 149.484 Q2221.95 149.999 2221.83 150.561 L2220.19 157.119 Q2219.39 160.234 2219.39 161.335 Q2219.39 162.694 2220.05 163.607 Q2220.71 164.497 2222.02 164.497 Q2222.53 164.497 2223.12 164.357 Q2223.7 164.193 2224.45 163.771 Q2225.23 163.326 2225.91 162.67 Q2226.61 161.991 2227.29 160.843 Q2227.97 159.696 2228.41 158.22 Q2228.55 157.705 2229.02 157.705 Q2229.61 157.705 2229.61 158.173 Q2229.61 158.571 2229.28 159.415 Q2228.97 160.234 2228.29 161.312 Q2227.64 162.366 2226.77 163.326 Q2225.91 164.263 2224.62 164.919 Q2223.33 165.575 2221.92 165.575 Q2219.91 165.575 2218.57 164.497 Q2217.24 163.42 2216.75 161.921 Q2216.63 162.132 2216.47 162.413 Q2216.3 162.694 2215.81 163.326 Q2215.34 163.935 2214.8 164.404 Q2214.26 164.849 2213.42 165.2 Q2212.6 165.575 2211.71 165.575 Q2210.59 165.575 2209.58 165.247 Q2208.6 164.919 2207.89 164.169 Q2207.19 163.42 2207.19 162.389 Q2207.19 161.242 2207.96 160.445 Q2208.76 159.625 2209.84 159.625 Q2210.52 159.625 2211.06 160.024 Q2211.62 160.422 2211.62 161.288 Q2211.62 162.249 2210.96 162.975 Q2210.31 163.701 2209.37 163.888 Q2210.33 164.497 2211.76 164.497 Q2213.3 164.497 2214.52 163.139 Q2215.74 161.78 2216.33 159.508 Q2217.78 154.051 2218.34 151.615 Q2218.9 149.156 2218.9 148.102 Q2218.9 147.118 2218.64 146.439 Q2218.39 145.759 2217.94 145.455 Q2217.52 145.127 2217.12 145.01 Q2216.75 144.893 2216.33 144.893 Q2215.62 144.893 2214.83 145.174 Q2214.05 145.455 2213.12 146.111 Q2212.2 146.743 2211.34 148.055 Q2210.47 149.366 2209.88 151.17 Q2209.77 151.709 2209.25 151.709 Q2208.69 151.685 2208.69 151.217 Q2208.69 150.819 2208.99 149.999 Q2209.32 149.156 2209.98 148.102 Q2210.66 147.048 2211.52 146.111 Q2212.41 145.15 2213.7 144.495 Q2215.01 143.839 2216.42 143.839 Q2217.05 143.839 2217.66 143.979 Q2218.29 144.096 2219.04 144.448 Q2219.82 144.799 2220.49 145.572 Q2221.17 146.345 2221.6 147.469 Q2221.88 146.931 2222.25 146.415 Q2222.65 145.9 2223.26 145.268 Q2223.89 144.612 2224.76 144.237 Q2225.65 143.839 2226.63 143.839 Q2227.59 143.839 2228.53 144.096 Q2229.47 144.331 2230.26 145.104 Q2231.08 145.853 2231.08 147.001 Z\" fill=\"#000000\" fill-rule=\"nonzero\" fill-opacity=\"1\" /><path clip-path=\"url(#clip830)\" d=\"M2235.97 150.696 Q2235.97 150.09 2236.02 149.909 Q2236.08 149.729 2236.34 149.45 L2242.79 142.269 Q2246.31 138.301 2246.31 134.842 Q2246.31 132.595 2245.13 130.989 Q2243.97 129.382 2241.82 129.382 Q2240.34 129.382 2239.1 130.284 Q2237.85 131.185 2237.28 132.792 Q2237.38 132.759 2237.72 132.759 Q2238.56 132.759 2239.02 133.284 Q2239.49 133.809 2239.49 134.514 Q2239.49 135.415 2238.9 135.858 Q2238.33 136.284 2237.75 136.284 Q2237.52 136.284 2237.21 136.235 Q2236.92 136.186 2236.44 135.727 Q2235.97 135.251 2235.97 134.415 Q2235.97 132.071 2237.74 130.202 Q2239.52 128.332 2242.25 128.332 Q2245.33 128.332 2247.35 130.169 Q2249.38 131.989 2249.38 134.842 Q2249.38 135.842 2249.07 136.76 Q2248.77 137.662 2248.36 138.367 Q2247.97 139.072 2246.89 140.203 Q2245.8 141.334 2244.94 142.138 Q2244.07 142.941 2242.12 144.646 L2238.56 148.106 L2244.61 148.106 Q2247.56 148.106 2247.79 147.843 Q2248.12 147.368 2248.53 144.859 L2249.38 144.859 L2248.43 150.696 L2235.97 150.696 Z\" fill=\"#000000\" fill-rule=\"nonzero\" fill-opacity=\"1\" /><polyline clip-path=\"url(#clip830)\" style=\"stroke:#e26f46; stroke-linecap:round; stroke-linejoin:round; stroke-width:4; stroke-opacity:1; fill:none\" points=\"2035.01,198.898 2182.59,198.898 \"/>\n",
       "<path clip-path=\"url(#clip830)\" d=\"M2231.08 191.089 Q2231.08 192.4 2230.26 193.15 Q2229.44 193.876 2228.51 193.876 Q2227.61 193.876 2227.15 193.361 Q2226.68 192.846 2226.68 192.19 Q2226.68 191.3 2227.33 190.527 Q2227.99 189.754 2228.97 189.59 Q2228.01 188.981 2226.58 188.981 Q2225.65 188.981 2224.83 189.473 Q2224.03 189.965 2223.54 190.597 Q2223.07 191.229 2222.65 192.143 Q2222.25 193.033 2222.09 193.572 Q2221.95 194.087 2221.83 194.649 L2220.19 201.207 Q2219.39 204.323 2219.39 205.423 Q2219.39 206.782 2220.05 207.695 Q2220.71 208.585 2222.02 208.585 Q2222.53 208.585 2223.12 208.445 Q2223.7 208.281 2224.45 207.859 Q2225.23 207.414 2225.91 206.758 Q2226.61 206.079 2227.29 204.931 Q2227.97 203.784 2228.41 202.308 Q2228.55 201.793 2229.02 201.793 Q2229.61 201.793 2229.61 202.261 Q2229.61 202.66 2229.28 203.503 Q2228.97 204.323 2228.29 205.4 Q2227.64 206.454 2226.77 207.414 Q2225.91 208.351 2224.62 209.007 Q2223.33 209.663 2221.92 209.663 Q2219.91 209.663 2218.57 208.585 Q2217.24 207.508 2216.75 206.009 Q2216.63 206.22 2216.47 206.501 Q2216.3 206.782 2215.81 207.414 Q2215.34 208.023 2214.8 208.492 Q2214.26 208.937 2213.42 209.288 Q2212.6 209.663 2211.71 209.663 Q2210.59 209.663 2209.58 209.335 Q2208.6 209.007 2207.89 208.257 Q2207.19 207.508 2207.19 206.477 Q2207.19 205.33 2207.96 204.533 Q2208.76 203.714 2209.84 203.714 Q2210.52 203.714 2211.06 204.112 Q2211.62 204.51 2211.62 205.377 Q2211.62 206.337 2210.96 207.063 Q2210.31 207.789 2209.37 207.976 Q2210.33 208.585 2211.76 208.585 Q2213.3 208.585 2214.52 207.227 Q2215.74 205.868 2216.33 203.596 Q2217.78 198.139 2218.34 195.703 Q2218.9 193.244 2218.9 192.19 Q2218.9 191.206 2218.64 190.527 Q2218.39 189.847 2217.94 189.543 Q2217.52 189.215 2217.12 189.098 Q2216.75 188.981 2216.33 188.981 Q2215.62 188.981 2214.83 189.262 Q2214.05 189.543 2213.12 190.199 Q2212.2 190.831 2211.34 192.143 Q2210.47 193.455 2209.88 195.258 Q2209.77 195.797 2209.25 195.797 Q2208.69 195.773 2208.69 195.305 Q2208.69 194.907 2208.99 194.087 Q2209.32 193.244 2209.98 192.19 Q2210.66 191.136 2211.52 190.199 Q2212.41 189.238 2213.7 188.583 Q2215.01 187.927 2216.42 187.927 Q2217.05 187.927 2217.66 188.067 Q2218.29 188.184 2219.04 188.536 Q2219.82 188.887 2220.49 189.66 Q2221.17 190.433 2221.6 191.557 Q2221.88 191.019 2222.25 190.503 Q2222.65 189.988 2223.26 189.356 Q2223.89 188.7 2224.76 188.325 Q2225.65 187.927 2226.63 187.927 Q2227.59 187.927 2228.53 188.184 Q2229.47 188.419 2230.26 189.192 Q2231.08 189.941 2231.08 191.089 Z\" fill=\"#000000\" fill-rule=\"nonzero\" fill-opacity=\"1\" /></svg>\n"
      ]
     },
     "execution_count": 33,
     "metadata": {},
     "output_type": "execute_result"
    }
   ],
   "source": [
    "# direct solution with broadcasting, and small user-defined function\n",
    "n = 100\n",
    "f(x) = x^2\n",
    "\n",
    "x = randn(n)\n",
    "plot(f.(x), label = L\"x^2\")\n",
    "plot!(x, label = L\"x\") # layer on the same plot"
   ]
  },
  {
   "cell_type": "markdown",
   "id": "8654ec8b",
   "metadata": {},
   "source": [
    "While broadcasting above superficially looks like vectorizing functions in MATLAB, or Python ufuncs, it is much richer and built on core foundations of the language.\n",
    "\n",
    "The other additional function `plot!` adds a graph to the existing plot.\n",
    "\n",
    "This follows a general convention in Julia, where a function that modifies the arguments or a global state has a `!` at the end of its name.\n",
    "\n",
    "The `L` in front of the labels is using the LaTeXStrings package, which will try to interpret the text as latex for display."
   ]
  },
  {
   "cell_type": "markdown",
   "id": "dd6c557a",
   "metadata": {},
   "source": [
    "#### A Slightly More Useful Function\n",
    "\n",
    "Let’s make a slightly more useful function.\n",
    "\n",
    "This function will be passed in a choice of probability distribution and respond by plotting a histogram of observations.\n",
    "\n",
    "In doing so we’ll make use of the `Distributions` package, which we assume was instantiated above with the project.\n",
    "\n",
    "Here’s the code"
   ]
  },
  {
   "cell_type": "code",
   "execution_count": 35,
   "id": "f02eb5ae",
   "metadata": {
    "hide-output": false
   },
   "outputs": [
    {
     "data": {
      "image/png": "[encoded data removed]",
      "image/svg+xml": [
       "<?xml version=\"1.0\" encoding=\"utf-8\"?>\n",
       "<svg xmlns=\"http://www.w3.org/2000/svg\" xmlns:xlink=\"http://www.w3.org/1999/xlink\" width=\"600\" height=\"400\" viewBox=\"0 0 2400 1600\">\n",
       "<defs>\n",
       "  <clipPath id=\"clip870\">\n",
       "    <rect x=\"0\" y=\"0\" width=\"2400\" height=\"1600\"/>\n",
       "  </clipPath>\n",
       "</defs>\n",
       "<path clip-path=\"url(#clip870)\" d=\"M0 1600 L2400 1600 L2400 0 L0 0  Z\" fill=\"#ffffff\" fill-rule=\"evenodd\" fill-opacity=\"1\"/>\n",
       "<defs>\n",
       "  <clipPath id=\"clip871\">\n",
       "    <rect x=\"480\" y=\"0\" width=\"1681\" height=\"1600\"/>\n",
       "  </clipPath>\n",
       "</defs>\n",
       "<path clip-path=\"url(#clip870)\" d=\"M141.853 1486.45 L2352.76 1486.45 L2352.76 47.2441 L141.853 47.2441  Z\" fill=\"#ffffff\" fill-rule=\"evenodd\" fill-opacity=\"1\"/>\n",
       "<defs>\n",
       "  <clipPath id=\"clip872\">\n",
       "    <rect x=\"141\" y=\"47\" width=\"2212\" height=\"1440\"/>\n",
       "  </clipPath>\n",
       "</defs>\n",
       "<polyline clip-path=\"url(#clip872)\" style=\"stroke:#000000; stroke-linecap:round; stroke-linejoin:round; stroke-width:2; stroke-opacity:0.1; fill:none\" points=\"263.457,1486.45 263.457,47.2441 \"/>\n",
       "<polyline clip-path=\"url(#clip872)\" style=\"stroke:#000000; stroke-linecap:round; stroke-linejoin:round; stroke-width:2; stroke-opacity:0.1; fill:none\" points=\"700.722,1486.45 700.722,47.2441 \"/>\n",
       "<polyline clip-path=\"url(#clip872)\" style=\"stroke:#000000; stroke-linecap:round; stroke-linejoin:round; stroke-width:2; stroke-opacity:0.1; fill:none\" points=\"1137.99,1486.45 1137.99,47.2441 \"/>\n",
       "<polyline clip-path=\"url(#clip872)\" style=\"stroke:#000000; stroke-linecap:round; stroke-linejoin:round; stroke-width:2; stroke-opacity:0.1; fill:none\" points=\"1575.25,1486.45 1575.25,47.2441 \"/>\n",
       "<polyline clip-path=\"url(#clip872)\" style=\"stroke:#000000; stroke-linecap:round; stroke-linejoin:round; stroke-width:2; stroke-opacity:0.1; fill:none\" points=\"2012.52,1486.45 2012.52,47.2441 \"/>\n",
       "<polyline clip-path=\"url(#clip870)\" style=\"stroke:#000000; stroke-linecap:round; stroke-linejoin:round; stroke-width:4; stroke-opacity:1; fill:none\" points=\"141.853,1486.45 2352.76,1486.45 \"/>\n",
       "<polyline clip-path=\"url(#clip870)\" style=\"stroke:#000000; stroke-linecap:round; stroke-linejoin:round; stroke-width:4; stroke-opacity:1; fill:none\" points=\"263.457,1486.45 263.457,1467.55 \"/>\n",
       "<polyline clip-path=\"url(#clip870)\" style=\"stroke:#000000; stroke-linecap:round; stroke-linejoin:round; stroke-width:4; stroke-opacity:1; fill:none\" points=\"700.722,1486.45 700.722,1467.55 \"/>\n",
       "<polyline clip-path=\"url(#clip870)\" style=\"stroke:#000000; stroke-linecap:round; stroke-linejoin:round; stroke-width:4; stroke-opacity:1; fill:none\" points=\"1137.99,1486.45 1137.99,1467.55 \"/>\n",
       "<polyline clip-path=\"url(#clip870)\" style=\"stroke:#000000; stroke-linecap:round; stroke-linejoin:round; stroke-width:4; stroke-opacity:1; fill:none\" points=\"1575.25,1486.45 1575.25,1467.55 \"/>\n",
       "<polyline clip-path=\"url(#clip870)\" style=\"stroke:#000000; stroke-linecap:round; stroke-linejoin:round; stroke-width:4; stroke-opacity:1; fill:none\" points=\"2012.52,1486.45 2012.52,1467.55 \"/>\n",
       "<path clip-path=\"url(#clip870)\" d=\"M232.519 1532.02 L262.195 1532.02 L262.195 1535.95 L232.519 1535.95 L232.519 1532.02 Z\" fill=\"#000000\" fill-rule=\"nonzero\" fill-opacity=\"1\" /><path clip-path=\"url(#clip870)\" d=\"M282.866 1529.7 Q279.718 1529.7 277.866 1531.86 Q276.037 1534.01 276.037 1537.76 Q276.037 1541.49 277.866 1543.66 Q279.718 1545.82 282.866 1545.82 Q286.014 1545.82 287.843 1543.66 Q289.695 1541.49 289.695 1537.76 Q289.695 1534.01 287.843 1531.86 Q286.014 1529.7 282.866 1529.7 M292.149 1515.05 L292.149 1519.31 Q290.389 1518.48 288.584 1518.04 Q286.801 1517.6 285.042 1517.6 Q280.412 1517.6 277.959 1520.72 Q275.528 1523.85 275.181 1530.17 Q276.547 1528.15 278.607 1527.09 Q280.667 1526 283.144 1526 Q288.352 1526 291.361 1529.17 Q294.394 1532.32 294.394 1537.76 Q294.394 1543.08 291.246 1546.3 Q288.098 1549.52 282.866 1549.52 Q276.871 1549.52 273.7 1544.94 Q270.528 1540.33 270.528 1531.6 Q270.528 1523.41 274.417 1518.55 Q278.306 1513.66 284.857 1513.66 Q286.616 1513.66 288.399 1514.01 Q290.204 1514.36 292.149 1515.05 Z\" fill=\"#000000\" fill-rule=\"nonzero\" fill-opacity=\"1\" /><path clip-path=\"url(#clip870)\" d=\"M670.19 1532.02 L699.866 1532.02 L699.866 1535.95 L670.19 1535.95 L670.19 1532.02 Z\" fill=\"#000000\" fill-rule=\"nonzero\" fill-opacity=\"1\" /><path clip-path=\"url(#clip870)\" d=\"M724.125 1530.21 Q727.481 1530.93 729.356 1533.2 Q731.255 1535.47 731.255 1538.8 Q731.255 1543.92 727.736 1546.72 Q724.218 1549.52 717.736 1549.52 Q715.56 1549.52 713.245 1549.08 Q710.954 1548.66 708.5 1547.81 L708.5 1543.29 Q710.444 1544.43 712.759 1545.01 Q715.074 1545.58 717.597 1545.58 Q721.995 1545.58 724.287 1543.85 Q726.602 1542.11 726.602 1538.8 Q726.602 1535.75 724.449 1534.03 Q722.319 1532.3 718.5 1532.3 L714.472 1532.3 L714.472 1528.45 L718.685 1528.45 Q722.134 1528.45 723.963 1527.09 Q725.792 1525.7 725.792 1523.11 Q725.792 1520.45 723.893 1519.03 Q722.018 1517.6 718.5 1517.6 Q716.579 1517.6 714.38 1518.01 Q712.181 1518.43 709.542 1519.31 L709.542 1515.14 Q712.204 1514.4 714.518 1514.03 Q716.856 1513.66 718.917 1513.66 Q724.241 1513.66 727.342 1516.09 Q730.444 1518.5 730.444 1522.62 Q730.444 1525.49 728.801 1527.48 Q727.157 1529.45 724.125 1530.21 Z\" fill=\"#000000\" fill-rule=\"nonzero\" fill-opacity=\"1\" /><path clip-path=\"url(#clip870)\" d=\"M1137.99 1517.37 Q1134.38 1517.37 1132.55 1520.93 Q1130.74 1524.47 1130.74 1531.6 Q1130.74 1538.71 1132.55 1542.27 Q1134.38 1545.82 1137.99 1545.82 Q1141.62 1545.82 1143.43 1542.27 Q1145.26 1538.71 1145.26 1531.6 Q1145.26 1524.47 1143.43 1520.93 Q1141.62 1517.37 1137.99 1517.37 M1137.99 1513.66 Q1143.8 1513.66 1146.85 1518.27 Q1149.93 1522.85 1149.93 1531.6 Q1149.93 1540.33 1146.85 1544.94 Q1143.8 1549.52 1137.99 1549.52 Q1132.18 1549.52 1129.1 1544.94 Q1126.04 1540.33 1126.04 1531.6 Q1126.04 1522.85 1129.1 1518.27 Q1132.18 1513.66 1137.99 1513.66 Z\" fill=\"#000000\" fill-rule=\"nonzero\" fill-opacity=\"1\" /><path clip-path=\"url(#clip870)\" d=\"M1579.5 1530.21 Q1582.86 1530.93 1584.73 1533.2 Q1586.63 1535.47 1586.63 1538.8 Q1586.63 1543.92 1583.11 1546.72 Q1579.59 1549.52 1573.11 1549.52 Q1570.94 1549.52 1568.62 1549.08 Q1566.33 1548.66 1563.88 1547.81 L1563.88 1543.29 Q1565.82 1544.43 1568.14 1545.01 Q1570.45 1545.58 1572.97 1545.58 Q1577.37 1545.58 1579.66 1543.85 Q1581.98 1542.11 1581.98 1538.8 Q1581.98 1535.75 1579.83 1534.03 Q1577.7 1532.3 1573.88 1532.3 L1569.85 1532.3 L1569.85 1528.45 L1574.06 1528.45 Q1577.51 1528.45 1579.34 1527.09 Q1581.17 1525.7 1581.17 1523.11 Q1581.17 1520.45 1579.27 1519.03 Q1577.39 1517.6 1573.88 1517.6 Q1571.96 1517.6 1569.76 1518.01 Q1567.56 1518.43 1564.92 1519.31 L1564.92 1515.14 Q1567.58 1514.4 1569.89 1514.03 Q1572.23 1513.66 1574.29 1513.66 Q1579.62 1513.66 1582.72 1516.09 Q1585.82 1518.5 1585.82 1522.62 Q1585.82 1525.49 1584.18 1527.48 Q1582.53 1529.45 1579.5 1530.21 Z\" fill=\"#000000\" fill-rule=\"nonzero\" fill-opacity=\"1\" /><path clip-path=\"url(#clip870)\" d=\"M2012.92 1529.7 Q2009.78 1529.7 2007.92 1531.86 Q2006.1 1534.01 2006.1 1537.76 Q2006.1 1541.49 2007.92 1543.66 Q2009.78 1545.82 2012.92 1545.82 Q2016.07 1545.82 2017.9 1543.66 Q2019.75 1541.49 2019.75 1537.76 Q2019.75 1534.01 2017.9 1531.86 Q2016.07 1529.7 2012.92 1529.7 M2022.21 1515.05 L2022.21 1519.31 Q2020.45 1518.48 2018.64 1518.04 Q2016.86 1517.6 2015.1 1517.6 Q2010.47 1517.6 2008.02 1520.72 Q2005.59 1523.85 2005.24 1530.17 Q2006.61 1528.15 2008.67 1527.09 Q2010.73 1526 2013.2 1526 Q2018.41 1526 2021.42 1529.17 Q2024.45 1532.32 2024.45 1537.76 Q2024.45 1543.08 2021.3 1546.3 Q2018.16 1549.52 2012.92 1549.52 Q2006.93 1549.52 2003.76 1544.94 Q2000.59 1540.33 2000.59 1531.6 Q2000.59 1523.41 2004.48 1518.55 Q2008.36 1513.66 2014.92 1513.66 Q2016.67 1513.66 2018.46 1514.01 Q2020.26 1514.36 2022.21 1515.05 Z\" fill=\"#000000\" fill-rule=\"nonzero\" fill-opacity=\"1\" /><polyline clip-path=\"url(#clip872)\" style=\"stroke:#000000; stroke-linecap:round; stroke-linejoin:round; stroke-width:2; stroke-opacity:0.1; fill:none\" points=\"141.853,1486.45 2352.76,1486.45 \"/>\n",
       "<polyline clip-path=\"url(#clip872)\" style=\"stroke:#000000; stroke-linecap:round; stroke-linejoin:round; stroke-width:2; stroke-opacity:0.1; fill:none\" points=\"141.853,1195.7 2352.76,1195.7 \"/>\n",
       "<polyline clip-path=\"url(#clip872)\" style=\"stroke:#000000; stroke-linecap:round; stroke-linejoin:round; stroke-width:2; stroke-opacity:0.1; fill:none\" points=\"141.853,904.951 2352.76,904.951 \"/>\n",
       "<polyline clip-path=\"url(#clip872)\" style=\"stroke:#000000; stroke-linecap:round; stroke-linejoin:round; stroke-width:2; stroke-opacity:0.1; fill:none\" points=\"141.853,614.203 2352.76,614.203 \"/>\n",
       "<polyline clip-path=\"url(#clip872)\" style=\"stroke:#000000; stroke-linecap:round; stroke-linejoin:round; stroke-width:2; stroke-opacity:0.1; fill:none\" points=\"141.853,323.455 2352.76,323.455 \"/>\n",
       "<polyline clip-path=\"url(#clip870)\" style=\"stroke:#000000; stroke-linecap:round; stroke-linejoin:round; stroke-width:4; stroke-opacity:1; fill:none\" points=\"141.853,1486.45 141.853,47.2441 \"/>\n",
       "<polyline clip-path=\"url(#clip870)\" style=\"stroke:#000000; stroke-linecap:round; stroke-linejoin:round; stroke-width:4; stroke-opacity:1; fill:none\" points=\"141.853,1486.45 160.751,1486.45 \"/>\n",
       "<polyline clip-path=\"url(#clip870)\" style=\"stroke:#000000; stroke-linecap:round; stroke-linejoin:round; stroke-width:4; stroke-opacity:1; fill:none\" points=\"141.853,1195.7 160.751,1195.7 \"/>\n",
       "<polyline clip-path=\"url(#clip870)\" style=\"stroke:#000000; stroke-linecap:round; stroke-linejoin:round; stroke-width:4; stroke-opacity:1; fill:none\" points=\"141.853,904.951 160.751,904.951 \"/>\n",
       "<polyline clip-path=\"url(#clip870)\" style=\"stroke:#000000; stroke-linecap:round; stroke-linejoin:round; stroke-width:4; stroke-opacity:1; fill:none\" points=\"141.853,614.203 160.751,614.203 \"/>\n",
       "<polyline clip-path=\"url(#clip870)\" style=\"stroke:#000000; stroke-linecap:round; stroke-linejoin:round; stroke-width:4; stroke-opacity:1; fill:none\" points=\"141.853,323.455 160.751,323.455 \"/>\n",
       "<path clip-path=\"url(#clip870)\" d=\"M93.9086 1472.25 Q90.2975 1472.25 88.4688 1475.81 Q86.6632 1479.35 86.6632 1486.48 Q86.6632 1493.59 88.4688 1497.15 Q90.2975 1500.7 93.9086 1500.7 Q97.5428 1500.7 99.3483 1497.15 Q101.177 1493.59 101.177 1486.48 Q101.177 1479.35 99.3483 1475.81 Q97.5428 1472.25 93.9086 1472.25 M93.9086 1468.54 Q99.7187 1468.54 102.774 1473.15 Q105.853 1477.73 105.853 1486.48 Q105.853 1495.21 102.774 1499.82 Q99.7187 1504.4 93.9086 1504.4 Q88.0984 1504.4 85.0197 1499.82 Q81.9642 1495.21 81.9642 1486.48 Q81.9642 1477.73 85.0197 1473.15 Q88.0984 1468.54 93.9086 1468.54 Z\" fill=\"#000000\" fill-rule=\"nonzero\" fill-opacity=\"1\" /><path clip-path=\"url(#clip870)\" d=\"M57.7745 1209.04 L74.0939 1209.04 L74.0939 1212.98 L52.1495 1212.98 L52.1495 1209.04 Q54.8115 1206.29 59.3949 1201.66 Q64.0013 1197.01 65.1819 1195.66 Q67.4272 1193.14 68.3068 1191.41 Q69.2096 1189.65 69.2096 1187.96 Q69.2096 1185.2 67.2652 1183.47 Q65.3439 1181.73 62.2421 1181.73 Q60.043 1181.73 57.5893 1182.49 Q55.1588 1183.26 52.381 1184.81 L52.381 1180.09 Q55.2051 1178.95 57.6588 1178.37 Q60.1124 1177.79 62.1495 1177.79 Q67.5198 1177.79 70.7142 1180.48 Q73.9087 1183.16 73.9087 1187.66 Q73.9087 1189.79 73.0985 1191.71 Q72.3115 1193.6 70.205 1196.2 Q69.6263 1196.87 66.5245 1200.09 Q63.4226 1203.28 57.7745 1209.04 Z\" fill=\"#000000\" fill-rule=\"nonzero\" fill-opacity=\"1\" /><path clip-path=\"url(#clip870)\" d=\"M93.9086 1181.5 Q90.2975 1181.5 88.4688 1185.06 Q86.6632 1188.6 86.6632 1195.73 Q86.6632 1202.84 88.4688 1206.41 Q90.2975 1209.95 93.9086 1209.95 Q97.5428 1209.95 99.3483 1206.41 Q101.177 1202.84 101.177 1195.73 Q101.177 1188.6 99.3483 1185.06 Q97.5428 1181.5 93.9086 1181.5 M93.9086 1177.79 Q99.7187 1177.79 102.774 1182.4 Q105.853 1186.98 105.853 1195.73 Q105.853 1204.46 102.774 1209.07 Q99.7187 1213.65 93.9086 1213.65 Q88.0984 1213.65 85.0197 1209.07 Q81.9642 1204.46 81.9642 1195.73 Q81.9642 1186.98 85.0197 1182.4 Q88.0984 1177.79 93.9086 1177.79 Z\" fill=\"#000000\" fill-rule=\"nonzero\" fill-opacity=\"1\" /><path clip-path=\"url(#clip870)\" d=\"M66.5939 891.745 L54.7884 910.194 L66.5939 910.194 L66.5939 891.745 M65.367 887.671 L71.2466 887.671 L71.2466 910.194 L76.1772 910.194 L76.1772 914.083 L71.2466 914.083 L71.2466 922.231 L66.5939 922.231 L66.5939 914.083 L50.9921 914.083 L50.9921 909.569 L65.367 887.671 Z\" fill=\"#000000\" fill-rule=\"nonzero\" fill-opacity=\"1\" /><path clip-path=\"url(#clip870)\" d=\"M93.9086 890.75 Q90.2975 890.75 88.4688 894.315 Q86.6632 897.857 86.6632 904.986 Q86.6632 912.093 88.4688 915.657 Q90.2975 919.199 93.9086 919.199 Q97.5428 919.199 99.3483 915.657 Q101.177 912.093 101.177 904.986 Q101.177 897.857 99.3483 894.315 Q97.5428 890.75 93.9086 890.75 M93.9086 887.046 Q99.7187 887.046 102.774 891.653 Q105.853 896.236 105.853 904.986 Q105.853 913.713 102.774 918.319 Q99.7187 922.903 93.9086 922.903 Q88.0984 922.903 85.0197 918.319 Q81.9642 913.713 81.9642 904.986 Q81.9642 896.236 85.0197 891.653 Q88.0984 887.046 93.9086 887.046 Z\" fill=\"#000000\" fill-rule=\"nonzero\" fill-opacity=\"1\" /><path clip-path=\"url(#clip870)\" d=\"M64.3254 612.34 Q61.1773 612.34 59.3254 614.493 Q57.4967 616.645 57.4967 620.395 Q57.4967 624.122 59.3254 626.298 Q61.1773 628.451 64.3254 628.451 Q67.4735 628.451 69.3022 626.298 Q71.1541 624.122 71.1541 620.395 Q71.1541 616.645 69.3022 614.493 Q67.4735 612.34 64.3254 612.34 M73.6077 597.687 L73.6077 601.946 Q71.8485 601.113 70.0429 600.673 Q68.2606 600.233 66.5013 600.233 Q61.8717 600.233 59.418 603.358 Q56.9875 606.483 56.6402 612.803 Q58.006 610.789 60.0662 609.724 Q62.1263 608.636 64.6032 608.636 Q69.8115 608.636 72.8207 611.807 Q75.8531 614.955 75.8531 620.395 Q75.8531 625.719 72.705 628.937 Q69.5568 632.154 64.3254 632.154 Q58.33 632.154 55.1588 627.571 Q51.9875 622.965 51.9875 614.238 Q51.9875 606.043 55.8764 601.182 Q59.7652 596.298 66.3161 596.298 Q68.0754 596.298 69.8578 596.645 Q71.6633 596.993 73.6077 597.687 Z\" fill=\"#000000\" fill-rule=\"nonzero\" fill-opacity=\"1\" /><path clip-path=\"url(#clip870)\" d=\"M93.9086 600.002 Q90.2975 600.002 88.4688 603.567 Q86.6632 607.108 86.6632 614.238 Q86.6632 621.344 88.4688 624.909 Q90.2975 628.451 93.9086 628.451 Q97.5428 628.451 99.3483 624.909 Q101.177 621.344 101.177 614.238 Q101.177 607.108 99.3483 603.567 Q97.5428 600.002 93.9086 600.002 M93.9086 596.298 Q99.7187 596.298 102.774 600.905 Q105.853 605.488 105.853 614.238 Q105.853 622.965 102.774 627.571 Q99.7187 632.154 93.9086 632.154 Q88.0984 632.154 85.0197 627.571 Q81.9642 622.965 81.9642 614.238 Q81.9642 605.488 85.0197 600.905 Q88.0984 596.298 93.9086 596.298 Z\" fill=\"#000000\" fill-rule=\"nonzero\" fill-opacity=\"1\" /><path clip-path=\"url(#clip870)\" d=\"M63.7467 324.323 Q60.4134 324.323 58.4921 326.105 Q56.5939 327.888 56.5939 331.013 Q56.5939 334.138 58.4921 335.92 Q60.4134 337.703 63.7467 337.703 Q67.08 337.703 69.0013 335.92 Q70.9226 334.115 70.9226 331.013 Q70.9226 327.888 69.0013 326.105 Q67.1032 324.323 63.7467 324.323 M59.0708 322.332 Q56.0615 321.592 54.3717 319.531 Q52.7051 317.471 52.7051 314.508 Q52.7051 310.365 55.6449 307.957 Q58.6078 305.55 63.7467 305.55 Q68.9087 305.55 71.8485 307.957 Q74.7883 310.365 74.7883 314.508 Q74.7883 317.471 73.0985 319.531 Q71.4318 321.592 68.4457 322.332 Q71.8253 323.119 73.7003 325.411 Q75.5985 327.703 75.5985 331.013 Q75.5985 336.036 72.5198 338.721 Q69.4642 341.406 63.7467 341.406 Q58.0291 341.406 54.9504 338.721 Q51.8949 336.036 51.8949 331.013 Q51.8949 327.703 53.793 325.411 Q55.6912 323.119 59.0708 322.332 M57.3578 314.948 Q57.3578 317.633 59.0245 319.138 Q60.7143 320.642 63.7467 320.642 Q66.7559 320.642 68.4457 319.138 Q70.1587 317.633 70.1587 314.948 Q70.1587 312.263 68.4457 310.758 Q66.7559 309.254 63.7467 309.254 Q60.7143 309.254 59.0245 310.758 Q57.3578 312.263 57.3578 314.948 Z\" fill=\"#000000\" fill-rule=\"nonzero\" fill-opacity=\"1\" /><path clip-path=\"url(#clip870)\" d=\"M93.9086 309.254 Q90.2975 309.254 88.4688 312.818 Q86.6632 316.36 86.6632 323.49 Q86.6632 330.596 88.4688 334.161 Q90.2975 337.703 93.9086 337.703 Q97.5428 337.703 99.3483 334.161 Q101.177 330.596 101.177 323.49 Q101.177 316.36 99.3483 312.818 Q97.5428 309.254 93.9086 309.254 M93.9086 305.55 Q99.7187 305.55 102.774 310.156 Q105.853 314.74 105.853 323.49 Q105.853 332.216 102.774 336.823 Q99.7187 341.406 93.9086 341.406 Q88.0984 341.406 85.0197 336.823 Q81.9642 332.216 81.9642 323.49 Q81.9642 314.74 85.0197 310.156 Q88.0984 305.55 93.9086 305.55 Z\" fill=\"#000000\" fill-rule=\"nonzero\" fill-opacity=\"1\" /><path clip-path=\"url(#clip872)\" d=\"M263.457 1471.91 L263.457 1486.45 L336.334 1486.45 L336.334 1471.91 L263.457 1471.91 L263.457 1471.91  Z\" fill=\"#009af9\" fill-rule=\"evenodd\" fill-opacity=\"1\"/>\n",
       "<polyline clip-path=\"url(#clip872)\" style=\"stroke:#000000; stroke-linecap:round; stroke-linejoin:round; stroke-width:4; stroke-opacity:1; fill:none\" points=\"263.457,1471.91 263.457,1486.45 336.334,1486.45 336.334,1471.91 263.457,1471.91 \"/>\n",
       "<path clip-path=\"url(#clip872)\" d=\"M336.334 1486.45 L336.334 1486.45 L409.212 1486.45 L409.212 1486.45 L336.334 1486.45 L336.334 1486.45  Z\" fill=\"#009af9\" fill-rule=\"evenodd\" fill-opacity=\"1\"/>\n",
       "<polyline clip-path=\"url(#clip872)\" style=\"stroke:#000000; stroke-linecap:round; stroke-linejoin:round; stroke-width:4; stroke-opacity:1; fill:none\" points=\"336.334,1486.45 336.334,1486.45 409.212,1486.45 336.334,1486.45 \"/>\n",
       "<path clip-path=\"url(#clip872)\" d=\"M409.212 1471.91 L409.212 1486.45 L482.089 1486.45 L482.089 1471.91 L409.212 1471.91 L409.212 1471.91  Z\" fill=\"#009af9\" fill-rule=\"evenodd\" fill-opacity=\"1\"/>\n",
       "<polyline clip-path=\"url(#clip872)\" style=\"stroke:#000000; stroke-linecap:round; stroke-linejoin:round; stroke-width:4; stroke-opacity:1; fill:none\" points=\"409.212,1471.91 409.212,1486.45 482.089,1486.45 482.089,1471.91 409.212,1471.91 \"/>\n",
       "<path clip-path=\"url(#clip872)\" d=\"M482.089 1471.91 L482.089 1486.45 L554.967 1486.45 L554.967 1471.91 L482.089 1471.91 L482.089 1471.91  Z\" fill=\"#009af9\" fill-rule=\"evenodd\" fill-opacity=\"1\"/>\n",
       "<polyline clip-path=\"url(#clip872)\" style=\"stroke:#000000; stroke-linecap:round; stroke-linejoin:round; stroke-width:4; stroke-opacity:1; fill:none\" points=\"482.089,1471.91 482.089,1486.45 554.967,1486.45 554.967,1471.91 482.089,1471.91 \"/>\n",
       "<path clip-path=\"url(#clip872)\" d=\"M554.967 1442.84 L554.967 1486.45 L627.845 1486.45 L627.845 1442.84 L554.967 1442.84 L554.967 1442.84  Z\" fill=\"#009af9\" fill-rule=\"evenodd\" fill-opacity=\"1\"/>\n",
       "<polyline clip-path=\"url(#clip872)\" style=\"stroke:#000000; stroke-linecap:round; stroke-linejoin:round; stroke-width:4; stroke-opacity:1; fill:none\" points=\"554.967,1442.84 554.967,1486.45 627.845,1486.45 627.845,1442.84 554.967,1442.84 \"/>\n",
       "<path clip-path=\"url(#clip872)\" d=\"M627.845 1399.22 L627.845 1486.45 L700.722 1486.45 L700.722 1399.22 L627.845 1399.22 L627.845 1399.22  Z\" fill=\"#009af9\" fill-rule=\"evenodd\" fill-opacity=\"1\"/>\n",
       "<polyline clip-path=\"url(#clip872)\" style=\"stroke:#000000; stroke-linecap:round; stroke-linejoin:round; stroke-width:4; stroke-opacity:1; fill:none\" points=\"627.845,1399.22 627.845,1486.45 700.722,1486.45 700.722,1399.22 627.845,1399.22 \"/>\n",
       "<path clip-path=\"url(#clip872)\" d=\"M700.722 1370.15 L700.722 1486.45 L773.6 1486.45 L773.6 1370.15 L700.722 1370.15 L700.722 1370.15  Z\" fill=\"#009af9\" fill-rule=\"evenodd\" fill-opacity=\"1\"/>\n",
       "<polyline clip-path=\"url(#clip872)\" style=\"stroke:#000000; stroke-linecap:round; stroke-linejoin:round; stroke-width:4; stroke-opacity:1; fill:none\" points=\"700.722,1370.15 700.722,1486.45 773.6,1486.45 773.6,1370.15 700.722,1370.15 \"/>\n",
       "<path clip-path=\"url(#clip872)\" d=\"M773.6 1326.54 L773.6 1486.45 L846.478 1486.45 L846.478 1326.54 L773.6 1326.54 L773.6 1326.54  Z\" fill=\"#009af9\" fill-rule=\"evenodd\" fill-opacity=\"1\"/>\n",
       "<polyline clip-path=\"url(#clip872)\" style=\"stroke:#000000; stroke-linecap:round; stroke-linejoin:round; stroke-width:4; stroke-opacity:1; fill:none\" points=\"773.6,1326.54 773.6,1486.45 846.478,1486.45 846.478,1326.54 773.6,1326.54 \"/>\n",
       "<path clip-path=\"url(#clip872)\" d=\"M846.478 1152.09 L846.478 1486.45 L919.355 1486.45 L919.355 1152.09 L846.478 1152.09 L846.478 1152.09  Z\" fill=\"#009af9\" fill-rule=\"evenodd\" fill-opacity=\"1\"/>\n",
       "<polyline clip-path=\"url(#clip872)\" style=\"stroke:#000000; stroke-linecap:round; stroke-linejoin:round; stroke-width:4; stroke-opacity:1; fill:none\" points=\"846.478,1152.09 846.478,1486.45 919.355,1486.45 919.355,1152.09 846.478,1152.09 \"/>\n",
       "<path clip-path=\"url(#clip872)\" d=\"M919.355 992.176 L919.355 1486.45 L992.233 1486.45 L992.233 992.176 L919.355 992.176 L919.355 992.176  Z\" fill=\"#009af9\" fill-rule=\"evenodd\" fill-opacity=\"1\"/>\n",
       "<polyline clip-path=\"url(#clip872)\" style=\"stroke:#000000; stroke-linecap:round; stroke-linejoin:round; stroke-width:4; stroke-opacity:1; fill:none\" points=\"919.355,992.176 919.355,1486.45 992.233,1486.45 992.233,992.176 919.355,992.176 \"/>\n",
       "<path clip-path=\"url(#clip872)\" d=\"M992.233 556.054 L992.233 1486.45 L1065.11 1486.45 L1065.11 556.054 L992.233 556.054 L992.233 556.054  Z\" fill=\"#009af9\" fill-rule=\"evenodd\" fill-opacity=\"1\"/>\n",
       "<polyline clip-path=\"url(#clip872)\" style=\"stroke:#000000; stroke-linecap:round; stroke-linejoin:round; stroke-width:4; stroke-opacity:1; fill:none\" points=\"992.233,556.054 992.233,1486.45 1065.11,1486.45 1065.11,556.054 992.233,556.054 \"/>\n",
       "<path clip-path=\"url(#clip872)\" d=\"M1065.11 163.543 L1065.11 1486.45 L1137.99 1486.45 L1137.99 163.543 L1065.11 163.543 L1065.11 163.543  Z\" fill=\"#009af9\" fill-rule=\"evenodd\" fill-opacity=\"1\"/>\n",
       "<polyline clip-path=\"url(#clip872)\" style=\"stroke:#000000; stroke-linecap:round; stroke-linejoin:round; stroke-width:4; stroke-opacity:1; fill:none\" points=\"1065.11,163.543 1065.11,1486.45 1137.99,1486.45 1137.99,163.543 1065.11,163.543 \"/>\n",
       "<path clip-path=\"url(#clip872)\" d=\"M1137.99 47.2441 L1137.99 1486.45 L1210.87 1486.45 L1210.87 47.2441 L1137.99 47.2441 L1137.99 47.2441  Z\" fill=\"#009af9\" fill-rule=\"evenodd\" fill-opacity=\"1\"/>\n",
       "<polyline clip-path=\"url(#clip872)\" style=\"stroke:#000000; stroke-linecap:round; stroke-linejoin:round; stroke-width:4; stroke-opacity:1; fill:none\" points=\"1137.99,47.2441 1137.99,1486.45 1210.87,1486.45 1210.87,47.2441 1137.99,47.2441 \"/>\n",
       "<path clip-path=\"url(#clip872)\" d=\"M1210.87 643.278 L1210.87 1486.45 L1283.74 1486.45 L1283.74 643.278 L1210.87 643.278 L1210.87 643.278  Z\" fill=\"#009af9\" fill-rule=\"evenodd\" fill-opacity=\"1\"/>\n",
       "<polyline clip-path=\"url(#clip872)\" style=\"stroke:#000000; stroke-linecap:round; stroke-linejoin:round; stroke-width:4; stroke-opacity:1; fill:none\" points=\"1210.87,643.278 1210.87,1486.45 1283.74,1486.45 1283.74,643.278 1210.87,643.278 \"/>\n",
       "<path clip-path=\"url(#clip872)\" d=\"M1283.74 875.877 L1283.74 1486.45 L1356.62 1486.45 L1356.62 875.877 L1283.74 875.877 L1283.74 875.877  Z\" fill=\"#009af9\" fill-rule=\"evenodd\" fill-opacity=\"1\"/>\n",
       "<polyline clip-path=\"url(#clip872)\" style=\"stroke:#000000; stroke-linecap:round; stroke-linejoin:round; stroke-width:4; stroke-opacity:1; fill:none\" points=\"1283.74,875.877 1283.74,1486.45 1356.62,1486.45 1356.62,875.877 1283.74,875.877 \"/>\n",
       "<path clip-path=\"url(#clip872)\" d=\"M1356.62 1123.01 L1356.62 1486.45 L1429.5 1486.45 L1429.5 1123.01 L1356.62 1123.01 L1356.62 1123.01  Z\" fill=\"#009af9\" fill-rule=\"evenodd\" fill-opacity=\"1\"/>\n",
       "<polyline clip-path=\"url(#clip872)\" style=\"stroke:#000000; stroke-linecap:round; stroke-linejoin:round; stroke-width:4; stroke-opacity:1; fill:none\" points=\"1356.62,1123.01 1356.62,1486.45 1429.5,1486.45 1429.5,1123.01 1356.62,1123.01 \"/>\n",
       "<path clip-path=\"url(#clip872)\" d=\"M1429.5 1312 L1429.5 1486.45 L1502.38 1486.45 L1502.38 1312 L1429.5 1312 L1429.5 1312  Z\" fill=\"#009af9\" fill-rule=\"evenodd\" fill-opacity=\"1\"/>\n",
       "<polyline clip-path=\"url(#clip872)\" style=\"stroke:#000000; stroke-linecap:round; stroke-linejoin:round; stroke-width:4; stroke-opacity:1; fill:none\" points=\"1429.5,1312 1429.5,1486.45 1502.38,1486.45 1502.38,1312 1429.5,1312 \"/>\n",
       "<path clip-path=\"url(#clip872)\" d=\"M1502.38 1355.61 L1502.38 1486.45 L1575.25 1486.45 L1575.25 1355.61 L1502.38 1355.61 L1502.38 1355.61  Z\" fill=\"#009af9\" fill-rule=\"evenodd\" fill-opacity=\"1\"/>\n",
       "<polyline clip-path=\"url(#clip872)\" style=\"stroke:#000000; stroke-linecap:round; stroke-linejoin:round; stroke-width:4; stroke-opacity:1; fill:none\" points=\"1502.38,1355.61 1502.38,1486.45 1575.25,1486.45 1575.25,1355.61 1502.38,1355.61 \"/>\n",
       "<path clip-path=\"url(#clip872)\" d=\"M1575.25 1442.84 L1575.25 1486.45 L1648.13 1486.45 L1648.13 1442.84 L1575.25 1442.84 L1575.25 1442.84  Z\" fill=\"#009af9\" fill-rule=\"evenodd\" fill-opacity=\"1\"/>\n",
       "<polyline clip-path=\"url(#clip872)\" style=\"stroke:#000000; stroke-linecap:round; stroke-linejoin:round; stroke-width:4; stroke-opacity:1; fill:none\" points=\"1575.25,1442.84 1575.25,1486.45 1648.13,1486.45 1648.13,1442.84 1575.25,1442.84 \"/>\n",
       "<path clip-path=\"url(#clip872)\" d=\"M1648.13 1457.37 L1648.13 1486.45 L1721.01 1486.45 L1721.01 1457.37 L1648.13 1457.37 L1648.13 1457.37  Z\" fill=\"#009af9\" fill-rule=\"evenodd\" fill-opacity=\"1\"/>\n",
       "<polyline clip-path=\"url(#clip872)\" style=\"stroke:#000000; stroke-linecap:round; stroke-linejoin:round; stroke-width:4; stroke-opacity:1; fill:none\" points=\"1648.13,1457.37 1648.13,1486.45 1721.01,1486.45 1721.01,1457.37 1648.13,1457.37 \"/>\n",
       "<path clip-path=\"url(#clip872)\" d=\"M1721.01 1471.91 L1721.01 1486.45 L1793.89 1486.45 L1793.89 1471.91 L1721.01 1471.91 L1721.01 1471.91  Z\" fill=\"#009af9\" fill-rule=\"evenodd\" fill-opacity=\"1\"/>\n",
       "<polyline clip-path=\"url(#clip872)\" style=\"stroke:#000000; stroke-linecap:round; stroke-linejoin:round; stroke-width:4; stroke-opacity:1; fill:none\" points=\"1721.01,1471.91 1721.01,1486.45 1793.89,1486.45 1793.89,1471.91 1721.01,1471.91 \"/>\n",
       "<path clip-path=\"url(#clip872)\" d=\"M1793.89 1457.37 L1793.89 1486.45 L1866.76 1486.45 L1866.76 1457.37 L1793.89 1457.37 L1793.89 1457.37  Z\" fill=\"#009af9\" fill-rule=\"evenodd\" fill-opacity=\"1\"/>\n",
       "<polyline clip-path=\"url(#clip872)\" style=\"stroke:#000000; stroke-linecap:round; stroke-linejoin:round; stroke-width:4; stroke-opacity:1; fill:none\" points=\"1793.89,1457.37 1793.89,1486.45 1866.76,1486.45 1866.76,1457.37 1793.89,1457.37 \"/>\n",
       "<path clip-path=\"url(#clip872)\" d=\"M1866.76 1471.91 L1866.76 1486.45 L1939.64 1486.45 L1939.64 1471.91 L1866.76 1471.91 L1866.76 1471.91  Z\" fill=\"#009af9\" fill-rule=\"evenodd\" fill-opacity=\"1\"/>\n",
       "<polyline clip-path=\"url(#clip872)\" style=\"stroke:#000000; stroke-linecap:round; stroke-linejoin:round; stroke-width:4; stroke-opacity:1; fill:none\" points=\"1866.76,1471.91 1866.76,1486.45 1939.64,1486.45 1939.64,1471.91 1866.76,1471.91 \"/>\n",
       "<path clip-path=\"url(#clip872)\" d=\"M1939.64 1471.91 L1939.64 1486.45 L2012.52 1486.45 L2012.52 1471.91 L1939.64 1471.91 L1939.64 1471.91  Z\" fill=\"#009af9\" fill-rule=\"evenodd\" fill-opacity=\"1\"/>\n",
       "<polyline clip-path=\"url(#clip872)\" style=\"stroke:#000000; stroke-linecap:round; stroke-linejoin:round; stroke-width:4; stroke-opacity:1; fill:none\" points=\"1939.64,1471.91 1939.64,1486.45 2012.52,1486.45 2012.52,1471.91 1939.64,1471.91 \"/>\n",
       "<path clip-path=\"url(#clip872)\" d=\"M2012.52 1486.45 L2012.52 1486.45 L2085.4 1486.45 L2085.4 1486.45 L2012.52 1486.45 L2012.52 1486.45  Z\" fill=\"#009af9\" fill-rule=\"evenodd\" fill-opacity=\"1\"/>\n",
       "<polyline clip-path=\"url(#clip872)\" style=\"stroke:#000000; stroke-linecap:round; stroke-linejoin:round; stroke-width:4; stroke-opacity:1; fill:none\" points=\"2012.52,1486.45 2012.52,1486.45 2085.4,1486.45 2012.52,1486.45 \"/>\n",
       "<path clip-path=\"url(#clip872)\" d=\"M2085.4 1486.45 L2085.4 1486.45 L2158.27 1486.45 L2158.27 1486.45 L2085.4 1486.45 L2085.4 1486.45  Z\" fill=\"#009af9\" fill-rule=\"evenodd\" fill-opacity=\"1\"/>\n",
       "<polyline clip-path=\"url(#clip872)\" style=\"stroke:#000000; stroke-linecap:round; stroke-linejoin:round; stroke-width:4; stroke-opacity:1; fill:none\" points=\"2085.4,1486.45 2085.4,1486.45 2158.27,1486.45 2085.4,1486.45 \"/>\n",
       "<path clip-path=\"url(#clip872)\" d=\"M2158.27 1457.37 L2158.27 1486.45 L2231.15 1486.45 L2231.15 1457.37 L2158.27 1457.37 L2158.27 1457.37  Z\" fill=\"#009af9\" fill-rule=\"evenodd\" fill-opacity=\"1\"/>\n",
       "<polyline clip-path=\"url(#clip872)\" style=\"stroke:#000000; stroke-linecap:round; stroke-linejoin:round; stroke-width:4; stroke-opacity:1; fill:none\" points=\"2158.27,1457.37 2158.27,1486.45 2231.15,1486.45 2231.15,1457.37 2158.27,1457.37 \"/>\n",
       "<circle clip-path=\"url(#clip872)\" style=\"fill:#009af9; stroke:none; fill-opacity:0\" cx=\"299.895\" cy=\"1471.91\" r=\"2\"/>\n",
       "<circle clip-path=\"url(#clip872)\" style=\"fill:#009af9; stroke:none; fill-opacity:0\" cx=\"372.773\" cy=\"1486.45\" r=\"2\"/>\n",
       "<circle clip-path=\"url(#clip872)\" style=\"fill:#009af9; stroke:none; fill-opacity:0\" cx=\"445.651\" cy=\"1471.91\" r=\"2\"/>\n",
       "<circle clip-path=\"url(#clip872)\" style=\"fill:#009af9; stroke:none; fill-opacity:0\" cx=\"518.528\" cy=\"1471.91\" r=\"2\"/>\n",
       "<circle clip-path=\"url(#clip872)\" style=\"fill:#009af9; stroke:none; fill-opacity:0\" cx=\"591.406\" cy=\"1442.84\" r=\"2\"/>\n",
       "<circle clip-path=\"url(#clip872)\" style=\"fill:#009af9; stroke:none; fill-opacity:0\" cx=\"664.283\" cy=\"1399.22\" r=\"2\"/>\n",
       "<circle clip-path=\"url(#clip872)\" style=\"fill:#009af9; stroke:none; fill-opacity:0\" cx=\"737.161\" cy=\"1370.15\" r=\"2\"/>\n",
       "<circle clip-path=\"url(#clip872)\" style=\"fill:#009af9; stroke:none; fill-opacity:0\" cx=\"810.039\" cy=\"1326.54\" r=\"2\"/>\n",
       "<circle clip-path=\"url(#clip872)\" style=\"fill:#009af9; stroke:none; fill-opacity:0\" cx=\"882.916\" cy=\"1152.09\" r=\"2\"/>\n",
       "<circle clip-path=\"url(#clip872)\" style=\"fill:#009af9; stroke:none; fill-opacity:0\" cx=\"955.794\" cy=\"992.176\" r=\"2\"/>\n",
       "<circle clip-path=\"url(#clip872)\" style=\"fill:#009af9; stroke:none; fill-opacity:0\" cx=\"1028.67\" cy=\"556.054\" r=\"2\"/>\n",
       "<circle clip-path=\"url(#clip872)\" style=\"fill:#009af9; stroke:none; fill-opacity:0\" cx=\"1101.55\" cy=\"163.543\" r=\"2\"/>\n",
       "<circle clip-path=\"url(#clip872)\" style=\"fill:#009af9; stroke:none; fill-opacity:0\" cx=\"1174.43\" cy=\"47.2441\" r=\"2\"/>\n",
       "<circle clip-path=\"url(#clip872)\" style=\"fill:#009af9; stroke:none; fill-opacity:0\" cx=\"1247.3\" cy=\"643.278\" r=\"2\"/>\n",
       "<circle clip-path=\"url(#clip872)\" style=\"fill:#009af9; stroke:none; fill-opacity:0\" cx=\"1320.18\" cy=\"875.877\" r=\"2\"/>\n",
       "<circle clip-path=\"url(#clip872)\" style=\"fill:#009af9; stroke:none; fill-opacity:0\" cx=\"1393.06\" cy=\"1123.01\" r=\"2\"/>\n",
       "<circle clip-path=\"url(#clip872)\" style=\"fill:#009af9; stroke:none; fill-opacity:0\" cx=\"1465.94\" cy=\"1312\" r=\"2\"/>\n",
       "<circle clip-path=\"url(#clip872)\" style=\"fill:#009af9; stroke:none; fill-opacity:0\" cx=\"1538.81\" cy=\"1355.61\" r=\"2\"/>\n",
       "<circle clip-path=\"url(#clip872)\" style=\"fill:#009af9; stroke:none; fill-opacity:0\" cx=\"1611.69\" cy=\"1442.84\" r=\"2\"/>\n",
       "<circle clip-path=\"url(#clip872)\" style=\"fill:#009af9; stroke:none; fill-opacity:0\" cx=\"1684.57\" cy=\"1457.37\" r=\"2\"/>\n",
       "<circle clip-path=\"url(#clip872)\" style=\"fill:#009af9; stroke:none; fill-opacity:0\" cx=\"1757.45\" cy=\"1471.91\" r=\"2\"/>\n",
       "<circle clip-path=\"url(#clip872)\" style=\"fill:#009af9; stroke:none; fill-opacity:0\" cx=\"1830.33\" cy=\"1457.37\" r=\"2\"/>\n",
       "<circle clip-path=\"url(#clip872)\" style=\"fill:#009af9; stroke:none; fill-opacity:0\" cx=\"1903.2\" cy=\"1471.91\" r=\"2\"/>\n",
       "<circle clip-path=\"url(#clip872)\" style=\"fill:#009af9; stroke:none; fill-opacity:0\" cx=\"1976.08\" cy=\"1471.91\" r=\"2\"/>\n",
       "<circle clip-path=\"url(#clip872)\" style=\"fill:#009af9; stroke:none; fill-opacity:0\" cx=\"2048.96\" cy=\"1486.45\" r=\"2\"/>\n",
       "<circle clip-path=\"url(#clip872)\" style=\"fill:#009af9; stroke:none; fill-opacity:0\" cx=\"2121.84\" cy=\"1486.45\" r=\"2\"/>\n",
       "<circle clip-path=\"url(#clip872)\" style=\"fill:#009af9; stroke:none; fill-opacity:0\" cx=\"2194.71\" cy=\"1457.37\" r=\"2\"/>\n",
       "<path clip-path=\"url(#clip870)\" d=\"M2005.54 198.898 L2279.06 198.898 L2279.06 95.2176 L2005.54 95.2176  Z\" fill=\"#ffffff\" fill-rule=\"evenodd\" fill-opacity=\"1\"/>\n",
       "<polyline clip-path=\"url(#clip870)\" style=\"stroke:#000000; stroke-linecap:round; stroke-linejoin:round; stroke-width:4; stroke-opacity:1; fill:none\" points=\"2005.54,198.898 2279.06,198.898 2279.06,95.2176 2005.54,95.2176 2005.54,198.898 \"/>\n",
       "<path clip-path=\"url(#clip870)\" d=\"M2030.1 167.794 L2177.5 167.794 L2177.5 126.322 L2030.1 126.322 L2030.1 167.794  Z\" fill=\"#009af9\" fill-rule=\"evenodd\" fill-opacity=\"1\"/>\n",
       "<polyline clip-path=\"url(#clip870)\" style=\"stroke:#000000; stroke-linecap:round; stroke-linejoin:round; stroke-width:4; stroke-opacity:1; fill:none\" points=\"2030.1,167.794 2177.5,167.794 2177.5,126.322 2030.1,126.322 2030.1,167.794 \"/>\n",
       "<path clip-path=\"url(#clip870)\" d=\"M2215.91 166.745 Q2214.1 171.375 2212.39 172.787 Q2210.67 174.199 2207.8 174.199 L2204.4 174.199 L2204.4 170.634 L2206.9 170.634 Q2208.66 170.634 2209.63 169.8 Q2210.6 168.967 2211.79 165.865 L2212.55 163.921 L2202.06 138.412 L2206.58 138.412 L2214.68 158.689 L2222.78 138.412 L2227.29 138.412 L2215.91 166.745 Z\" fill=\"#000000\" fill-rule=\"nonzero\" fill-opacity=\"1\" /><path clip-path=\"url(#clip870)\" d=\"M2234.59 160.402 L2242.23 160.402 L2242.23 134.037 L2233.91 135.703 L2233.91 131.444 L2242.18 129.778 L2246.85 129.778 L2246.85 160.402 L2254.49 160.402 L2254.49 164.338 L2234.59 164.338 L2234.59 160.402 Z\" fill=\"#000000\" fill-rule=\"nonzero\" fill-opacity=\"1\" /></svg>\n"
      ],
      "text/html": [
       "<?xml version=\"1.0\" encoding=\"utf-8\"?>\n",
       "<svg xmlns=\"http://www.w3.org/2000/svg\" xmlns:xlink=\"http://www.w3.org/1999/xlink\" width=\"600\" height=\"400\" viewBox=\"0 0 2400 1600\">\n",
       "<defs>\n",
       "  <clipPath id=\"clip920\">\n",
       "    <rect x=\"0\" y=\"0\" width=\"2400\" height=\"1600\"/>\n",
       "  </clipPath>\n",
       "</defs>\n",
       "<path clip-path=\"url(#clip920)\" d=\"M0 1600 L2400 1600 L2400 0 L0 0  Z\" fill=\"#ffffff\" fill-rule=\"evenodd\" fill-opacity=\"1\"/>\n",
       "<defs>\n",
       "  <clipPath id=\"clip921\">\n",
       "    <rect x=\"480\" y=\"0\" width=\"1681\" height=\"1600\"/>\n",
       "  </clipPath>\n",
       "</defs>\n",
       "<path clip-path=\"url(#clip920)\" d=\"M141.853 1486.45 L2352.76 1486.45 L2352.76 47.2441 L141.853 47.2441  Z\" fill=\"#ffffff\" fill-rule=\"evenodd\" fill-opacity=\"1\"/>\n",
       "<defs>\n",
       "  <clipPath id=\"clip922\">\n",
       "    <rect x=\"141\" y=\"47\" width=\"2212\" height=\"1440\"/>\n",
       "  </clipPath>\n",
       "</defs>\n",
       "<polyline clip-path=\"url(#clip922)\" style=\"stroke:#000000; stroke-linecap:round; stroke-linejoin:round; stroke-width:2; stroke-opacity:0.1; fill:none\" points=\"263.457,1486.45 263.457,47.2441 \"/>\n",
       "<polyline clip-path=\"url(#clip922)\" style=\"stroke:#000000; stroke-linecap:round; stroke-linejoin:round; stroke-width:2; stroke-opacity:0.1; fill:none\" points=\"700.722,1486.45 700.722,47.2441 \"/>\n",
       "<polyline clip-path=\"url(#clip922)\" style=\"stroke:#000000; stroke-linecap:round; stroke-linejoin:round; stroke-width:2; stroke-opacity:0.1; fill:none\" points=\"1137.99,1486.45 1137.99,47.2441 \"/>\n",
       "<polyline clip-path=\"url(#clip922)\" style=\"stroke:#000000; stroke-linecap:round; stroke-linejoin:round; stroke-width:2; stroke-opacity:0.1; fill:none\" points=\"1575.25,1486.45 1575.25,47.2441 \"/>\n",
       "<polyline clip-path=\"url(#clip922)\" style=\"stroke:#000000; stroke-linecap:round; stroke-linejoin:round; stroke-width:2; stroke-opacity:0.1; fill:none\" points=\"2012.52,1486.45 2012.52,47.2441 \"/>\n",
       "<polyline clip-path=\"url(#clip920)\" style=\"stroke:#000000; stroke-linecap:round; stroke-linejoin:round; stroke-width:4; stroke-opacity:1; fill:none\" points=\"141.853,1486.45 2352.76,1486.45 \"/>\n",
       "<polyline clip-path=\"url(#clip920)\" style=\"stroke:#000000; stroke-linecap:round; stroke-linejoin:round; stroke-width:4; stroke-opacity:1; fill:none\" points=\"263.457,1486.45 263.457,1467.55 \"/>\n",
       "<polyline clip-path=\"url(#clip920)\" style=\"stroke:#000000; stroke-linecap:round; stroke-linejoin:round; stroke-width:4; stroke-opacity:1; fill:none\" points=\"700.722,1486.45 700.722,1467.55 \"/>\n",
       "<polyline clip-path=\"url(#clip920)\" style=\"stroke:#000000; stroke-linecap:round; stroke-linejoin:round; stroke-width:4; stroke-opacity:1; fill:none\" points=\"1137.99,1486.45 1137.99,1467.55 \"/>\n",
       "<polyline clip-path=\"url(#clip920)\" style=\"stroke:#000000; stroke-linecap:round; stroke-linejoin:round; stroke-width:4; stroke-opacity:1; fill:none\" points=\"1575.25,1486.45 1575.25,1467.55 \"/>\n",
       "<polyline clip-path=\"url(#clip920)\" style=\"stroke:#000000; stroke-linecap:round; stroke-linejoin:round; stroke-width:4; stroke-opacity:1; fill:none\" points=\"2012.52,1486.45 2012.52,1467.55 \"/>\n",
       "<path clip-path=\"url(#clip920)\" d=\"M232.519 1532.02 L262.195 1532.02 L262.195 1535.95 L232.519 1535.95 L232.519 1532.02 Z\" fill=\"#000000\" fill-rule=\"nonzero\" fill-opacity=\"1\" /><path clip-path=\"url(#clip920)\" d=\"M282.866 1529.7 Q279.718 1529.7 277.866 1531.86 Q276.037 1534.01 276.037 1537.76 Q276.037 1541.49 277.866 1543.66 Q279.718 1545.82 282.866 1545.82 Q286.014 1545.82 287.843 1543.66 Q289.695 1541.49 289.695 1537.76 Q289.695 1534.01 287.843 1531.86 Q286.014 1529.7 282.866 1529.7 M292.149 1515.05 L292.149 1519.31 Q290.389 1518.48 288.584 1518.04 Q286.801 1517.6 285.042 1517.6 Q280.412 1517.6 277.959 1520.72 Q275.528 1523.85 275.181 1530.17 Q276.547 1528.15 278.607 1527.09 Q280.667 1526 283.144 1526 Q288.352 1526 291.361 1529.17 Q294.394 1532.32 294.394 1537.76 Q294.394 1543.08 291.246 1546.3 Q288.098 1549.52 282.866 1549.52 Q276.871 1549.52 273.7 1544.94 Q270.528 1540.33 270.528 1531.6 Q270.528 1523.41 274.417 1518.55 Q278.306 1513.66 284.857 1513.66 Q286.616 1513.66 288.399 1514.01 Q290.204 1514.36 292.149 1515.05 Z\" fill=\"#000000\" fill-rule=\"nonzero\" fill-opacity=\"1\" /><path clip-path=\"url(#clip920)\" d=\"M670.19 1532.02 L699.866 1532.02 L699.866 1535.95 L670.19 1535.95 L670.19 1532.02 Z\" fill=\"#000000\" fill-rule=\"nonzero\" fill-opacity=\"1\" /><path clip-path=\"url(#clip920)\" d=\"M724.125 1530.21 Q727.481 1530.93 729.356 1533.2 Q731.255 1535.47 731.255 1538.8 Q731.255 1543.92 727.736 1546.72 Q724.218 1549.52 717.736 1549.52 Q715.56 1549.52 713.245 1549.08 Q710.954 1548.66 708.5 1547.81 L708.5 1543.29 Q710.444 1544.43 712.759 1545.01 Q715.074 1545.58 717.597 1545.58 Q721.995 1545.58 724.287 1543.85 Q726.602 1542.11 726.602 1538.8 Q726.602 1535.75 724.449 1534.03 Q722.319 1532.3 718.5 1532.3 L714.472 1532.3 L714.472 1528.45 L718.685 1528.45 Q722.134 1528.45 723.963 1527.09 Q725.792 1525.7 725.792 1523.11 Q725.792 1520.45 723.893 1519.03 Q722.018 1517.6 718.5 1517.6 Q716.579 1517.6 714.38 1518.01 Q712.181 1518.43 709.542 1519.31 L709.542 1515.14 Q712.204 1514.4 714.518 1514.03 Q716.856 1513.66 718.917 1513.66 Q724.241 1513.66 727.342 1516.09 Q730.444 1518.5 730.444 1522.62 Q730.444 1525.49 728.801 1527.48 Q727.157 1529.45 724.125 1530.21 Z\" fill=\"#000000\" fill-rule=\"nonzero\" fill-opacity=\"1\" /><path clip-path=\"url(#clip920)\" d=\"M1137.99 1517.37 Q1134.38 1517.37 1132.55 1520.93 Q1130.74 1524.47 1130.74 1531.6 Q1130.74 1538.71 1132.55 1542.27 Q1134.38 1545.82 1137.99 1545.82 Q1141.62 1545.82 1143.43 1542.27 Q1145.26 1538.71 1145.26 1531.6 Q1145.26 1524.47 1143.43 1520.93 Q1141.62 1517.37 1137.99 1517.37 M1137.99 1513.66 Q1143.8 1513.66 1146.85 1518.27 Q1149.93 1522.85 1149.93 1531.6 Q1149.93 1540.33 1146.85 1544.94 Q1143.8 1549.52 1137.99 1549.52 Q1132.18 1549.52 1129.1 1544.94 Q1126.04 1540.33 1126.04 1531.6 Q1126.04 1522.85 1129.1 1518.27 Q1132.18 1513.66 1137.99 1513.66 Z\" fill=\"#000000\" fill-rule=\"nonzero\" fill-opacity=\"1\" /><path clip-path=\"url(#clip920)\" d=\"M1579.5 1530.21 Q1582.86 1530.93 1584.73 1533.2 Q1586.63 1535.47 1586.63 1538.8 Q1586.63 1543.92 1583.11 1546.72 Q1579.59 1549.52 1573.11 1549.52 Q1570.94 1549.52 1568.62 1549.08 Q1566.33 1548.66 1563.88 1547.81 L1563.88 1543.29 Q1565.82 1544.43 1568.14 1545.01 Q1570.45 1545.58 1572.97 1545.58 Q1577.37 1545.58 1579.66 1543.85 Q1581.98 1542.11 1581.98 1538.8 Q1581.98 1535.75 1579.83 1534.03 Q1577.7 1532.3 1573.88 1532.3 L1569.85 1532.3 L1569.85 1528.45 L1574.06 1528.45 Q1577.51 1528.45 1579.34 1527.09 Q1581.17 1525.7 1581.17 1523.11 Q1581.17 1520.45 1579.27 1519.03 Q1577.39 1517.6 1573.88 1517.6 Q1571.96 1517.6 1569.76 1518.01 Q1567.56 1518.43 1564.92 1519.31 L1564.92 1515.14 Q1567.58 1514.4 1569.89 1514.03 Q1572.23 1513.66 1574.29 1513.66 Q1579.62 1513.66 1582.72 1516.09 Q1585.82 1518.5 1585.82 1522.62 Q1585.82 1525.49 1584.18 1527.48 Q1582.53 1529.45 1579.5 1530.21 Z\" fill=\"#000000\" fill-rule=\"nonzero\" fill-opacity=\"1\" /><path clip-path=\"url(#clip920)\" d=\"M2012.92 1529.7 Q2009.78 1529.7 2007.92 1531.86 Q2006.1 1534.01 2006.1 1537.76 Q2006.1 1541.49 2007.92 1543.66 Q2009.78 1545.82 2012.92 1545.82 Q2016.07 1545.82 2017.9 1543.66 Q2019.75 1541.49 2019.75 1537.76 Q2019.75 1534.01 2017.9 1531.86 Q2016.07 1529.7 2012.92 1529.7 M2022.21 1515.05 L2022.21 1519.31 Q2020.45 1518.48 2018.64 1518.04 Q2016.86 1517.6 2015.1 1517.6 Q2010.47 1517.6 2008.02 1520.72 Q2005.59 1523.85 2005.24 1530.17 Q2006.61 1528.15 2008.67 1527.09 Q2010.73 1526 2013.2 1526 Q2018.41 1526 2021.42 1529.17 Q2024.45 1532.32 2024.45 1537.76 Q2024.45 1543.08 2021.3 1546.3 Q2018.16 1549.52 2012.92 1549.52 Q2006.93 1549.52 2003.76 1544.94 Q2000.59 1540.33 2000.59 1531.6 Q2000.59 1523.41 2004.48 1518.55 Q2008.36 1513.66 2014.92 1513.66 Q2016.67 1513.66 2018.46 1514.01 Q2020.26 1514.36 2022.21 1515.05 Z\" fill=\"#000000\" fill-rule=\"nonzero\" fill-opacity=\"1\" /><polyline clip-path=\"url(#clip922)\" style=\"stroke:#000000; stroke-linecap:round; stroke-linejoin:round; stroke-width:2; stroke-opacity:0.1; fill:none\" points=\"141.853,1486.45 2352.76,1486.45 \"/>\n",
       "<polyline clip-path=\"url(#clip922)\" style=\"stroke:#000000; stroke-linecap:round; stroke-linejoin:round; stroke-width:2; stroke-opacity:0.1; fill:none\" points=\"141.853,1195.7 2352.76,1195.7 \"/>\n",
       "<polyline clip-path=\"url(#clip922)\" style=\"stroke:#000000; stroke-linecap:round; stroke-linejoin:round; stroke-width:2; stroke-opacity:0.1; fill:none\" points=\"141.853,904.951 2352.76,904.951 \"/>\n",
       "<polyline clip-path=\"url(#clip922)\" style=\"stroke:#000000; stroke-linecap:round; stroke-linejoin:round; stroke-width:2; stroke-opacity:0.1; fill:none\" points=\"141.853,614.203 2352.76,614.203 \"/>\n",
       "<polyline clip-path=\"url(#clip922)\" style=\"stroke:#000000; stroke-linecap:round; stroke-linejoin:round; stroke-width:2; stroke-opacity:0.1; fill:none\" points=\"141.853,323.455 2352.76,323.455 \"/>\n",
       "<polyline clip-path=\"url(#clip920)\" style=\"stroke:#000000; stroke-linecap:round; stroke-linejoin:round; stroke-width:4; stroke-opacity:1; fill:none\" points=\"141.853,1486.45 141.853,47.2441 \"/>\n",
       "<polyline clip-path=\"url(#clip920)\" style=\"stroke:#000000; stroke-linecap:round; stroke-linejoin:round; stroke-width:4; stroke-opacity:1; fill:none\" points=\"141.853,1486.45 160.751,1486.45 \"/>\n",
       "<polyline clip-path=\"url(#clip920)\" style=\"stroke:#000000; stroke-linecap:round; stroke-linejoin:round; stroke-width:4; stroke-opacity:1; fill:none\" points=\"141.853,1195.7 160.751,1195.7 \"/>\n",
       "<polyline clip-path=\"url(#clip920)\" style=\"stroke:#000000; stroke-linecap:round; stroke-linejoin:round; stroke-width:4; stroke-opacity:1; fill:none\" points=\"141.853,904.951 160.751,904.951 \"/>\n",
       "<polyline clip-path=\"url(#clip920)\" style=\"stroke:#000000; stroke-linecap:round; stroke-linejoin:round; stroke-width:4; stroke-opacity:1; fill:none\" points=\"141.853,614.203 160.751,614.203 \"/>\n",
       "<polyline clip-path=\"url(#clip920)\" style=\"stroke:#000000; stroke-linecap:round; stroke-linejoin:round; stroke-width:4; stroke-opacity:1; fill:none\" points=\"141.853,323.455 160.751,323.455 \"/>\n",
       "<path clip-path=\"url(#clip920)\" d=\"M93.9086 1472.25 Q90.2975 1472.25 88.4688 1475.81 Q86.6632 1479.35 86.6632 1486.48 Q86.6632 1493.59 88.4688 1497.15 Q90.2975 1500.7 93.9086 1500.7 Q97.5428 1500.7 99.3483 1497.15 Q101.177 1493.59 101.177 1486.48 Q101.177 1479.35 99.3483 1475.81 Q97.5428 1472.25 93.9086 1472.25 M93.9086 1468.54 Q99.7187 1468.54 102.774 1473.15 Q105.853 1477.73 105.853 1486.48 Q105.853 1495.21 102.774 1499.82 Q99.7187 1504.4 93.9086 1504.4 Q88.0984 1504.4 85.0197 1499.82 Q81.9642 1495.21 81.9642 1486.48 Q81.9642 1477.73 85.0197 1473.15 Q88.0984 1468.54 93.9086 1468.54 Z\" fill=\"#000000\" fill-rule=\"nonzero\" fill-opacity=\"1\" /><path clip-path=\"url(#clip920)\" d=\"M57.7745 1209.04 L74.0939 1209.04 L74.0939 1212.98 L52.1495 1212.98 L52.1495 1209.04 Q54.8115 1206.29 59.3949 1201.66 Q64.0013 1197.01 65.1819 1195.66 Q67.4272 1193.14 68.3068 1191.41 Q69.2096 1189.65 69.2096 1187.96 Q69.2096 1185.2 67.2652 1183.47 Q65.3439 1181.73 62.2421 1181.73 Q60.043 1181.73 57.5893 1182.49 Q55.1588 1183.26 52.381 1184.81 L52.381 1180.09 Q55.2051 1178.95 57.6588 1178.37 Q60.1124 1177.79 62.1495 1177.79 Q67.5198 1177.79 70.7142 1180.48 Q73.9087 1183.16 73.9087 1187.66 Q73.9087 1189.79 73.0985 1191.71 Q72.3115 1193.6 70.205 1196.2 Q69.6263 1196.87 66.5245 1200.09 Q63.4226 1203.28 57.7745 1209.04 Z\" fill=\"#000000\" fill-rule=\"nonzero\" fill-opacity=\"1\" /><path clip-path=\"url(#clip920)\" d=\"M93.9086 1181.5 Q90.2975 1181.5 88.4688 1185.06 Q86.6632 1188.6 86.6632 1195.73 Q86.6632 1202.84 88.4688 1206.41 Q90.2975 1209.95 93.9086 1209.95 Q97.5428 1209.95 99.3483 1206.41 Q101.177 1202.84 101.177 1195.73 Q101.177 1188.6 99.3483 1185.06 Q97.5428 1181.5 93.9086 1181.5 M93.9086 1177.79 Q99.7187 1177.79 102.774 1182.4 Q105.853 1186.98 105.853 1195.73 Q105.853 1204.46 102.774 1209.07 Q99.7187 1213.65 93.9086 1213.65 Q88.0984 1213.65 85.0197 1209.07 Q81.9642 1204.46 81.9642 1195.73 Q81.9642 1186.98 85.0197 1182.4 Q88.0984 1177.79 93.9086 1177.79 Z\" fill=\"#000000\" fill-rule=\"nonzero\" fill-opacity=\"1\" /><path clip-path=\"url(#clip920)\" d=\"M66.5939 891.745 L54.7884 910.194 L66.5939 910.194 L66.5939 891.745 M65.367 887.671 L71.2466 887.671 L71.2466 910.194 L76.1772 910.194 L76.1772 914.083 L71.2466 914.083 L71.2466 922.231 L66.5939 922.231 L66.5939 914.083 L50.9921 914.083 L50.9921 909.569 L65.367 887.671 Z\" fill=\"#000000\" fill-rule=\"nonzero\" fill-opacity=\"1\" /><path clip-path=\"url(#clip920)\" d=\"M93.9086 890.75 Q90.2975 890.75 88.4688 894.315 Q86.6632 897.857 86.6632 904.986 Q86.6632 912.093 88.4688 915.657 Q90.2975 919.199 93.9086 919.199 Q97.5428 919.199 99.3483 915.657 Q101.177 912.093 101.177 904.986 Q101.177 897.857 99.3483 894.315 Q97.5428 890.75 93.9086 890.75 M93.9086 887.046 Q99.7187 887.046 102.774 891.653 Q105.853 896.236 105.853 904.986 Q105.853 913.713 102.774 918.319 Q99.7187 922.903 93.9086 922.903 Q88.0984 922.903 85.0197 918.319 Q81.9642 913.713 81.9642 904.986 Q81.9642 896.236 85.0197 891.653 Q88.0984 887.046 93.9086 887.046 Z\" fill=\"#000000\" fill-rule=\"nonzero\" fill-opacity=\"1\" /><path clip-path=\"url(#clip920)\" d=\"M64.3254 612.34 Q61.1773 612.34 59.3254 614.493 Q57.4967 616.645 57.4967 620.395 Q57.4967 624.122 59.3254 626.298 Q61.1773 628.451 64.3254 628.451 Q67.4735 628.451 69.3022 626.298 Q71.1541 624.122 71.1541 620.395 Q71.1541 616.645 69.3022 614.493 Q67.4735 612.34 64.3254 612.34 M73.6077 597.687 L73.6077 601.946 Q71.8485 601.113 70.0429 600.673 Q68.2606 600.233 66.5013 600.233 Q61.8717 600.233 59.418 603.358 Q56.9875 606.483 56.6402 612.803 Q58.006 610.789 60.0662 609.724 Q62.1263 608.636 64.6032 608.636 Q69.8115 608.636 72.8207 611.807 Q75.8531 614.955 75.8531 620.395 Q75.8531 625.719 72.705 628.937 Q69.5568 632.154 64.3254 632.154 Q58.33 632.154 55.1588 627.571 Q51.9875 622.965 51.9875 614.238 Q51.9875 606.043 55.8764 601.182 Q59.7652 596.298 66.3161 596.298 Q68.0754 596.298 69.8578 596.645 Q71.6633 596.993 73.6077 597.687 Z\" fill=\"#000000\" fill-rule=\"nonzero\" fill-opacity=\"1\" /><path clip-path=\"url(#clip920)\" d=\"M93.9086 600.002 Q90.2975 600.002 88.4688 603.567 Q86.6632 607.108 86.6632 614.238 Q86.6632 621.344 88.4688 624.909 Q90.2975 628.451 93.9086 628.451 Q97.5428 628.451 99.3483 624.909 Q101.177 621.344 101.177 614.238 Q101.177 607.108 99.3483 603.567 Q97.5428 600.002 93.9086 600.002 M93.9086 596.298 Q99.7187 596.298 102.774 600.905 Q105.853 605.488 105.853 614.238 Q105.853 622.965 102.774 627.571 Q99.7187 632.154 93.9086 632.154 Q88.0984 632.154 85.0197 627.571 Q81.9642 622.965 81.9642 614.238 Q81.9642 605.488 85.0197 600.905 Q88.0984 596.298 93.9086 596.298 Z\" fill=\"#000000\" fill-rule=\"nonzero\" fill-opacity=\"1\" /><path clip-path=\"url(#clip920)\" d=\"M63.7467 324.323 Q60.4134 324.323 58.4921 326.105 Q56.5939 327.888 56.5939 331.013 Q56.5939 334.138 58.4921 335.92 Q60.4134 337.703 63.7467 337.703 Q67.08 337.703 69.0013 335.92 Q70.9226 334.115 70.9226 331.013 Q70.9226 327.888 69.0013 326.105 Q67.1032 324.323 63.7467 324.323 M59.0708 322.332 Q56.0615 321.592 54.3717 319.531 Q52.7051 317.471 52.7051 314.508 Q52.7051 310.365 55.6449 307.957 Q58.6078 305.55 63.7467 305.55 Q68.9087 305.55 71.8485 307.957 Q74.7883 310.365 74.7883 314.508 Q74.7883 317.471 73.0985 319.531 Q71.4318 321.592 68.4457 322.332 Q71.8253 323.119 73.7003 325.411 Q75.5985 327.703 75.5985 331.013 Q75.5985 336.036 72.5198 338.721 Q69.4642 341.406 63.7467 341.406 Q58.0291 341.406 54.9504 338.721 Q51.8949 336.036 51.8949 331.013 Q51.8949 327.703 53.793 325.411 Q55.6912 323.119 59.0708 322.332 M57.3578 314.948 Q57.3578 317.633 59.0245 319.138 Q60.7143 320.642 63.7467 320.642 Q66.7559 320.642 68.4457 319.138 Q70.1587 317.633 70.1587 314.948 Q70.1587 312.263 68.4457 310.758 Q66.7559 309.254 63.7467 309.254 Q60.7143 309.254 59.0245 310.758 Q57.3578 312.263 57.3578 314.948 Z\" fill=\"#000000\" fill-rule=\"nonzero\" fill-opacity=\"1\" /><path clip-path=\"url(#clip920)\" d=\"M93.9086 309.254 Q90.2975 309.254 88.4688 312.818 Q86.6632 316.36 86.6632 323.49 Q86.6632 330.596 88.4688 334.161 Q90.2975 337.703 93.9086 337.703 Q97.5428 337.703 99.3483 334.161 Q101.177 330.596 101.177 323.49 Q101.177 316.36 99.3483 312.818 Q97.5428 309.254 93.9086 309.254 M93.9086 305.55 Q99.7187 305.55 102.774 310.156 Q105.853 314.74 105.853 323.49 Q105.853 332.216 102.774 336.823 Q99.7187 341.406 93.9086 341.406 Q88.0984 341.406 85.0197 336.823 Q81.9642 332.216 81.9642 323.49 Q81.9642 314.74 85.0197 310.156 Q88.0984 305.55 93.9086 305.55 Z\" fill=\"#000000\" fill-rule=\"nonzero\" fill-opacity=\"1\" /><path clip-path=\"url(#clip922)\" d=\"M263.457 1471.91 L263.457 1486.45 L336.334 1486.45 L336.334 1471.91 L263.457 1471.91 L263.457 1471.91  Z\" fill=\"#009af9\" fill-rule=\"evenodd\" fill-opacity=\"1\"/>\n",
       "<polyline clip-path=\"url(#clip922)\" style=\"stroke:#000000; stroke-linecap:round; stroke-linejoin:round; stroke-width:4; stroke-opacity:1; fill:none\" points=\"263.457,1471.91 263.457,1486.45 336.334,1486.45 336.334,1471.91 263.457,1471.91 \"/>\n",
       "<path clip-path=\"url(#clip922)\" d=\"M336.334 1486.45 L336.334 1486.45 L409.212 1486.45 L409.212 1486.45 L336.334 1486.45 L336.334 1486.45  Z\" fill=\"#009af9\" fill-rule=\"evenodd\" fill-opacity=\"1\"/>\n",
       "<polyline clip-path=\"url(#clip922)\" style=\"stroke:#000000; stroke-linecap:round; stroke-linejoin:round; stroke-width:4; stroke-opacity:1; fill:none\" points=\"336.334,1486.45 336.334,1486.45 409.212,1486.45 336.334,1486.45 \"/>\n",
       "<path clip-path=\"url(#clip922)\" d=\"M409.212 1471.91 L409.212 1486.45 L482.089 1486.45 L482.089 1471.91 L409.212 1471.91 L409.212 1471.91  Z\" fill=\"#009af9\" fill-rule=\"evenodd\" fill-opacity=\"1\"/>\n",
       "<polyline clip-path=\"url(#clip922)\" style=\"stroke:#000000; stroke-linecap:round; stroke-linejoin:round; stroke-width:4; stroke-opacity:1; fill:none\" points=\"409.212,1471.91 409.212,1486.45 482.089,1486.45 482.089,1471.91 409.212,1471.91 \"/>\n",
       "<path clip-path=\"url(#clip922)\" d=\"M482.089 1471.91 L482.089 1486.45 L554.967 1486.45 L554.967 1471.91 L482.089 1471.91 L482.089 1471.91  Z\" fill=\"#009af9\" fill-rule=\"evenodd\" fill-opacity=\"1\"/>\n",
       "<polyline clip-path=\"url(#clip922)\" style=\"stroke:#000000; stroke-linecap:round; stroke-linejoin:round; stroke-width:4; stroke-opacity:1; fill:none\" points=\"482.089,1471.91 482.089,1486.45 554.967,1486.45 554.967,1471.91 482.089,1471.91 \"/>\n",
       "<path clip-path=\"url(#clip922)\" d=\"M554.967 1442.84 L554.967 1486.45 L627.845 1486.45 L627.845 1442.84 L554.967 1442.84 L554.967 1442.84  Z\" fill=\"#009af9\" fill-rule=\"evenodd\" fill-opacity=\"1\"/>\n",
       "<polyline clip-path=\"url(#clip922)\" style=\"stroke:#000000; stroke-linecap:round; stroke-linejoin:round; stroke-width:4; stroke-opacity:1; fill:none\" points=\"554.967,1442.84 554.967,1486.45 627.845,1486.45 627.845,1442.84 554.967,1442.84 \"/>\n",
       "<path clip-path=\"url(#clip922)\" d=\"M627.845 1399.22 L627.845 1486.45 L700.722 1486.45 L700.722 1399.22 L627.845 1399.22 L627.845 1399.22  Z\" fill=\"#009af9\" fill-rule=\"evenodd\" fill-opacity=\"1\"/>\n",
       "<polyline clip-path=\"url(#clip922)\" style=\"stroke:#000000; stroke-linecap:round; stroke-linejoin:round; stroke-width:4; stroke-opacity:1; fill:none\" points=\"627.845,1399.22 627.845,1486.45 700.722,1486.45 700.722,1399.22 627.845,1399.22 \"/>\n",
       "<path clip-path=\"url(#clip922)\" d=\"M700.722 1370.15 L700.722 1486.45 L773.6 1486.45 L773.6 1370.15 L700.722 1370.15 L700.722 1370.15  Z\" fill=\"#009af9\" fill-rule=\"evenodd\" fill-opacity=\"1\"/>\n",
       "<polyline clip-path=\"url(#clip922)\" style=\"stroke:#000000; stroke-linecap:round; stroke-linejoin:round; stroke-width:4; stroke-opacity:1; fill:none\" points=\"700.722,1370.15 700.722,1486.45 773.6,1486.45 773.6,1370.15 700.722,1370.15 \"/>\n",
       "<path clip-path=\"url(#clip922)\" d=\"M773.6 1326.54 L773.6 1486.45 L846.478 1486.45 L846.478 1326.54 L773.6 1326.54 L773.6 1326.54  Z\" fill=\"#009af9\" fill-rule=\"evenodd\" fill-opacity=\"1\"/>\n",
       "<polyline clip-path=\"url(#clip922)\" style=\"stroke:#000000; stroke-linecap:round; stroke-linejoin:round; stroke-width:4; stroke-opacity:1; fill:none\" points=\"773.6,1326.54 773.6,1486.45 846.478,1486.45 846.478,1326.54 773.6,1326.54 \"/>\n",
       "<path clip-path=\"url(#clip922)\" d=\"M846.478 1152.09 L846.478 1486.45 L919.355 1486.45 L919.355 1152.09 L846.478 1152.09 L846.478 1152.09  Z\" fill=\"#009af9\" fill-rule=\"evenodd\" fill-opacity=\"1\"/>\n",
       "<polyline clip-path=\"url(#clip922)\" style=\"stroke:#000000; stroke-linecap:round; stroke-linejoin:round; stroke-width:4; stroke-opacity:1; fill:none\" points=\"846.478,1152.09 846.478,1486.45 919.355,1486.45 919.355,1152.09 846.478,1152.09 \"/>\n",
       "<path clip-path=\"url(#clip922)\" d=\"M919.355 992.176 L919.355 1486.45 L992.233 1486.45 L992.233 992.176 L919.355 992.176 L919.355 992.176  Z\" fill=\"#009af9\" fill-rule=\"evenodd\" fill-opacity=\"1\"/>\n",
       "<polyline clip-path=\"url(#clip922)\" style=\"stroke:#000000; stroke-linecap:round; stroke-linejoin:round; stroke-width:4; stroke-opacity:1; fill:none\" points=\"919.355,992.176 919.355,1486.45 992.233,1486.45 992.233,992.176 919.355,992.176 \"/>\n",
       "<path clip-path=\"url(#clip922)\" d=\"M992.233 556.054 L992.233 1486.45 L1065.11 1486.45 L1065.11 556.054 L992.233 556.054 L992.233 556.054  Z\" fill=\"#009af9\" fill-rule=\"evenodd\" fill-opacity=\"1\"/>\n",
       "<polyline clip-path=\"url(#clip922)\" style=\"stroke:#000000; stroke-linecap:round; stroke-linejoin:round; stroke-width:4; stroke-opacity:1; fill:none\" points=\"992.233,556.054 992.233,1486.45 1065.11,1486.45 1065.11,556.054 992.233,556.054 \"/>\n",
       "<path clip-path=\"url(#clip922)\" d=\"M1065.11 163.543 L1065.11 1486.45 L1137.99 1486.45 L1137.99 163.543 L1065.11 163.543 L1065.11 163.543  Z\" fill=\"#009af9\" fill-rule=\"evenodd\" fill-opacity=\"1\"/>\n",
       "<polyline clip-path=\"url(#clip922)\" style=\"stroke:#000000; stroke-linecap:round; stroke-linejoin:round; stroke-width:4; stroke-opacity:1; fill:none\" points=\"1065.11,163.543 1065.11,1486.45 1137.99,1486.45 1137.99,163.543 1065.11,163.543 \"/>\n",
       "<path clip-path=\"url(#clip922)\" d=\"M1137.99 47.2441 L1137.99 1486.45 L1210.87 1486.45 L1210.87 47.2441 L1137.99 47.2441 L1137.99 47.2441  Z\" fill=\"#009af9\" fill-rule=\"evenodd\" fill-opacity=\"1\"/>\n",
       "<polyline clip-path=\"url(#clip922)\" style=\"stroke:#000000; stroke-linecap:round; stroke-linejoin:round; stroke-width:4; stroke-opacity:1; fill:none\" points=\"1137.99,47.2441 1137.99,1486.45 1210.87,1486.45 1210.87,47.2441 1137.99,47.2441 \"/>\n",
       "<path clip-path=\"url(#clip922)\" d=\"M1210.87 643.278 L1210.87 1486.45 L1283.74 1486.45 L1283.74 643.278 L1210.87 643.278 L1210.87 643.278  Z\" fill=\"#009af9\" fill-rule=\"evenodd\" fill-opacity=\"1\"/>\n",
       "<polyline clip-path=\"url(#clip922)\" style=\"stroke:#000000; stroke-linecap:round; stroke-linejoin:round; stroke-width:4; stroke-opacity:1; fill:none\" points=\"1210.87,643.278 1210.87,1486.45 1283.74,1486.45 1283.74,643.278 1210.87,643.278 \"/>\n",
       "<path clip-path=\"url(#clip922)\" d=\"M1283.74 875.877 L1283.74 1486.45 L1356.62 1486.45 L1356.62 875.877 L1283.74 875.877 L1283.74 875.877  Z\" fill=\"#009af9\" fill-rule=\"evenodd\" fill-opacity=\"1\"/>\n",
       "<polyline clip-path=\"url(#clip922)\" style=\"stroke:#000000; stroke-linecap:round; stroke-linejoin:round; stroke-width:4; stroke-opacity:1; fill:none\" points=\"1283.74,875.877 1283.74,1486.45 1356.62,1486.45 1356.62,875.877 1283.74,875.877 \"/>\n",
       "<path clip-path=\"url(#clip922)\" d=\"M1356.62 1123.01 L1356.62 1486.45 L1429.5 1486.45 L1429.5 1123.01 L1356.62 1123.01 L1356.62 1123.01  Z\" fill=\"#009af9\" fill-rule=\"evenodd\" fill-opacity=\"1\"/>\n",
       "<polyline clip-path=\"url(#clip922)\" style=\"stroke:#000000; stroke-linecap:round; stroke-linejoin:round; stroke-width:4; stroke-opacity:1; fill:none\" points=\"1356.62,1123.01 1356.62,1486.45 1429.5,1486.45 1429.5,1123.01 1356.62,1123.01 \"/>\n",
       "<path clip-path=\"url(#clip922)\" d=\"M1429.5 1312 L1429.5 1486.45 L1502.38 1486.45 L1502.38 1312 L1429.5 1312 L1429.5 1312  Z\" fill=\"#009af9\" fill-rule=\"evenodd\" fill-opacity=\"1\"/>\n",
       "<polyline clip-path=\"url(#clip922)\" style=\"stroke:#000000; stroke-linecap:round; stroke-linejoin:round; stroke-width:4; stroke-opacity:1; fill:none\" points=\"1429.5,1312 1429.5,1486.45 1502.38,1486.45 1502.38,1312 1429.5,1312 \"/>\n",
       "<path clip-path=\"url(#clip922)\" d=\"M1502.38 1355.61 L1502.38 1486.45 L1575.25 1486.45 L1575.25 1355.61 L1502.38 1355.61 L1502.38 1355.61  Z\" fill=\"#009af9\" fill-rule=\"evenodd\" fill-opacity=\"1\"/>\n",
       "<polyline clip-path=\"url(#clip922)\" style=\"stroke:#000000; stroke-linecap:round; stroke-linejoin:round; stroke-width:4; stroke-opacity:1; fill:none\" points=\"1502.38,1355.61 1502.38,1486.45 1575.25,1486.45 1575.25,1355.61 1502.38,1355.61 \"/>\n",
       "<path clip-path=\"url(#clip922)\" d=\"M1575.25 1442.84 L1575.25 1486.45 L1648.13 1486.45 L1648.13 1442.84 L1575.25 1442.84 L1575.25 1442.84  Z\" fill=\"#009af9\" fill-rule=\"evenodd\" fill-opacity=\"1\"/>\n",
       "<polyline clip-path=\"url(#clip922)\" style=\"stroke:#000000; stroke-linecap:round; stroke-linejoin:round; stroke-width:4; stroke-opacity:1; fill:none\" points=\"1575.25,1442.84 1575.25,1486.45 1648.13,1486.45 1648.13,1442.84 1575.25,1442.84 \"/>\n",
       "<path clip-path=\"url(#clip922)\" d=\"M1648.13 1457.37 L1648.13 1486.45 L1721.01 1486.45 L1721.01 1457.37 L1648.13 1457.37 L1648.13 1457.37  Z\" fill=\"#009af9\" fill-rule=\"evenodd\" fill-opacity=\"1\"/>\n",
       "<polyline clip-path=\"url(#clip922)\" style=\"stroke:#000000; stroke-linecap:round; stroke-linejoin:round; stroke-width:4; stroke-opacity:1; fill:none\" points=\"1648.13,1457.37 1648.13,1486.45 1721.01,1486.45 1721.01,1457.37 1648.13,1457.37 \"/>\n",
       "<path clip-path=\"url(#clip922)\" d=\"M1721.01 1471.91 L1721.01 1486.45 L1793.89 1486.45 L1793.89 1471.91 L1721.01 1471.91 L1721.01 1471.91  Z\" fill=\"#009af9\" fill-rule=\"evenodd\" fill-opacity=\"1\"/>\n",
       "<polyline clip-path=\"url(#clip922)\" style=\"stroke:#000000; stroke-linecap:round; stroke-linejoin:round; stroke-width:4; stroke-opacity:1; fill:none\" points=\"1721.01,1471.91 1721.01,1486.45 1793.89,1486.45 1793.89,1471.91 1721.01,1471.91 \"/>\n",
       "<path clip-path=\"url(#clip922)\" d=\"M1793.89 1457.37 L1793.89 1486.45 L1866.76 1486.45 L1866.76 1457.37 L1793.89 1457.37 L1793.89 1457.37  Z\" fill=\"#009af9\" fill-rule=\"evenodd\" fill-opacity=\"1\"/>\n",
       "<polyline clip-path=\"url(#clip922)\" style=\"stroke:#000000; stroke-linecap:round; stroke-linejoin:round; stroke-width:4; stroke-opacity:1; fill:none\" points=\"1793.89,1457.37 1793.89,1486.45 1866.76,1486.45 1866.76,1457.37 1793.89,1457.37 \"/>\n",
       "<path clip-path=\"url(#clip922)\" d=\"M1866.76 1471.91 L1866.76 1486.45 L1939.64 1486.45 L1939.64 1471.91 L1866.76 1471.91 L1866.76 1471.91  Z\" fill=\"#009af9\" fill-rule=\"evenodd\" fill-opacity=\"1\"/>\n",
       "<polyline clip-path=\"url(#clip922)\" style=\"stroke:#000000; stroke-linecap:round; stroke-linejoin:round; stroke-width:4; stroke-opacity:1; fill:none\" points=\"1866.76,1471.91 1866.76,1486.45 1939.64,1486.45 1939.64,1471.91 1866.76,1471.91 \"/>\n",
       "<path clip-path=\"url(#clip922)\" d=\"M1939.64 1471.91 L1939.64 1486.45 L2012.52 1486.45 L2012.52 1471.91 L1939.64 1471.91 L1939.64 1471.91  Z\" fill=\"#009af9\" fill-rule=\"evenodd\" fill-opacity=\"1\"/>\n",
       "<polyline clip-path=\"url(#clip922)\" style=\"stroke:#000000; stroke-linecap:round; stroke-linejoin:round; stroke-width:4; stroke-opacity:1; fill:none\" points=\"1939.64,1471.91 1939.64,1486.45 2012.52,1486.45 2012.52,1471.91 1939.64,1471.91 \"/>\n",
       "<path clip-path=\"url(#clip922)\" d=\"M2012.52 1486.45 L2012.52 1486.45 L2085.4 1486.45 L2085.4 1486.45 L2012.52 1486.45 L2012.52 1486.45  Z\" fill=\"#009af9\" fill-rule=\"evenodd\" fill-opacity=\"1\"/>\n",
       "<polyline clip-path=\"url(#clip922)\" style=\"stroke:#000000; stroke-linecap:round; stroke-linejoin:round; stroke-width:4; stroke-opacity:1; fill:none\" points=\"2012.52,1486.45 2012.52,1486.45 2085.4,1486.45 2012.52,1486.45 \"/>\n",
       "<path clip-path=\"url(#clip922)\" d=\"M2085.4 1486.45 L2085.4 1486.45 L2158.27 1486.45 L2158.27 1486.45 L2085.4 1486.45 L2085.4 1486.45  Z\" fill=\"#009af9\" fill-rule=\"evenodd\" fill-opacity=\"1\"/>\n",
       "<polyline clip-path=\"url(#clip922)\" style=\"stroke:#000000; stroke-linecap:round; stroke-linejoin:round; stroke-width:4; stroke-opacity:1; fill:none\" points=\"2085.4,1486.45 2085.4,1486.45 2158.27,1486.45 2085.4,1486.45 \"/>\n",
       "<path clip-path=\"url(#clip922)\" d=\"M2158.27 1457.37 L2158.27 1486.45 L2231.15 1486.45 L2231.15 1457.37 L2158.27 1457.37 L2158.27 1457.37  Z\" fill=\"#009af9\" fill-rule=\"evenodd\" fill-opacity=\"1\"/>\n",
       "<polyline clip-path=\"url(#clip922)\" style=\"stroke:#000000; stroke-linecap:round; stroke-linejoin:round; stroke-width:4; stroke-opacity:1; fill:none\" points=\"2158.27,1457.37 2158.27,1486.45 2231.15,1486.45 2231.15,1457.37 2158.27,1457.37 \"/>\n",
       "<circle clip-path=\"url(#clip922)\" style=\"fill:#009af9; stroke:none; fill-opacity:0\" cx=\"299.895\" cy=\"1471.91\" r=\"2\"/>\n",
       "<circle clip-path=\"url(#clip922)\" style=\"fill:#009af9; stroke:none; fill-opacity:0\" cx=\"372.773\" cy=\"1486.45\" r=\"2\"/>\n",
       "<circle clip-path=\"url(#clip922)\" style=\"fill:#009af9; stroke:none; fill-opacity:0\" cx=\"445.651\" cy=\"1471.91\" r=\"2\"/>\n",
       "<circle clip-path=\"url(#clip922)\" style=\"fill:#009af9; stroke:none; fill-opacity:0\" cx=\"518.528\" cy=\"1471.91\" r=\"2\"/>\n",
       "<circle clip-path=\"url(#clip922)\" style=\"fill:#009af9; stroke:none; fill-opacity:0\" cx=\"591.406\" cy=\"1442.84\" r=\"2\"/>\n",
       "<circle clip-path=\"url(#clip922)\" style=\"fill:#009af9; stroke:none; fill-opacity:0\" cx=\"664.283\" cy=\"1399.22\" r=\"2\"/>\n",
       "<circle clip-path=\"url(#clip922)\" style=\"fill:#009af9; stroke:none; fill-opacity:0\" cx=\"737.161\" cy=\"1370.15\" r=\"2\"/>\n",
       "<circle clip-path=\"url(#clip922)\" style=\"fill:#009af9; stroke:none; fill-opacity:0\" cx=\"810.039\" cy=\"1326.54\" r=\"2\"/>\n",
       "<circle clip-path=\"url(#clip922)\" style=\"fill:#009af9; stroke:none; fill-opacity:0\" cx=\"882.916\" cy=\"1152.09\" r=\"2\"/>\n",
       "<circle clip-path=\"url(#clip922)\" style=\"fill:#009af9; stroke:none; fill-opacity:0\" cx=\"955.794\" cy=\"992.176\" r=\"2\"/>\n",
       "<circle clip-path=\"url(#clip922)\" style=\"fill:#009af9; stroke:none; fill-opacity:0\" cx=\"1028.67\" cy=\"556.054\" r=\"2\"/>\n",
       "<circle clip-path=\"url(#clip922)\" style=\"fill:#009af9; stroke:none; fill-opacity:0\" cx=\"1101.55\" cy=\"163.543\" r=\"2\"/>\n",
       "<circle clip-path=\"url(#clip922)\" style=\"fill:#009af9; stroke:none; fill-opacity:0\" cx=\"1174.43\" cy=\"47.2441\" r=\"2\"/>\n",
       "<circle clip-path=\"url(#clip922)\" style=\"fill:#009af9; stroke:none; fill-opacity:0\" cx=\"1247.3\" cy=\"643.278\" r=\"2\"/>\n",
       "<circle clip-path=\"url(#clip922)\" style=\"fill:#009af9; stroke:none; fill-opacity:0\" cx=\"1320.18\" cy=\"875.877\" r=\"2\"/>\n",
       "<circle clip-path=\"url(#clip922)\" style=\"fill:#009af9; stroke:none; fill-opacity:0\" cx=\"1393.06\" cy=\"1123.01\" r=\"2\"/>\n",
       "<circle clip-path=\"url(#clip922)\" style=\"fill:#009af9; stroke:none; fill-opacity:0\" cx=\"1465.94\" cy=\"1312\" r=\"2\"/>\n",
       "<circle clip-path=\"url(#clip922)\" style=\"fill:#009af9; stroke:none; fill-opacity:0\" cx=\"1538.81\" cy=\"1355.61\" r=\"2\"/>\n",
       "<circle clip-path=\"url(#clip922)\" style=\"fill:#009af9; stroke:none; fill-opacity:0\" cx=\"1611.69\" cy=\"1442.84\" r=\"2\"/>\n",
       "<circle clip-path=\"url(#clip922)\" style=\"fill:#009af9; stroke:none; fill-opacity:0\" cx=\"1684.57\" cy=\"1457.37\" r=\"2\"/>\n",
       "<circle clip-path=\"url(#clip922)\" style=\"fill:#009af9; stroke:none; fill-opacity:0\" cx=\"1757.45\" cy=\"1471.91\" r=\"2\"/>\n",
       "<circle clip-path=\"url(#clip922)\" style=\"fill:#009af9; stroke:none; fill-opacity:0\" cx=\"1830.33\" cy=\"1457.37\" r=\"2\"/>\n",
       "<circle clip-path=\"url(#clip922)\" style=\"fill:#009af9; stroke:none; fill-opacity:0\" cx=\"1903.2\" cy=\"1471.91\" r=\"2\"/>\n",
       "<circle clip-path=\"url(#clip922)\" style=\"fill:#009af9; stroke:none; fill-opacity:0\" cx=\"1976.08\" cy=\"1471.91\" r=\"2\"/>\n",
       "<circle clip-path=\"url(#clip922)\" style=\"fill:#009af9; stroke:none; fill-opacity:0\" cx=\"2048.96\" cy=\"1486.45\" r=\"2\"/>\n",
       "<circle clip-path=\"url(#clip922)\" style=\"fill:#009af9; stroke:none; fill-opacity:0\" cx=\"2121.84\" cy=\"1486.45\" r=\"2\"/>\n",
       "<circle clip-path=\"url(#clip922)\" style=\"fill:#009af9; stroke:none; fill-opacity:0\" cx=\"2194.71\" cy=\"1457.37\" r=\"2\"/>\n",
       "<path clip-path=\"url(#clip920)\" d=\"M2005.54 198.898 L2279.06 198.898 L2279.06 95.2176 L2005.54 95.2176  Z\" fill=\"#ffffff\" fill-rule=\"evenodd\" fill-opacity=\"1\"/>\n",
       "<polyline clip-path=\"url(#clip920)\" style=\"stroke:#000000; stroke-linecap:round; stroke-linejoin:round; stroke-width:4; stroke-opacity:1; fill:none\" points=\"2005.54,198.898 2279.06,198.898 2279.06,95.2176 2005.54,95.2176 2005.54,198.898 \"/>\n",
       "<path clip-path=\"url(#clip920)\" d=\"M2030.1 167.794 L2177.5 167.794 L2177.5 126.322 L2030.1 126.322 L2030.1 167.794  Z\" fill=\"#009af9\" fill-rule=\"evenodd\" fill-opacity=\"1\"/>\n",
       "<polyline clip-path=\"url(#clip920)\" style=\"stroke:#000000; stroke-linecap:round; stroke-linejoin:round; stroke-width:4; stroke-opacity:1; fill:none\" points=\"2030.1,167.794 2177.5,167.794 2177.5,126.322 2030.1,126.322 2030.1,167.794 \"/>\n",
       "<path clip-path=\"url(#clip920)\" d=\"M2215.91 166.745 Q2214.1 171.375 2212.39 172.787 Q2210.67 174.199 2207.8 174.199 L2204.4 174.199 L2204.4 170.634 L2206.9 170.634 Q2208.66 170.634 2209.63 169.8 Q2210.6 168.967 2211.79 165.865 L2212.55 163.921 L2202.06 138.412 L2206.58 138.412 L2214.68 158.689 L2222.78 138.412 L2227.29 138.412 L2215.91 166.745 Z\" fill=\"#000000\" fill-rule=\"nonzero\" fill-opacity=\"1\" /><path clip-path=\"url(#clip920)\" d=\"M2234.59 160.402 L2242.23 160.402 L2242.23 134.037 L2233.91 135.703 L2233.91 131.444 L2242.18 129.778 L2246.85 129.778 L2246.85 160.402 L2254.49 160.402 L2254.49 164.338 L2234.59 164.338 L2234.59 160.402 Z\" fill=\"#000000\" fill-rule=\"nonzero\" fill-opacity=\"1\" /></svg>\n"
      ]
     },
     "execution_count": 35,
     "metadata": {},
     "output_type": "execute_result"
    }
   ],
   "source": [
    "using Distributions\n",
    "\n",
    "function plothistogram(distribution, n)\n",
    "    ep = rand(distribution, n)  # n draws from distribution\n",
    "    histogram(ep)\n",
    "end\n",
    "\n",
    "lp = Laplace()\n",
    "plothistogram(lp, 500)"
   ]
  },
  {
   "cell_type": "markdown",
   "id": "9564051f",
   "metadata": {},
   "source": [
    "Let’s have a casual discussion of how all this works while leaving technical details for later in the lectures.\n",
    "\n",
    "First, `lp = Laplace()` creates an instance of a data type defined\n",
    "in the `Distributions` module that represents the Laplace distribution.\n",
    "\n",
    "The name `lp` is bound to this value.\n",
    "\n",
    "When we make the function call `plothistogram(lp, 500)` the code in the body\n",
    "of the function `plothistogram` is run with\n",
    "\n",
    "- the name `distribution` bound to the same value as `lp`  \n",
    "- the name `n` bound to the integer `500`  "
   ]
  },
  {
   "cell_type": "markdown",
   "id": "a1994231",
   "metadata": {},
   "source": [
    "#### A Mystery\n",
    "\n",
    "Now consider the function call `rand(distribution, n)`.\n",
    "\n",
    "This looks like something of a mystery.\n",
    "\n",
    "The function `rand()` is defined in the base library such that `rand(n)` returns `n` uniform random variables on $ [0, 1) $."
   ]
  },
  {
   "cell_type": "code",
   "execution_count": null,
   "id": "4e0a4442",
   "metadata": {
    "hide-output": false
   },
   "outputs": [],
   "source": [
    "rand(3)"
   ]
  },
  {
   "cell_type": "markdown",
   "id": "26300911",
   "metadata": {},
   "source": [
    "On the other hand, `distribution` points to a data type representing the Laplace distribution that has been defined in a third party package.\n",
    "\n",
    "So how can it be that `rand()` is able to take this kind of value as an\n",
    "argument and return the output that we want?\n",
    "\n",
    "The answer in a nutshell is **multiple dispatch**, which Julia uses to implement **generic programming**.\n",
    "\n",
    "This refers to the idea that functions in Julia can have different behavior\n",
    "depending on the particular arguments that they’re passed.\n",
    "\n",
    "Hence in Julia we can take an existing function and give it a new behavior by defining how it acts on a new type of value.\n",
    "\n",
    "The compiler knows which function definition to apply to in a given setting by looking at the types of the values the function is called on.\n",
    "\n",
    "In Julia these alternative versions of a function are called **methods**."
   ]
  },
  {
   "cell_type": "markdown",
   "id": "11da1ffe",
   "metadata": {},
   "source": [
    "## Example: Variations on Fixed Points\n",
    "\n",
    "Take a mapping $ f : X \\to X $ for some set $ X $.\n",
    "\n",
    "If there exists an $ x^* \\in X $ such that $ f(x^*) = x^* $, then $ x^* $: is called a “fixed point” of $ f $.\n",
    "\n",
    "For our second example, we will start with a simple example of determining fixed points of a function.\n",
    "\n",
    "The goal is to start with code in a MATLAB style, and move towards a more **Julian** style with high mathematical clarity."
   ]
  },
  {
   "cell_type": "markdown",
   "id": "363efca5",
   "metadata": {},
   "source": [
    "### Fixed Point Maps\n",
    "\n",
    "Consider the simple equation, where the scalars $ p,\\beta $ are given, and  $ v $ is the scalar we wish to solve for\n",
    "\n",
    "$$\n",
    "v = p + \\beta v\n",
    "$$\n",
    "\n",
    "Of course, in this simple example, with parameter restrictions this can be solved as $ v = p/(1 - \\beta) $.\n",
    "\n",
    "Rearrange the equation in terms of a map $ f(x) : \\mathbb R \\to \\mathbb R $\n",
    "\n",
    "\n",
    "<a id='equation-fixed-point-map'></a>\n",
    "$$\n",
    "v = f(v) \\tag{2.1}\n",
    "$$\n",
    "\n",
    "where\n",
    "\n",
    "$$\n",
    "f(v) := p + \\beta v\n",
    "$$\n",
    "\n",
    "Therefore, a fixed point $ v^* $ of $ f(\\cdot) $ is a solution to the above problem."
   ]
  },
  {
   "cell_type": "markdown",
   "id": "f8a747be",
   "metadata": {},
   "source": [
    "### While Loops\n",
    "\n",
    "One approach to finding a fixed point of [(2.1)](#equation-fixed-point-map) is to start with an initial value, and iterate the map\n",
    "\n",
    "\n",
    "<a id='equation-fixed-point-naive'></a>\n",
    "$$\n",
    "v^{n+1} = f(v^n) \\tag{2.2}\n",
    "$$\n",
    "\n",
    "For this exact `f` function,  we can see the convergence to $ v = p/(1-\\beta) $ when $ |\\beta| < 1 $ by iterating backwards and taking $ n\\to\\infty $\n",
    "\n",
    "$$\n",
    "v^{n+1} = p + \\beta v^n = p + \\beta p + \\beta^2 v^{n-1} = p \\sum_{i=0}^{n-1} \\beta^i + \\beta^n v_0\n",
    "$$\n",
    "\n",
    "To implement the iteration in [(2.2)](#equation-fixed-point-naive), we start by solving this problem with a `while` loop.\n",
    "\n",
    "The syntax for the while loop contains no surprises, and looks nearly identical to a MATLAB implementation."
   ]
  },
  {
   "cell_type": "code",
   "execution_count": null,
   "id": "617ee3f8",
   "metadata": {
    "hide-output": false
   },
   "outputs": [],
   "source": [
    "# poor style\n",
    "p = 1.0 # note 1.0 rather than 1\n",
    "beta = 0.9\n",
    "maxiter = 1000\n",
    "tolerance = 1.0E-7\n",
    "v_iv = 0.8 # initial condition\n",
    "\n",
    "# setup the algorithm\n",
    "v_old = v_iv\n",
    "normdiff = Inf\n",
    "iter = 1\n",
    "while normdiff > tolerance && iter <= maxiter\n",
    "    v_new = p + beta * v_old # the f(v) map\n",
    "    normdiff = norm(v_new - v_old)\n",
    "\n",
    "    # replace and continue\n",
    "    v_old = v_new\n",
    "    iter = iter + 1\n",
    "end\n",
    "println(\"Fixed point = $v_old\n",
    "  |f(x) - x| = $normdiff in $iter iterations\")"
   ]
  },
  {
   "cell_type": "markdown",
   "id": "aa97dfbe",
   "metadata": {},
   "source": [
    "The `while` loop, like the `for` loop should only be used directly in Jupyter or the inside of a function.\n",
    "\n",
    "Here, we have used the `norm` function (from the `LinearAlgebra` base library) to compare the values.\n",
    "\n",
    "The other new function is the `println` with the string interpolation, which splices the value of an expression or variable prefixed by \\$ into a string.\n",
    "\n",
    "An alternative approach is to use a `for` loop, and check for convergence in each iteration."
   ]
  },
  {
   "cell_type": "code",
   "execution_count": null,
   "id": "f80c71fc",
   "metadata": {
    "hide-output": false
   },
   "outputs": [],
   "source": [
    "# setup the algorithm\n",
    "v_old = v_iv\n",
    "normdiff = Inf\n",
    "iter = 1\n",
    "for i in 1:maxiter\n",
    "    v_new = p + beta * v_old # the f(v) map\n",
    "    normdiff = norm(v_new - v_old)\n",
    "    if normdiff < tolerance # check convergence\n",
    "        iter = i\n",
    "        break # converged, exit loop\n",
    "    end\n",
    "    # replace and continue\n",
    "    v_old = v_new\n",
    "end\n",
    "println(\"Fixed point = $v_old\n",
    "  |f(x) - x| = $normdiff in $iter iterations\")"
   ]
  },
  {
   "cell_type": "markdown",
   "id": "bc60469f",
   "metadata": {},
   "source": [
    "The new feature there is `break` , which leaves a `for` or `while` loop."
   ]
  },
  {
   "cell_type": "markdown",
   "id": "d4722a27",
   "metadata": {},
   "source": [
    "### Using a Function\n",
    "\n",
    "The first problem with this setup is that it depends on being sequentially run – which can be easily remedied with a function."
   ]
  },
  {
   "cell_type": "code",
   "execution_count": null,
   "id": "b0c98294",
   "metadata": {
    "hide-output": false
   },
   "outputs": [],
   "source": [
    "# better, but still poor style\n",
    "function v_fp(beta, ρ, v_iv, tolerance, maxiter)\n",
    "    # setup the algorithm\n",
    "    v_old = v_iv\n",
    "    normdiff = Inf\n",
    "    iter = 1\n",
    "    while normdiff > tolerance && iter <= maxiter\n",
    "        v_new = p + beta * v_old # the f(v) map\n",
    "        normdiff = norm(v_new - v_old)\n",
    "\n",
    "        # replace and continue\n",
    "        v_old = v_new\n",
    "        iter = iter + 1\n",
    "    end\n",
    "    return (v_old, normdiff, iter) # returns a tuple\n",
    "end\n",
    "\n",
    "# some values\n",
    "p = 1.0 # note 1.0 rather than 1\n",
    "beta = 0.9\n",
    "maxiter = 1000\n",
    "tolerance = 1.0E-7\n",
    "v_initial = 0.8 # initial condition\n",
    "\n",
    "v_star, normdiff, iter = v_fp(beta, p, v_initial, tolerance, maxiter)\n",
    "println(\"Fixed point = $v_star\n",
    "  |f(x) - x| = $normdiff in $iter iterations\")"
   ]
  },
  {
   "cell_type": "markdown",
   "id": "05b4e0c0",
   "metadata": {},
   "source": [
    "While better, there could still be improvements."
   ]
  },
  {
   "cell_type": "markdown",
   "id": "77e255ae",
   "metadata": {},
   "source": [
    "### Passing a Function\n",
    "\n",
    "The chief issue is that the algorithm (finding a fixed point) is reusable and generic, while the function we calculate `p + beta * v` is specific to our problem.\n",
    "\n",
    "A key feature of languages like Julia, is the ability to efficiently handle functions passed to other functions."
   ]
  },
  {
   "cell_type": "code",
   "execution_count": null,
   "id": "6eb8b507",
   "metadata": {
    "hide-output": false
   },
   "outputs": [],
   "source": [
    "# better style\n",
    "function fixedpointmap(f, iv, tolerance, maxiter)\n",
    "    # setup the algorithm\n",
    "    x_old = iv\n",
    "    normdiff = Inf\n",
    "    iter = 1\n",
    "    while normdiff > tolerance && iter <= maxiter\n",
    "        x_new = f(x_old) # use the passed in map\n",
    "        normdiff = norm(x_new - x_old)\n",
    "        x_old = x_new\n",
    "        iter = iter + 1\n",
    "    end\n",
    "    return (x_old, normdiff, iter)\n",
    "end\n",
    "\n",
    "# define a map and parameters\n",
    "p = 1.0\n",
    "beta = 0.9\n",
    "f(v) = p + beta * v # note that p and beta are used in the function!\n",
    "\n",
    "maxiter = 1000\n",
    "tolerance = 1.0E-7\n",
    "v_initial = 0.8 # initial condition\n",
    "\n",
    "v_star, normdiff, iter = fixedpointmap(f, v_initial, tolerance, maxiter)\n",
    "println(\"Fixed point = $v_star\n",
    "  |f(x) - x| = $normdiff in $iter iterations\")"
   ]
  },
  {
   "cell_type": "markdown",
   "id": "9862d699",
   "metadata": {},
   "source": [
    "Much closer, but there are still hidden bugs if the user orders the settings or returns types wrong."
   ]
  },
  {
   "cell_type": "markdown",
   "id": "44d6a736",
   "metadata": {},
   "source": [
    "### Named Arguments and Return Values\n",
    "\n",
    "To enable this, Julia has two features:  named function parameters, and named tuples"
   ]
  },
  {
   "cell_type": "code",
   "execution_count": null,
   "id": "c85675a4",
   "metadata": {
    "hide-output": false
   },
   "outputs": [],
   "source": [
    "# good style\n",
    "function fixedpointmap(f, iv; tolerance = 1E-7, maxiter = 1000)\n",
    "    # setup the algorithm\n",
    "    x_old = iv\n",
    "    normdiff = Inf\n",
    "    iter = 1\n",
    "    while normdiff > tolerance && iter <= maxiter\n",
    "        x_new = f(x_old) # use the passed in map\n",
    "        normdiff = norm(x_new - x_old)\n",
    "        x_old = x_new\n",
    "        iter = iter + 1\n",
    "    end\n",
    "    return (; value = x_old, normdiff, iter) # A named tuple\n",
    "end\n",
    "\n",
    "# define a map and parameters\n",
    "p = 1.0\n",
    "beta = 0.9\n",
    "f(v) = p + beta * v # note that p and beta are used in the function!\n",
    "\n",
    "sol = fixedpointmap(f, 0.8; tolerance = 1.0E-8) # don't need to pass\n",
    "println(\"Fixed point = $(sol.value)\n",
    "  |f(x) - x| = $(sol.normdiff) in $(sol.iter) iterations\")"
   ]
  },
  {
   "cell_type": "markdown",
   "id": "5035d7e6",
   "metadata": {},
   "source": [
    "In this example, all function parameters after the `;` in the list, must be called by name.\n",
    "\n",
    "Furthermore, a default value may be enabled – so the named parameter `iv` is required while `tolerance` and `maxiter` have default values.\n",
    "\n",
    "The return type of the function also has named fields, `value, normdiff,` and `iter` – all accessed intuitively using `.`.\n",
    "\n",
    "Finally, this shows how named tuples and keyword arguments are constructed from local variable names.  In particular, ` (;value = x_old, normdiff, iter)` is identical to `(value = x_old, normdiff = normdiff, iter = iter)` where anything after the `;` is assumed to be a keyword with the name identical to the local variable.\n",
    "\n",
    "The named tuple notation is also used for unpacking values.  In particular we could have written the execution of this with"
   ]
  },
  {
   "cell_type": "code",
   "execution_count": null,
   "id": "2056a245",
   "metadata": {
    "hide-output": false
   },
   "outputs": [],
   "source": [
    "(; value, normdiff, iter) = fixedpointmap(f, 0.8; tolerance = 1.0E-8)\n",
    "println(\"Fixed point = $value\n",
    "  |f(x) - x| = $normdiff in $iter iterations\")"
   ]
  },
  {
   "cell_type": "markdown",
   "id": "95948c8d",
   "metadata": {},
   "source": [
    "That is, `(; value, normdiff, iter) = expression` is the same as `exp = expression(); value = exp.value, normdiff = exp.normdiff, iter = exp.iter`.\n",
    "\n",
    "To show the flexibility of this code, we can use it to find a fixed point of the non-linear logistic equation, $ x = f(x) $ where $ f(x) := r x (1-x) $."
   ]
  },
  {
   "cell_type": "code",
   "execution_count": null,
   "id": "5b93ec7d",
   "metadata": {
    "hide-output": false
   },
   "outputs": [],
   "source": [
    "r = 2.0\n",
    "f(x) = r * x * (1 - x)\n",
    "\n",
    "sol = fixedpointmap(f, 0.8) # the ; is optional but generally good style\n",
    "println(\"Fixed point = $(sol.value)\n",
    "  |f(x) - x| = $(sol.normdiff) in $(sol.iter) iterations\")"
   ]
  },
  {
   "cell_type": "markdown",
   "id": "6312148c",
   "metadata": {},
   "source": [
    "### Using a Package\n",
    "\n",
    "But best of all is to avoid writing code altogether."
   ]
  },
  {
   "cell_type": "code",
   "execution_count": null,
   "id": "395686bd",
   "metadata": {
    "hide-output": false
   },
   "outputs": [],
   "source": [
    "# best style\n",
    "using NLsolve\n",
    "\n",
    "p = 1.0\n",
    "beta = 0.9\n",
    "f(v) = p .+ beta * v # broadcast the +\n",
    "sol = fixedpoint(f, [0.8]; m = 0)\n",
    "normdiff = norm(f(sol.zero) - sol.zero)\n",
    "println(\"Fixed point = $(sol.zero)\n",
    "  |f(x) - x| = $normdiff in $(sol.iterations) iterations\")"
   ]
  },
  {
   "cell_type": "markdown",
   "id": "605cdb06",
   "metadata": {},
   "source": [
    "The `fixedpoint` function from the `NLsolve.jl` library implements the simple fixed point iteration scheme above.\n",
    "\n",
    "Since the `NLsolve` library only accepts vector based inputs, we needed to make the `f(v)` function broadcast on the `+` sign, and pass in the initial condition as a vector of length 1 with `[0.8]`.\n",
    "\n",
    "While a key benefit of using a package is that the code is clearer, and the implementation is tested, by using an orthogonal library we also enable performance improvements."
   ]
  },
  {
   "cell_type": "code",
   "execution_count": null,
   "id": "d65d7979",
   "metadata": {
    "hide-output": false
   },
   "outputs": [],
   "source": [
    "# best style\n",
    "p = 1.0\n",
    "beta = 0.9\n",
    "iv = [0.8]\n",
    "sol = fixedpoint(v -> p .+ beta * v, iv)\n",
    "fnorm = norm(f(sol.zero) - sol.zero)\n",
    "println(\"Fixed point = $(sol.zero)\n",
    "  |f(x) - x| = $fnorm  in $(sol.iterations) iterations\n",
    "  converged = $(sol.f_converged)\")"
   ]
  },
  {
   "cell_type": "markdown",
   "id": "c68fae6a",
   "metadata": {},
   "source": [
    "Note that this completes in `3` iterations vs `176` for the naive fixed point iteration algorithm.\n",
    "\n",
    "Since Anderson iteration is doing more calculations in an iteration,  whether it is faster or not would depend on the complexity of the `f` function.\n",
    "\n",
    "But this demonstrates the value of keeping the math separate from the algorithm, since by decoupling the mathematical definition of the fixed point from the implementation in [(2.2)](#equation-fixed-point-naive), we were able to exploit new algorithms for finding a fixed point.\n",
    "\n",
    "The only other change in this function is the move from directly defining `f(v)` and using an **anonymous** function.\n",
    "\n",
    "Similar to anonymous functions in MATLAB, and lambda functions in Python, Julia enables the creation of small functions without any names.\n",
    "\n",
    "The code `v -> p .+ beta * v` defines a function of a dummy argument, `v` with the same body as our `f(x)`."
   ]
  },
  {
   "cell_type": "markdown",
   "id": "cfc0935f",
   "metadata": {},
   "source": [
    "### Composing Packages\n",
    "\n",
    "A key benefit of using Julia is that you can compose various packages, types, and techniques, without making changes to your underlying source.\n",
    "\n",
    "As an example, consider if we want to solve the model with a higher-precision, as floating points cannot be distinguished beyond the machine epsilon for that type (recall that computers approximate real numbers to the nearest binary  of a given precision; the *machine epsilon* is the smallest nonzero magnitude).\n",
    "\n",
    "In Julia, this number can be calculated as"
   ]
  },
  {
   "cell_type": "code",
   "execution_count": 37,
   "id": "aacba2e1",
   "metadata": {
    "hide-output": false
   },
   "outputs": [
    {
     "data": {
      "text/plain": [
       "2.220446049250313e-16"
      ]
     },
     "execution_count": 37,
     "metadata": {},
     "output_type": "execute_result"
    }
   ],
   "source": [
    "eps()"
   ]
  },
  {
   "cell_type": "markdown",
   "id": "c301cbed",
   "metadata": {},
   "source": [
    "For many cases, this is sufficient precision – but consider that in iterative algorithms applied millions of times, those small differences can add up.\n",
    "\n",
    "The only change we will need to our model in order to use a different floating point type is to call the function with an arbitrary precision floating point, `BigFloat`, for the initial value."
   ]
  },
  {
   "cell_type": "code",
   "execution_count": null,
   "id": "719f1546",
   "metadata": {
    "hide-output": false
   },
   "outputs": [],
   "source": [
    "# use arbitrary precision floating points\n",
    "p = 1.0\n",
    "beta = 0.9\n",
    "iv = [BigFloat(0.8)] # higher precision\n",
    "\n",
    "# otherwise identical\n",
    "sol = fixedpoint(v -> p .+ beta * v, iv)\n",
    "normdiff = norm(f(sol.zero) - sol.zero)\n",
    "println(\"Fixed point = $(sol.zero)\n",
    "  |f(x) - x| = $normdiff in $(sol.iterations) iterations\")"
   ]
  },
  {
   "cell_type": "markdown",
   "id": "fc5ca8fd",
   "metadata": {},
   "source": [
    "Here, the literal `BigFloat(0.8)` takes the number `0.8` and changes it to an arbitrary precision number.\n",
    "\n",
    "The result is that the residual is now **exactly** `0.0` since it is able to use arbitrary precision in the calculations, and the solution has a finite-precision solution with those parameters."
   ]
  },
  {
   "cell_type": "markdown",
   "id": "d754ed70",
   "metadata": {},
   "source": [
    "### Multivariate Fixed Point Maps\n",
    "\n",
    "The above example can be extended to multivariate maps without any modifications to the fixed point iteration code.\n",
    "\n",
    "Using our own, homegrown iteration and simply passing in a bivariate map:"
   ]
  },
  {
   "cell_type": "code",
   "execution_count": null,
   "id": "a31e05c4",
   "metadata": {
    "hide-output": false
   },
   "outputs": [],
   "source": [
    "p = [1.0, 2.0]\n",
    "beta = 0.9\n",
    "iv = [0.8, 2.0]\n",
    "f(v) = p .+ beta * v # note that p and beta are used in the function!\n",
    "\n",
    "sol = fixedpointmap(f, iv; tolerance = 1.0E-8)\n",
    "println(\"Fixed point = $(sol.value)\n",
    "  |f(x) - x| = $(sol.normdiff) in $(sol.iter) iterations\")"
   ]
  },
  {
   "cell_type": "markdown",
   "id": "2c41e89a",
   "metadata": {},
   "source": [
    "This also works without any modifications with the `fixedpoint` library function."
   ]
  },
  {
   "cell_type": "code",
   "execution_count": null,
   "id": "163e9c1a",
   "metadata": {
    "hide-output": false
   },
   "outputs": [],
   "source": [
    "using NLsolve\n",
    "\n",
    "p = [1.0, 2.0, 0.1]\n",
    "beta = 0.9\n",
    "iv = [0.8, 2.0, 51.0]\n",
    "f(v) = p .+ beta * v\n",
    "\n",
    "sol = fixedpoint(v -> p .+ beta * v, iv)\n",
    "normdiff = norm(f(sol.zero) - sol.zero)\n",
    "println(\"Fixed point = $(sol.zero)\n",
    "  |f(x) - x| = $normdiff in $(sol.iterations) iterations\")"
   ]
  },
  {
   "cell_type": "markdown",
   "id": "e4ce687a",
   "metadata": {},
   "source": [
    "Finally, to demonstrate the importance of composing different libraries, use a `StaticArrays.jl` type, which provides an efficient implementation for small arrays and matrices."
   ]
  },
  {
   "cell_type": "code",
   "execution_count": null,
   "id": "b02e91de",
   "metadata": {
    "hide-output": false
   },
   "outputs": [],
   "source": [
    "using NLsolve, StaticArrays\n",
    "p = @SVector [1.0, 2.0, 0.1]\n",
    "beta = 0.9\n",
    "iv = [0.8, 2.0, 51.0]\n",
    "f(v) = p .+ beta * v\n",
    "\n",
    "sol = fixedpoint(v -> p .+ beta * v, iv)\n",
    "normdiff = norm(f(sol.zero) - sol.zero)\n",
    "println(\"Fixed point = $(sol.zero)\n",
    "  |f(x) - x| = $normdiff in $(sol.iterations) iterations\")"
   ]
  },
  {
   "cell_type": "markdown",
   "id": "a8773bcc",
   "metadata": {},
   "source": [
    "The `@SVector` in front of the `[1.0, 2.0, 0.1]` is a macro for turning a vector literal into a static vector.\n",
    "\n",
    "All macros in Julia are prefixed by `@` in the name, and manipulate the code prior to compilation.\n",
    "\n",
    "We will see a variety of macros, and discuss the “metaprogramming” behind them in a later lecture."
   ]
  },
  {
   "cell_type": "markdown",
   "id": "4d3898fb",
   "metadata": {},
   "source": [
    "## Exercises\n",
    "\n",
    "\n",
    "<a id='jbe-ex1'></a>"
   ]
  },
  {
   "cell_type": "markdown",
   "id": "c3b5a78c",
   "metadata": {},
   "source": [
    "### Exercise 1\n",
    "\n",
    "Recall that $ n! $ is read as “$ n $ factorial” and defined as\n",
    "$ n! = n \\times (n - 1) \\times \\cdots \\times 2 \\times 1 $.\n",
    "\n",
    "In Julia you can compute this value with `factorial(n)`.\n",
    "\n",
    "Write your own version of this function, called `factorial2`, using a `for` loop.\n",
    "\n",
    "\n",
    "<a id='jbe-ex2'></a>"
   ]
  },
  {
   "cell_type": "markdown",
   "id": "043848f1",
   "metadata": {},
   "source": [
    "### Exercise 2\n",
    "\n",
    "The [binomial random variable](https://en.wikipedia.org/wiki/Binomial_distribution) $ Y \\sim Bin(n, p) $ represents\n",
    "\n",
    "- number of successes in $ n $ binary trials  \n",
    "- each trial succeeds with probability $ p $  \n",
    "\n",
    "\n",
    "Using only `rand()` from the set of Julia’s built-in random number\n",
    "generators (not the `Distributions` package), write a function `binomial_rv` such that `binomial_rv(n, p)` generates one draw of $ Y $.\n",
    "\n",
    "Hint: If $ U $ is uniform on $ (0, 1) $ and $ p \\in (0,1) $, then the expression `U < p` evaluates to `true` with probability $ p $.\n",
    "\n",
    "\n",
    "<a id='jbe-ex3'></a>"
   ]
  },
  {
   "cell_type": "markdown",
   "id": "32a8367e",
   "metadata": {},
   "source": [
    "### Exercise 3\n",
    "\n",
    "Compute an approximation to $ \\pi $ using Monte Carlo.\n",
    "\n",
    "For random number generation use only `rand()`.\n",
    "\n",
    "Your hints are as follows:\n",
    "\n",
    "- If $ U $ is a bivariate uniform random variable on the unit square $ (0, 1)^2 $, then the probability that $ U $ lies in a subset $ B $ of $ (0,1)^2 $ is equal to the area of $ B $.  \n",
    "- If $ U_1,\\ldots,U_n $ are iid copies of $ U $, then, as $ n $ gets larger, the fraction that falls in $ B $ converges to the probability of landing in $ B $.  \n",
    "- For a circle, area = π * $ radius^2 $.  \n",
    "\n",
    "\n",
    "\n",
    "<a id='jbe-ex4'></a>"
   ]
  },
  {
   "cell_type": "markdown",
   "id": "a4ec86e3",
   "metadata": {},
   "source": [
    "### Exercise 4\n",
    "\n",
    "Write a program that prints one realization of the following random device:\n",
    "\n",
    "- Flip an unbiased coin 10 times.  \n",
    "- If 3 consecutive heads occur one or more times within this sequence, pay one dollar.  \n",
    "- If not, pay nothing.  \n",
    "\n",
    "\n",
    "Once again use only `rand()` as your random number generator.\n",
    "\n",
    "\n",
    "<a id='jbe-ex5'></a>"
   ]
  },
  {
   "cell_type": "markdown",
   "id": "6e77f482",
   "metadata": {},
   "source": [
    "### Exercise 5\n",
    "\n",
    "Simulate and plot the correlated time series\n",
    "\n",
    "$$\n",
    "x_{t+1} = \\alpha \\, x_t + \\epsilon_{t+1}\n",
    "\\quad \\text{where} \\quad\n",
    "x_0 = 0\n",
    "\\quad \\text{and} \\quad t = 0,\\ldots,n\n",
    "$$\n",
    "\n",
    "The sequence of shocks $ \\{\\epsilon_t\\} $ is assumed to be iid and standard normal.\n",
    "\n",
    "Set $ n = 200 $ and $ \\alpha = 0.9 $.\n",
    "\n",
    "\n",
    "<a id='jbe-ex6'></a>"
   ]
  },
  {
   "cell_type": "markdown",
   "id": "81c4aaa0",
   "metadata": {},
   "source": [
    "### Exercise 6\n",
    "\n",
    "Plot three simulated time series, one for each of the cases $ \\alpha = 0 $, $ \\alpha = 0.8 $ and $ \\alpha = 0.98 $.\n",
    "\n",
    "(The figure will illustrate how time series with the same one-step-ahead conditional volatilities, as these three processes have, can have very different unconditional volatilities)\n",
    "\n",
    "\n",
    "<a id='jbe-ex7'></a>"
   ]
  },
  {
   "cell_type": "markdown",
   "id": "da21c49b",
   "metadata": {},
   "source": [
    "### Exercise 7\n",
    "\n",
    "This exercise is more challenging.\n",
    "\n",
    "Take a random walk, starting from $ x_0 = 1 $\n",
    "\n",
    "$$\n",
    "x_{t+1} = \\, \\alpha \\, x_t + \\sigma\\, \\epsilon_{t+1}\n",
    "\\quad \\text{where} \\quad\n",
    "x_0 = 1\n",
    "\\quad \\text{and} \\quad t = 0,\\ldots,t_{\\max}\n",
    "$$\n",
    "\n",
    "- Furthermore, assume that the $ x_{t_{\\max}} = 0 $  (i.e. at $ t_{\\max} $, the value drops to zero, regardless of its current state).  \n",
    "- The sequence of shocks $ \\{\\epsilon_t\\} $ is assumed to be iid and standard normal.  \n",
    "- For a given path $ \\{x_t\\} $ define a **first-passage time** as $ T_a = \\min\\{t\\, |\\, x_t \\leq a\\} $, where by the assumption of the process $ T_a \\leq t_{\\max} $.  \n",
    "\n",
    "\n",
    "Start with $ \\sigma = 0.2, \\alpha = 1.0 $\n",
    "\n",
    "1. calculate the first-passage time, $ T_0 $, for 100 simulated random walks – to a $ t_{\\max} = 200 $ and plot a histogram  \n",
    "1. plot the sample mean of $ T_0 $ from the simulation for $ \\alpha \\in \\{0.8, 1.0, 1.2\\} $  \n",
    "\n",
    "\n",
    "\n",
    "<a id='jbe-ex8a'></a>"
   ]
  },
  {
   "cell_type": "markdown",
   "id": "215eaba9",
   "metadata": {},
   "source": [
    "### Exercise 8(a)\n",
    "\n",
    "This exercise is more challenging.\n",
    "\n",
    "The root of a univariate function $ f(\\cdot) $ is an $ x $ such that $ f(x) = 0 $.\n",
    "\n",
    "One solution method to find local roots of smooth functions is called Newton’s method.\n",
    "\n",
    "Starting with an $ x_0 $ guess, a function $ f(\\cdot) $ and the first-derivative $ f'(\\cdot) $, the algorithm is to repeat\n",
    "\n",
    "$$\n",
    "x^{n+1} = x^n - \\frac{f(x^n)}{f'(x^n)}\n",
    "$$\n",
    "\n",
    "until $ | x^{n+1} - x^n| $ is below a tolerance\n",
    "\n",
    "1. Use a variation of the `fixedpointmap` code to implement Newton’s method, where the function would accept arguments `f, f_prime, x_0, tolerance, maxiter`.  \n",
    "1. Test it with $ f(x) = (x-1)^3 $ and another function of your choice where you can analytically find the derivative.  "
   ]
  },
  {
   "cell_type": "markdown",
   "id": "3ecb024a",
   "metadata": {},
   "source": [
    "### Exercise 8(b)\n",
    "\n",
    "For those impatient to use more advanced features of Julia, implement a version of Exercise 8(a) where `f_prime` is calculated with auto-differentiation."
   ]
  },
  {
   "cell_type": "code",
   "execution_count": null,
   "id": "11037f15",
   "metadata": {
    "hide-output": false
   },
   "outputs": [],
   "source": [
    "using ForwardDiff\n",
    "\n",
    "# operator to get the derivative of this function using AD\n",
    "D(f) = x -> ForwardDiff.derivative(f, x)\n",
    "\n",
    "# example usage: create a function and get the derivative\n",
    "f(x) = x^2\n",
    "f_prime = D(f)\n",
    "\n",
    "f(0.1), f_prime(0.1)"
   ]
  },
  {
   "cell_type": "markdown",
   "id": "e7dc779b",
   "metadata": {},
   "source": [
    "1. Using the `D(f)` operator definition above, implement a version of Newton’s method that does not require the user to provide an analytical derivative.  \n",
    "1. Test the sorts of `f` functions which can be automatically integrated by `ForwardDff.jl`.  "
   ]
  },
  {
   "cell_type": "markdown",
   "id": "d98fc986",
   "metadata": {},
   "source": [
    "## Solutions"
   ]
  },
  {
   "cell_type": "markdown",
   "id": "1e9a2a98",
   "metadata": {},
   "source": [
    "### Exercise 1"
   ]
  },
  {
   "cell_type": "code",
   "execution_count": null,
   "id": "341fe8e2",
   "metadata": {
    "hide-output": false
   },
   "outputs": [],
   "source": [
    "function factorial2(n)\n",
    "    k = 1\n",
    "    for i in 1:n\n",
    "        k *= i  # or k = k * i\n",
    "    end\n",
    "    return k\n",
    "end\n",
    "\n",
    "factorial2(4)"
   ]
  },
  {
   "cell_type": "code",
   "execution_count": null,
   "id": "925bb4e3",
   "metadata": {
    "hide-output": false
   },
   "outputs": [],
   "source": [
    "factorial2(4) == factorial(4) # built-in function"
   ]
  },
  {
   "cell_type": "markdown",
   "id": "f0eba81e",
   "metadata": {},
   "source": [
    "### Exercise 2"
   ]
  },
  {
   "cell_type": "code",
   "execution_count": null,
   "id": "d9f69dab",
   "metadata": {
    "hide-output": false
   },
   "outputs": [],
   "source": [
    "function binomial_rv(n, p)\n",
    "    count = 0\n",
    "    U = rand(n)\n",
    "    for i in 1:n\n",
    "        if U[i] < p\n",
    "            count += 1 # or count = count + 1\n",
    "        end\n",
    "    end\n",
    "    return count\n",
    "end\n",
    "\n",
    "for j in 1:25\n",
    "    b = binomial_rv(10, 0.5)\n",
    "    print(\"$b, \")\n",
    "end"
   ]
  },
  {
   "cell_type": "markdown",
   "id": "ec3f3dd7",
   "metadata": {},
   "source": [
    "### Exercise 3\n",
    "\n",
    "Consider a circle with diameter 1 embedded in a unit square.\n",
    "\n",
    "Let $ A $ be its area and let $ r = 1/2 $ be its radius.\n",
    "\n",
    "If we know $ \\pi $ then we can compute $ A $ via\n",
    "$ A = \\pi r^2 $.\n",
    "\n",
    "But the point here is to compute $ \\pi $, which we can do by\n",
    "$ \\pi = A / r^2 $.\n",
    "\n",
    "Summary: If we can estimate the area of the unit circle, then dividing\n",
    "by $ r^2 = (1/2)^2 = 1/4 $ gives an estimate of $ \\pi $.\n",
    "\n",
    "We estimate the area by sampling bivariate uniforms and looking at the\n",
    "fraction that fall into the unit circle."
   ]
  },
  {
   "cell_type": "code",
   "execution_count": null,
   "id": "d03e3cee",
   "metadata": {
    "hide-output": false
   },
   "outputs": [],
   "source": [
    "n = 1000000\n",
    "count = 0\n",
    "for i in 1:n\n",
    "    u, v = rand(2)\n",
    "    d = sqrt((u - 0.5)^2 + (v - 0.5)^2)  # distance from middle of square\n",
    "    if d < 0.5\n",
    "        count += 1\n",
    "    end\n",
    "end\n",
    "\n",
    "area_estimate = count / n\n",
    "\n",
    "print(area_estimate * 4)  # dividing by radius**2"
   ]
  },
  {
   "cell_type": "markdown",
   "id": "40ccc90d",
   "metadata": {},
   "source": [
    "### Exercise 4"
   ]
  },
  {
   "cell_type": "code",
   "execution_count": null,
   "id": "4945cb0e",
   "metadata": {
    "hide-output": false
   },
   "outputs": [],
   "source": [
    "payoff = 0\n",
    "count = 0\n",
    "\n",
    "print(\"Count = \")\n",
    "\n",
    "for i in 1:10\n",
    "    U = rand()\n",
    "    if U < 0.5\n",
    "        count += 1\n",
    "    else\n",
    "        count = 0\n",
    "    end\n",
    "    print(count)\n",
    "    if count == 3\n",
    "        payoff = 1\n",
    "    end\n",
    "end\n",
    "println(\"\\npayoff = $payoff\")"
   ]
  },
  {
   "cell_type": "markdown",
   "id": "7d418173",
   "metadata": {},
   "source": [
    "We can simplify this somewhat using the **ternary operator**. Here are\n",
    "some examples"
   ]
  },
  {
   "cell_type": "code",
   "execution_count": null,
   "id": "13d326a5",
   "metadata": {
    "hide-output": false
   },
   "outputs": [],
   "source": [
    "a = 1 < 2 ? \"foo\" : \"bar\""
   ]
  },
  {
   "cell_type": "code",
   "execution_count": null,
   "id": "3c1b5214",
   "metadata": {
    "hide-output": false
   },
   "outputs": [],
   "source": [
    "a = 1 > 2 ? \"foo\" : \"bar\""
   ]
  },
  {
   "cell_type": "markdown",
   "id": "c614af3a",
   "metadata": {},
   "source": [
    "Using this construction:"
   ]
  },
  {
   "cell_type": "code",
   "execution_count": null,
   "id": "b4e26abb",
   "metadata": {
    "hide-output": false
   },
   "outputs": [],
   "source": [
    "payoff = 0.0\n",
    "count = 0.0\n",
    "\n",
    "print(\"Count = \")\n",
    "\n",
    "for i in 1:10\n",
    "    U = rand()\n",
    "    count = U < 0.5 ? count + 1 : 0\n",
    "    print(count)\n",
    "    if count == 3\n",
    "        payoff = 1\n",
    "    end\n",
    "end\n",
    "println(\"\\npayoff = $payoff\")"
   ]
  },
  {
   "cell_type": "markdown",
   "id": "d6c804fd",
   "metadata": {},
   "source": [
    "### Exercise 5\n",
    "\n",
    "Here’s one solution"
   ]
  },
  {
   "cell_type": "code",
   "execution_count": null,
   "id": "a158fbaf",
   "metadata": {
    "hide-output": false
   },
   "outputs": [],
   "source": [
    "using Plots\n",
    "alpha = 0.9\n",
    "n = 200\n",
    "x = zeros(n + 1)\n",
    "\n",
    "for t in 1:n\n",
    "    x[t + 1] = alpha * x[t] + randn()\n",
    "end\n",
    "plot(x)"
   ]
  },
  {
   "cell_type": "markdown",
   "id": "c03a214b",
   "metadata": {},
   "source": [
    "### Exercise 6"
   ]
  },
  {
   "cell_type": "code",
   "execution_count": null,
   "id": "b55cbe14",
   "metadata": {
    "hide-output": false
   },
   "outputs": [],
   "source": [
    "alphas = [0.0, 0.8, 0.98]\n",
    "n = 200\n",
    "p = plot() # naming a plot to add to\n",
    "\n",
    "for alpha in alphas\n",
    "    x = zeros(n + 1)\n",
    "    x[1] = 0.0\n",
    "    for t in 1:n\n",
    "        x[t + 1] = alpha * x[t] + randn()\n",
    "    end\n",
    "    plot!(p, x, label = \"alpha = $alpha\") # add to plot p\n",
    "end\n",
    "p # display plot"
   ]
  },
  {
   "cell_type": "markdown",
   "id": "ac7b9c58",
   "metadata": {},
   "source": [
    "### Exercise 7: Hint\n",
    "\n",
    "As a hint, notice the following pattern for finding the number of draws of a uniform random number until it is below a given threshold"
   ]
  },
  {
   "cell_type": "code",
   "execution_count": null,
   "id": "b651f26f",
   "metadata": {
    "hide-output": false
   },
   "outputs": [],
   "source": [
    "function drawsuntilthreshold(threshold; maxdraws = 100)\n",
    "    for i in 1:maxdraws\n",
    "        val = rand()\n",
    "        if val < threshold # checks threshold\n",
    "            return i # leaves function, returning draw number\n",
    "        end\n",
    "    end\n",
    "    return Inf # if here, reached maxdraws\n",
    "end\n",
    "\n",
    "draws = drawsuntilthreshold(0.1; maxdraws = 100)"
   ]
  },
  {
   "cell_type": "markdown",
   "id": "0c1bc285",
   "metadata": {},
   "source": [
    "Additionally, it is sometimes convenient to add to just push numbers onto an array without indexing it directly"
   ]
  },
  {
   "cell_type": "code",
   "execution_count": null,
   "id": "ef498437",
   "metadata": {
    "hide-output": false
   },
   "outputs": [],
   "source": [
    "vals = zeros(0) # empty vector\n",
    "\n",
    "for i in 1:100\n",
    "    val = rand()\n",
    "    if val < 0.5\n",
    "        push!(vals, val)\n",
    "    end\n",
    "end\n",
    "println(\"There were $(length(vals)) below 0.5\")"
   ]
  }
 ],
 "metadata": {
  "date": 1704478552.0527196,
  "filename": "julia_by_example.md",
  "kernelspec": {
   "display_name": "Julia 1.10.5",
   "language": "julia",
   "name": "julia-1.10"
  },
  "language_info": {
   "file_extension": ".jl",
   "mimetype": "application/julia",
   "name": "julia",
   "version": "1.10.5"
  },
  "title": "Introductory Examples"
 },
 "nbformat": 4,
 "nbformat_minor": 5
}
